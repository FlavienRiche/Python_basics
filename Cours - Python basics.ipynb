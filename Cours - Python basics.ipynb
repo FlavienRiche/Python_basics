{
 "cells": [
  {
   "cell_type": "markdown",
   "id": "fba8084c",
   "metadata": {},
   "source": [
    "# Python basis\n",
    "\n",
    "#### 1) Variables\n",
    "#### 2) Display\n",
    "#### 3) Lists\n",
    "#### 4) Loops and comparisons\n",
    "#### 5) Files\n",
    "#### 6) Modules\n",
    "#### 7) Functions\n",
    "#### 8) Classes\n",
    "#### 9) Strings\n",
    "#### 10) Dictionaries, Tuples, Set and collections\n",
    "#### 11) Tests\n",
    "#### 12) Libraries\n",
    "#### 13) Command line\n",
    "#### 14) Regex\n",
    "#### 15) Pandas, Numpy and Matplotlib"
   ]
  },
  {
   "cell_type": "markdown",
   "id": "15f7ea24",
   "metadata": {},
   "source": [
    "# 1) Variables"
   ]
  },
  {
   "cell_type": "markdown",
   "id": "20ca3207",
   "metadata": {},
   "source": [
    "### Define variable"
   ]
  },
  {
   "cell_type": "code",
   "execution_count": 3,
   "id": "053d98b9",
   "metadata": {},
   "outputs": [],
   "source": [
    "num = 1\n",
    "string = \"Variable\"\n",
    "float_var = 3.14\n",
    "bool_var = True\n",
    "# Please, do not use python function has variable name\n",
    "# Rules for naming a-z; 0-9; _"
   ]
  },
  {
   "cell_type": "markdown",
   "id": "77ad0247",
   "metadata": {},
   "source": [
    "### Look at variable type"
   ]
  },
  {
   "cell_type": "code",
   "execution_count": 4,
   "id": "e8e45715",
   "metadata": {},
   "outputs": [
    {
     "name": "stdout",
     "output_type": "stream",
     "text": [
      "<class 'int'>\n",
      "<class 'str'>\n",
      "<class 'float'>\n",
      "<class 'bool'>\n"
     ]
    }
   ],
   "source": [
    "print(type(num))\n",
    "print(type(string))\n",
    "print(type(float_var))\n",
    "print(type(bool_var))\n",
    "# print just a display function (not give the type)"
   ]
  },
  {
   "cell_type": "markdown",
   "id": "15f69b42",
   "metadata": {},
   "source": [
    "### Convert type"
   ]
  },
  {
   "cell_type": "code",
   "execution_count": 5,
   "id": "66536821",
   "metadata": {},
   "outputs": [
    {
     "name": "stdout",
     "output_type": "stream",
     "text": [
      "1\n",
      "1\n",
      "1.0\n",
      "<class 'int'>\n",
      "<class 'str'>\n",
      "<class 'float'>\n"
     ]
    }
   ],
   "source": [
    "num2 = \"1\"\n",
    "\n",
    "# string to integer\n",
    "new_num2 = int(num2)\n",
    "\n",
    "# integer to string\n",
    "new_num = str(num)\n",
    "\n",
    "# float to numeric\n",
    "new_num_float = float(num)\n",
    "\n",
    "print(new_num2)\n",
    "print(new_num)\n",
    "print(new_num_float)\n",
    "\n",
    "print(type(new_num2))\n",
    "print(type(new_num))\n",
    "print(type(new_num_float))\n"
   ]
  },
  {
   "cell_type": "markdown",
   "id": "fe850529",
   "metadata": {},
   "source": [
    "### Numerical operations"
   ]
  },
  {
   "cell_type": "code",
   "execution_count": 6,
   "id": "6c52e512",
   "metadata": {},
   "outputs": [
    {
     "name": "stdout",
     "output_type": "stream",
     "text": [
      "27\n",
      "19\n",
      "92\n",
      "5.75\n",
      "16\n",
      "5\n",
      "3\n",
      "1200000000000.0\n"
     ]
    }
   ],
   "source": [
    "var1 = 23\n",
    "var2 = 4\n",
    "\n",
    "# sum\n",
    "sum1 = var1 + var2\n",
    "print(sum1)\n",
    "\n",
    "# difference\n",
    "diff1 = var1 - var2\n",
    "print(diff1)\n",
    "\n",
    "# multiplication\n",
    "mut1 = var1 * var2\n",
    "print(mut1)\n",
    "\n",
    "# division\n",
    "div1 = var1 / var2\n",
    "print(div1)\n",
    "\n",
    "# exposant\n",
    "exp = var2 ** 2\n",
    "print(exp)\n",
    "\n",
    "# quotient\n",
    "quo = var1 // var2\n",
    "print(quo)\n",
    "\n",
    "# modulo\n",
    "mod = var1 % var2\n",
    "print(mod)\n",
    "\n",
    "# exp 10\n",
    "exp10n = 120e10\n",
    "print(exp10n)"
   ]
  },
  {
   "cell_type": "markdown",
   "id": "e9fda0c4",
   "metadata": {},
   "source": [
    "# 2) Display"
   ]
  },
  {
   "cell_type": "markdown",
   "id": "5fa99800",
   "metadata": {},
   "source": [
    "### Easy print usage"
   ]
  },
  {
   "cell_type": "code",
   "execution_count": 7,
   "id": "687afd04",
   "metadata": {},
   "outputs": [
    {
     "name": "stdout",
     "output_type": "stream",
     "text": [
      "Hello world\n",
      "We are AMSE\n",
      "We are AMSE\n",
      "We are AMSE\n",
      "WeareAMSE\n",
      "We are 20 students\n"
     ]
    }
   ],
   "source": [
    "print(\"Hello world\")\n",
    "\n",
    "AMSE_word = \"AMSE\"\n",
    "print(\"We are\", AMSE_word)\n",
    "print(\"We\", \"are\", AMSE_word)\n",
    "print(\"We\", \"are\", AMSE_word, sep =\" \")\n",
    "print(\"We\", \"are\", AMSE_word, sep =\"\")\n",
    "\n",
    "nbr_students = 20\n",
    "print(\"We\", \"are\", nbr_students, \"students\")"
   ]
  },
  {
   "cell_type": "markdown",
   "id": "b4c09b34",
   "metadata": {},
   "source": [
    "### f-print method"
   ]
  },
  {
   "cell_type": "code",
   "execution_count": 8,
   "id": "7ccd8fe6",
   "metadata": {},
   "outputs": [
    {
     "name": "stdout",
     "output_type": "stream",
     "text": [
      "We are 20 AMSE students\n"
     ]
    }
   ],
   "source": [
    "print(f\"We are { nbr_students } {AMSE_word } students\")"
   ]
  },
  {
   "cell_type": "code",
   "execution_count": 9,
   "id": "ab2ddd41",
   "metadata": {},
   "outputs": [
    {
     "name": "stdout",
     "output_type": "stream",
     "text": [
      "We know that Pi is 3.14\n"
     ]
    }
   ],
   "source": [
    "pi = 3.14159265359\n",
    "print(f\"We know that Pi is {pi:.2f}\")"
   ]
  },
  {
   "cell_type": "markdown",
   "id": "97066474",
   "metadata": {},
   "source": [
    "### Deprecated method"
   ]
  },
  {
   "cell_type": "code",
   "execution_count": 10,
   "id": "0d83bf39",
   "metadata": {},
   "outputs": [
    {
     "name": "stdout",
     "output_type": "stream",
     "text": [
      "We are 20 AMSE students\n"
     ]
    }
   ],
   "source": [
    "print(\"We are %d %s students\" % (nbr_students, AMSE_word))"
   ]
  },
  {
   "cell_type": "markdown",
   "id": "05f927d3",
   "metadata": {},
   "source": [
    "# Lists"
   ]
  },
  {
   "cell_type": "markdown",
   "id": "ea7a7357",
   "metadata": {},
   "source": [
    "### List creation"
   ]
  },
  {
   "cell_type": "code",
   "execution_count": 11,
   "id": "3e16c72d",
   "metadata": {},
   "outputs": [],
   "source": [
    "# Creation\n",
    "country_list = [\"France\", \"Belgium\", \"UK\", \"USA\", \"Spain\", \"Italy\", \"Germany\"]\n",
    "\n",
    "# Conversion\n",
    "tuple1 = (\"Paris\", \"Brussel\", \"London\", \"Washinghon\", \"Madrid\", \"Roma\", \"Berlin\")\n",
    "city_list = list(tuple1)"
   ]
  },
  {
   "cell_type": "markdown",
   "id": "bdffde18",
   "metadata": {},
   "source": [
    "### Index"
   ]
  },
  {
   "cell_type": "code",
   "execution_count": 12,
   "id": "429db129",
   "metadata": {},
   "outputs": [
    {
     "name": "stdout",
     "output_type": "stream",
     "text": [
      "Belgium\n",
      "Washinghon\n",
      "Germany\n",
      "Spain\n"
     ]
    }
   ],
   "source": [
    "print(country_list[1])\n",
    "print(city_list[3])\n",
    "\n",
    "# Reverse index\n",
    "print(country_list[-1])\n",
    "print(country_list[-3])"
   ]
  },
  {
   "cell_type": "markdown",
   "id": "40b45547",
   "metadata": {},
   "source": [
    "### List subset"
   ]
  },
  {
   "cell_type": "code",
   "execution_count": 62,
   "id": "38803443",
   "metadata": {},
   "outputs": [
    {
     "name": "stdout",
     "output_type": "stream",
     "text": [
      "['France', 'Belgium', 'UK']\n",
      "['Belgium', 'UK', 'USA', 'Spain']\n",
      "['UK', 'USA', 'Spain', 'Italy']\n"
     ]
    }
   ],
   "source": [
    "print(country_list[0:3])\n",
    "print(country_list[1:5])\n",
    "print(country_list[2:-1])"
   ]
  },
  {
   "cell_type": "markdown",
   "id": "d8d96680",
   "metadata": {},
   "source": [
    "### List concatenation"
   ]
  },
  {
   "cell_type": "code",
   "execution_count": 63,
   "id": "8a1f185e",
   "metadata": {},
   "outputs": [
    {
     "data": {
      "text/plain": [
       "['France',\n",
       " 'Belgium',\n",
       " 'UK',\n",
       " 'USA',\n",
       " 'Spain',\n",
       " 'Italy',\n",
       " 'Germany',\n",
       " 'Paris',\n",
       " 'Brussel',\n",
       " 'London',\n",
       " 'Washinghon',\n",
       " 'Madrid',\n",
       " 'Roma',\n",
       " 'Berlin']"
      ]
     },
     "execution_count": 63,
     "metadata": {},
     "output_type": "execute_result"
    }
   ],
   "source": [
    "country_list + city_list"
   ]
  },
  {
   "cell_type": "code",
   "execution_count": 66,
   "id": "7071cc15",
   "metadata": {},
   "outputs": [
    {
     "name": "stdout",
     "output_type": "stream",
     "text": [
      "[['France', 'Belgium', 'UK', 'USA', 'Spain', 'Italy', 'Germany'], ['Paris', 'Brussel', 'London', 'Washinghon', 'Madrid', 'Roma', 'Berlin']]\n",
      "['Paris', 'Brussel', 'London', 'Washinghon', 'Madrid', 'Roma', 'Berlin']\n"
     ]
    }
   ],
   "source": [
    "### List of lists\n",
    "list_of_lists = [country_list, city_list]\n",
    "print(list_of_lists)\n",
    "print(list_of_lists[1])"
   ]
  },
  {
   "cell_type": "markdown",
   "id": "0e357289",
   "metadata": {},
   "source": [
    "### Operation with lists"
   ]
  },
  {
   "cell_type": "code",
   "execution_count": 15,
   "id": "634cfb8d",
   "metadata": {},
   "outputs": [
    {
     "name": "stdout",
     "output_type": "stream",
     "text": [
      "76\n",
      "20\n",
      "1\n"
     ]
    }
   ],
   "source": [
    "nbr_list = [1, 5, 8, 10, 15, 17, 20]\n",
    "print(sum(nbr_list))\n",
    "print(max(nbr_list))\n",
    "print(min(nbr_list))"
   ]
  },
  {
   "cell_type": "markdown",
   "id": "a95f8d25",
   "metadata": {},
   "source": [
    "### Specific functions"
   ]
  },
  {
   "cell_type": "code",
   "execution_count": 2,
   "id": "8adc29bd",
   "metadata": {},
   "outputs": [
    {
     "name": "stdout",
     "output_type": "stream",
     "text": [
      "['France', 'Belgium', 'UK', 'USA', 'Spain', 'Italy', 'Germany', 'Poland']\n",
      "['France', 'Belgium', 'UK', 'USA', 'Spain', 'Italy', 'Germany']\n",
      "['France', 'Belgium', 'UK', 'Ireland', 'USA', 'Spain', 'Italy', 'Germany']\n",
      "['France', 'Belgium', 'UK', 'USA', 'Spain', 'Italy', 'Germany']\n",
      "7\n"
     ]
    }
   ],
   "source": [
    "# add an element\n",
    "country_list.append(\"Poland\")\n",
    "print(country_list)\n",
    "\n",
    "# remove an element\n",
    "country_list.remove(\"Poland\")\n",
    "print(country_list)\n",
    "\n",
    "# insert a new\n",
    "country_list.insert(3, \"Ireland\")\n",
    "print(country_list)\n",
    "\n",
    "# remove an element\n",
    "del country_list[3]\n",
    "print(country_list)\n",
    "\n",
    "# length\n",
    "print(len(country_list))\n"
   ]
  },
  {
   "cell_type": "code",
   "execution_count": 23,
   "id": "3665ff59",
   "metadata": {},
   "outputs": [
    {
     "data": {
      "text/plain": [
       "[1, 5, 8, 10]"
      ]
     },
     "execution_count": 23,
     "metadata": {},
     "output_type": "execute_result"
    }
   ],
   "source": [
    "# Sort list\n",
    "nbr_list = [5, 1, 10, 8]\n",
    "print(sorted(nbr_list))\n",
    "\n",
    "nbr_list.sort()\n",
    "print(nbr_list)"
   ]
  },
  {
   "cell_type": "markdown",
   "id": "97ad77d8",
   "metadata": {},
   "source": [
    "### Create list by iteration"
   ]
  },
  {
   "cell_type": "code",
   "execution_count": 4,
   "id": "8aee07ba",
   "metadata": {},
   "outputs": [
    {
     "name": "stdout",
     "output_type": "stream",
     "text": [
      "[0, 5, 10, 15, 20, 25, 30, 35, 40, 45]\n"
     ]
    }
   ],
   "source": [
    "new_list = []\n",
    "for i in range(0,10):\n",
    "    new_list.append(i*5)\n",
    "    \n",
    "print(new_list)"
   ]
  },
  {
   "cell_type": "markdown",
   "id": "c5262807",
   "metadata": {},
   "source": [
    "### Sequence"
   ]
  },
  {
   "cell_type": "code",
   "execution_count": 1,
   "id": "1d9c230b",
   "metadata": {},
   "outputs": [
    {
     "data": {
      "text/plain": [
       "[0, 2, 4, 6, 8, 10, 12, 14, 16, 18]"
      ]
     },
     "execution_count": 1,
     "metadata": {},
     "output_type": "execute_result"
    }
   ],
   "source": [
    "range(0,20)\n",
    "list(range(0,20))\n",
    "list(range(0,20,2))"
   ]
  },
  {
   "cell_type": "markdown",
   "id": "315dd0bb",
   "metadata": {},
   "source": [
    "# Loops and comparisons"
   ]
  },
  {
   "cell_type": "markdown",
   "id": "744548d3",
   "metadata": {},
   "source": [
    "### For loops"
   ]
  },
  {
   "cell_type": "code",
   "execution_count": 2,
   "id": "5d7b8bb2",
   "metadata": {},
   "outputs": [
    {
     "name": "stdout",
     "output_type": "stream",
     "text": [
      "-5\n",
      "5\n",
      "15\n",
      "25\n",
      "35\n",
      "45\n",
      "55\n",
      "65\n",
      "75\n",
      "85\n"
     ]
    }
   ],
   "source": [
    "# From range\n",
    "for i in range(0,10):\n",
    "    print((i*10)-5)"
   ]
  },
  {
   "cell_type": "code",
   "execution_count": 5,
   "id": "44d758ef",
   "metadata": {},
   "outputs": [
    {
     "name": "stdout",
     "output_type": "stream",
     "text": [
      "0.0\n",
      "2.5\n",
      "5.0\n",
      "7.5\n",
      "10.0\n",
      "12.5\n",
      "15.0\n",
      "17.5\n",
      "20.0\n",
      "22.5\n"
     ]
    }
   ],
   "source": [
    "# From list\n",
    "for j in new_list :\n",
    "    print(j/2)"
   ]
  },
  {
   "cell_type": "code",
   "execution_count": 6,
   "id": "1ed3382e",
   "metadata": {},
   "outputs": [
    {
     "name": "stdout",
     "output_type": "stream",
     "text": [
      "0\n",
      "0.0\n",
      "1\n",
      "2.5\n",
      "2\n",
      "5.0\n",
      "3\n",
      "7.5\n",
      "4\n",
      "10.0\n",
      "5\n",
      "12.5\n",
      "6\n",
      "15.0\n",
      "7\n",
      "17.5\n",
      "8\n",
      "20.0\n",
      "9\n",
      "22.5\n"
     ]
    }
   ],
   "source": [
    "# With enumerate (keep index)\n",
    "for index, i in enumerate(new_list):\n",
    "    print(index)\n",
    "    print(i/2)"
   ]
  },
  {
   "cell_type": "markdown",
   "id": "59b8f35b",
   "metadata": {},
   "source": [
    "### While loops"
   ]
  },
  {
   "cell_type": "code",
   "execution_count": 8,
   "id": "05575161",
   "metadata": {},
   "outputs": [
    {
     "name": "stdout",
     "output_type": "stream",
     "text": [
      "4\n",
      "3\n",
      "2\n",
      "1\n",
      "0\n"
     ]
    }
   ],
   "source": [
    "n = 5\n",
    "while n > 0:\n",
    "    n = n-1\n",
    "    print(n)"
   ]
  },
  {
   "cell_type": "code",
   "execution_count": 9,
   "id": "da8ef2da",
   "metadata": {},
   "outputs": [
    {
     "name": "stdout",
     "output_type": "stream",
     "text": [
      "4\n",
      "3\n",
      "2\n",
      "1\n",
      "0\n"
     ]
    }
   ],
   "source": [
    "# Elegant way\n",
    "n = 5\n",
    "while n > 0:\n",
    "    n -= 1\n",
    "    print(n)"
   ]
  },
  {
   "cell_type": "markdown",
   "id": "fb3e708c",
   "metadata": {},
   "source": [
    "### Comparison"
   ]
  },
  {
   "cell_type": "code",
   "execution_count": 10,
   "id": "e9d7e263",
   "metadata": {},
   "outputs": [],
   "source": [
    "a = 10\n",
    "b = 10\n",
    "c = 5\n",
    "d = [1, 2, 3, 4, 5]"
   ]
  },
  {
   "cell_type": "code",
   "execution_count": 11,
   "id": "1cb4997b",
   "metadata": {},
   "outputs": [
    {
     "data": {
      "text/plain": [
       "True"
      ]
     },
     "execution_count": 11,
     "metadata": {},
     "output_type": "execute_result"
    }
   ],
   "source": [
    "# Equal\n",
    "a == b"
   ]
  },
  {
   "cell_type": "code",
   "execution_count": 12,
   "id": "806fbaed",
   "metadata": {},
   "outputs": [
    {
     "data": {
      "text/plain": [
       "True"
      ]
     },
     "execution_count": 12,
     "metadata": {},
     "output_type": "execute_result"
    }
   ],
   "source": [
    "# Different\n",
    "c != a"
   ]
  },
  {
   "cell_type": "code",
   "execution_count": 13,
   "id": "bda1d991",
   "metadata": {},
   "outputs": [
    {
     "data": {
      "text/plain": [
       "True"
      ]
     },
     "execution_count": 13,
     "metadata": {},
     "output_type": "execute_result"
    }
   ],
   "source": [
    "# Superior\n",
    "a > c"
   ]
  },
  {
   "cell_type": "code",
   "execution_count": 16,
   "id": "70c4b10a",
   "metadata": {},
   "outputs": [
    {
     "data": {
      "text/plain": [
       "False"
      ]
     },
     "execution_count": 16,
     "metadata": {},
     "output_type": "execute_result"
    }
   ],
   "source": [
    "# inferior\n",
    "a < c"
   ]
  },
  {
   "cell_type": "code",
   "execution_count": 17,
   "id": "f003e61d",
   "metadata": {},
   "outputs": [
    {
     "data": {
      "text/plain": [
       "True"
      ]
     },
     "execution_count": 17,
     "metadata": {},
     "output_type": "execute_result"
    }
   ],
   "source": [
    "# sup or equal\n",
    "a >= b"
   ]
  },
  {
   "cell_type": "code",
   "execution_count": 20,
   "id": "03c26245",
   "metadata": {},
   "outputs": [
    {
     "name": "stdout",
     "output_type": "stream",
     "text": [
      "True\n",
      "False\n"
     ]
    }
   ],
   "source": [
    "# in\n",
    "print(c in d)\n",
    "print(a in d)"
   ]
  },
  {
   "cell_type": "markdown",
   "id": "abf3540a",
   "metadata": {},
   "source": [
    "# Test"
   ]
  },
  {
   "cell_type": "code",
   "execution_count": 21,
   "id": "953d22a6",
   "metadata": {},
   "outputs": [
    {
     "name": "stdout",
     "output_type": "stream",
     "text": [
      "OK\n"
     ]
    }
   ],
   "source": [
    "n = 1\n",
    "if n == 1 :\n",
    "    print(\"OK\")"
   ]
  },
  {
   "cell_type": "code",
   "execution_count": 2,
   "id": "c3b0f326",
   "metadata": {},
   "outputs": [
    {
     "name": "stdout",
     "output_type": "stream",
     "text": [
      "NOK\n"
     ]
    }
   ],
   "source": [
    "n = 2\n",
    "if n == 1 :\n",
    "    print(\"OK\")\n",
    "else :\n",
    "    print(\"NOK\")"
   ]
  },
  {
   "cell_type": "code",
   "execution_count": 4,
   "id": "7c891f90",
   "metadata": {},
   "outputs": [
    {
     "name": "stdout",
     "output_type": "stream",
     "text": [
      "NOK\n"
     ]
    }
   ],
   "source": [
    "n = 1\n",
    "m = \"Hello\"\n",
    "\n",
    "if n == 1 and m == \"hello\":\n",
    "    print(\"OK\")\n",
    "else :\n",
    "    print(\"NOK\")"
   ]
  },
  {
   "cell_type": "code",
   "execution_count": 26,
   "id": "7066dee3",
   "metadata": {},
   "outputs": [
    {
     "name": "stdout",
     "output_type": "stream",
     "text": [
      "OK\n"
     ]
    }
   ],
   "source": [
    "n = 1\n",
    "m = \"Hello\"\n",
    "\n",
    "if n == 1 or m == \"hello\":\n",
    "    print(\"OK\")\n",
    "else :\n",
    "    print(\"NOK\")"
   ]
  },
  {
   "cell_type": "code",
   "execution_count": 5,
   "id": "de339c20",
   "metadata": {},
   "outputs": [
    {
     "name": "stdout",
     "output_type": "stream",
     "text": [
      "Condition 1 is OK\n"
     ]
    }
   ],
   "source": [
    "n = 1\n",
    "m = \"hello\"\n",
    "\n",
    "if n == 1 :\n",
    "    print(\"Condition 1 is OK\")\n",
    "elif m == \"Hello\" :\n",
    "    print(\"Condition 2 is OK but 1 not\")\n",
    "else :\n",
    "    print(\"No condition met\")"
   ]
  },
  {
   "cell_type": "markdown",
   "id": "4e8129c2",
   "metadata": {},
   "source": [
    "### Include in loop"
   ]
  },
  {
   "cell_type": "code",
   "execution_count": 6,
   "id": "88af738b",
   "metadata": {},
   "outputs": [
    {
     "name": "stdout",
     "output_type": "stream",
     "text": [
      "0\n",
      "France\n",
      "1\n",
      "Belgium\n",
      "2\n"
     ]
    }
   ],
   "source": [
    "# Break\n",
    "country_list = [\"France\", \"Belgium\", \"UK\", \"USA\", \"Spain\", \"Italy\", \"Germany\"]\n",
    "\n",
    "for index, i in enumerate(country_list) :\n",
    "    print(index)\n",
    "    if i == \"France\" or i == \"Belgium\" :\n",
    "        print(i)\n",
    "    else :\n",
    "        break"
   ]
  },
  {
   "cell_type": "code",
   "execution_count": 35,
   "id": "b6180643",
   "metadata": {},
   "outputs": [
    {
     "name": "stdout",
     "output_type": "stream",
     "text": [
      "0\n",
      "France\n",
      "1\n",
      "Belgium\n",
      "2\n",
      "3\n",
      "4\n",
      "5\n",
      "6\n"
     ]
    }
   ],
   "source": [
    "# continue\n",
    "country_list = [\"France\", \"Belgium\", \"UK\", \"USA\", \"Spain\", \"Italy\", \"Germany\"]\n",
    "\n",
    "for index, i in enumerate(country_list) :\n",
    "    print(index)\n",
    "    if i == \"France\" or i == \"Belgium\" :\n",
    "        print(i)\n",
    "    else :\n",
    "        continue"
   ]
  },
  {
   "cell_type": "code",
   "execution_count": 41,
   "id": "b8ecf7d3",
   "metadata": {},
   "outputs": [
    {
     "name": "stdout",
     "output_type": "stream",
     "text": [
      "This element is not USA\n"
     ]
    }
   ],
   "source": [
    "# try\n",
    "country_list = [\"France\", \"Belgium\", \"UK\", \"USA\", \"Spain\", \"Italy\", \"Germany\"]\n",
    "\n",
    "try :\n",
    "    country_list.remove(\"Portugal\")\n",
    "    print(\"Country removed\")\n",
    "except :\n",
    "    print(\"Country not in list\")"
   ]
  },
  {
   "cell_type": "markdown",
   "id": "0c330ffc",
   "metadata": {},
   "source": [
    "# Files"
   ]
  },
  {
   "cell_type": "markdown",
   "id": "99106afa",
   "metadata": {},
   "source": [
    "### Read a file"
   ]
  },
  {
   "cell_type": "code",
   "execution_count": 7,
   "id": "cc3f1397",
   "metadata": {},
   "outputs": [
    {
     "data": {
      "text/plain": [
       "['This is text file !\\n',\n",
       " \"You think it's useless\\n\",\n",
       " 'But we read that very often...']"
      ]
     },
     "execution_count": 7,
     "metadata": {},
     "output_type": "execute_result"
    }
   ],
   "source": [
    "# Open all doc (line by line)\n",
    "filin = open (\"text_example.txt\", \"r\")\n",
    "filin.readlines()"
   ]
  },
  {
   "cell_type": "code",
   "execution_count": 62,
   "id": "89a80814",
   "metadata": {},
   "outputs": [],
   "source": [
    "filin.close()"
   ]
  },
  {
   "cell_type": "code",
   "execution_count": 8,
   "id": "7cbb5f8f",
   "metadata": {},
   "outputs": [
    {
     "data": {
      "text/plain": [
       "['This is text file !\\n']"
      ]
     },
     "execution_count": 8,
     "metadata": {},
     "output_type": "execute_result"
    }
   ],
   "source": [
    "# Open one specific line\n",
    "filin = open (\"text_example.txt\", \"r\")\n",
    "filin.readlines(1)"
   ]
  },
  {
   "cell_type": "code",
   "execution_count": 64,
   "id": "17cccbc9",
   "metadata": {},
   "outputs": [],
   "source": [
    "filin.close()"
   ]
  },
  {
   "cell_type": "code",
   "execution_count": 68,
   "id": "e981a5f7",
   "metadata": {},
   "outputs": [
    {
     "data": {
      "text/plain": [
       "\"This is text file !\\nYou think it's useless\\nBut we read that very often...\""
      ]
     },
     "execution_count": 68,
     "metadata": {},
     "output_type": "execute_result"
    }
   ],
   "source": [
    "# Open all doc\n",
    "filin = open (\"text_example.txt\", \"r\")\n",
    "new_text = filin.read()\n",
    "new_text"
   ]
  },
  {
   "cell_type": "code",
   "execution_count": 69,
   "id": "4c16d8e6",
   "metadata": {},
   "outputs": [
    {
     "name": "stdout",
     "output_type": "stream",
     "text": [
      "This is text file !\n",
      "You think it's useless\n",
      "But we read that very often...\n"
     ]
    }
   ],
   "source": [
    "filin.close()\n",
    "print(new_text)"
   ]
  },
  {
   "cell_type": "markdown",
   "id": "2f4ce51d",
   "metadata": {},
   "source": [
    "### Write a file"
   ]
  },
  {
   "cell_type": "code",
   "execution_count": 70,
   "id": "c936c1c5",
   "metadata": {},
   "outputs": [],
   "source": [
    "sentences = [\"AMSE students are the best\",\n",
    "            \"We have won the Magisterium\",\n",
    "            \"Other students suck\"]\n",
    "with open (\"new_text_file.txt\" , \"w\") as file:\n",
    "    for i in sentences :\n",
    "        file.write(i)"
   ]
  },
  {
   "cell_type": "markdown",
   "id": "f1f79ede",
   "metadata": {},
   "source": [
    "# Specific modules"
   ]
  },
  {
   "cell_type": "markdown",
   "id": "5f16f308",
   "metadata": {},
   "source": [
    "### Module import "
   ]
  },
  {
   "cell_type": "code",
   "execution_count": 72,
   "id": "b17a55a3",
   "metadata": {},
   "outputs": [
    {
     "data": {
      "text/plain": [
       "0.0"
      ]
     },
     "execution_count": 72,
     "metadata": {},
     "output_type": "execute_result"
    }
   ],
   "source": [
    "import math\n",
    "math.log(1)"
   ]
  },
  {
   "cell_type": "code",
   "execution_count": 73,
   "id": "37e11613",
   "metadata": {},
   "outputs": [
    {
     "data": {
      "text/plain": [
       "0.0"
      ]
     },
     "execution_count": 73,
     "metadata": {},
     "output_type": "execute_result"
    }
   ],
   "source": [
    "import math as mt\n",
    "mt.log(1)"
   ]
  },
  {
   "cell_type": "code",
   "execution_count": 74,
   "id": "c7a5be3c",
   "metadata": {},
   "outputs": [
    {
     "data": {
      "text/plain": [
       "0.0"
      ]
     },
     "execution_count": 74,
     "metadata": {},
     "output_type": "execute_result"
    }
   ],
   "source": [
    "from math import log\n",
    "log(1)"
   ]
  },
  {
   "cell_type": "markdown",
   "id": "90dff8a2",
   "metadata": {},
   "source": [
    "### Math module"
   ]
  },
  {
   "cell_type": "code",
   "execution_count": 86,
   "id": "26612ca2",
   "metadata": {},
   "outputs": [
    {
     "name": "stdout",
     "output_type": "stream",
     "text": [
      "1\n",
      "1.0\n",
      "16.0\n",
      "3.141592653589793\n",
      "2.0\n",
      "1.0\n"
     ]
    }
   ],
   "source": [
    "print(math.trunc(1.92))\n",
    "print(math.exp(0))\n",
    "print(math.pow(2,4))\n",
    "print(math.pi)\n",
    "print(math.sqrt(4))\n",
    "print(math.cos(0))"
   ]
  },
  {
   "cell_type": "markdown",
   "id": "493bc5b4",
   "metadata": {},
   "source": [
    "### Os module"
   ]
  },
  {
   "cell_type": "code",
   "execution_count": 9,
   "id": "b78f6bbf",
   "metadata": {},
   "outputs": [
    {
     "name": "stdout",
     "output_type": "stream",
     "text": [
      "We are from AMSE !\n"
     ]
    },
    {
     "data": {
      "text/plain": [
       "0"
      ]
     },
     "execution_count": 9,
     "metadata": {},
     "output_type": "execute_result"
    }
   ],
   "source": [
    "import os\n",
    "\n",
    "# Command line\n",
    "os.system(\"python /Users/flav/Documents/Cours/BigData1_BDSE/first_program.py\")"
   ]
  },
  {
   "cell_type": "code",
   "execution_count": 88,
   "id": "cf361a62",
   "metadata": {},
   "outputs": [
    {
     "data": {
      "text/plain": [
       "'/Users/flav/Documents/Cours/BigData1_BDSE'"
      ]
     },
     "execution_count": 88,
     "metadata": {},
     "output_type": "execute_result"
    }
   ],
   "source": [
    "# Current directory\n",
    "os.getcwd()"
   ]
  },
  {
   "cell_type": "code",
   "execution_count": 90,
   "id": "c11285dc",
   "metadata": {},
   "outputs": [
    {
     "data": {
      "text/plain": [
       "['.DS_Store', 'BigData1_BDSE']"
      ]
     },
     "execution_count": 90,
     "metadata": {},
     "output_type": "execute_result"
    }
   ],
   "source": [
    "# Folder content (current directory)\n",
    "os.listdir()\n",
    "\n",
    "# Other direct\n",
    "os.listdir(\"/Users/flav/Documents/Cours/\")"
   ]
  },
  {
   "cell_type": "code",
   "execution_count": 93,
   "id": "21da8a92",
   "metadata": {},
   "outputs": [
    {
     "data": {
      "text/plain": [
       "environ{'TERM_SESSION_ID': 'w1t0p0:3F78518A-2D51-4A22-A7A8-DDB479A2AFA1',\n",
       "        'SSH_AUTH_SOCK': '/private/tmp/com.apple.launchd.HLmZV7EGam/Listeners',\n",
       "        'LC_TERMINAL_VERSION': '3.4.16',\n",
       "        'COLORFGBG': '7;0',\n",
       "        'ITERM_PROFILE': 'Default',\n",
       "        'XPC_FLAGS': '0x0',\n",
       "        'LANG': 'fr_FR.UTF-8',\n",
       "        'PWD': '/Users/flav',\n",
       "        'SHELL': '/bin/zsh',\n",
       "        '__CFBundleIdentifier': 'com.googlecode.iterm2',\n",
       "        'TERM_PROGRAM_VERSION': '3.4.16',\n",
       "        'TERM_PROGRAM': 'iTerm.app',\n",
       "        'PATH': '/Library/Frameworks/Python.framework/Versions/3.9/bin:/usr/local/bin:/usr/bin:/bin:/usr/sbin:/sbin',\n",
       "        'LC_TERMINAL': 'iTerm2',\n",
       "        'COLORTERM': 'truecolor',\n",
       "        'COMMAND_MODE': 'unix2003',\n",
       "        'TERM': 'xterm-color',\n",
       "        'HOME': '/Users/flav',\n",
       "        'TMPDIR': '/var/folders/wl/1m9_861918g7cf48d1bj0rm80000gn/T/',\n",
       "        'USER': 'flav',\n",
       "        'XPC_SERVICE_NAME': '0',\n",
       "        'LOGNAME': 'flav',\n",
       "        'ITERM_SESSION_ID': 'w1t0p0:3F78518A-2D51-4A22-A7A8-DDB479A2AFA1',\n",
       "        '__CF_USER_TEXT_ENCODING': '0x1F5:0x0:0x1',\n",
       "        'SHLVL': '1',\n",
       "        'OLDPWD': '/Users/flav/Documents/Cours/BigData1_BDSE',\n",
       "        'P9K_TTY': 'old',\n",
       "        '_P9K_TTY': '/dev/ttys001',\n",
       "        'ZSH': '/Users/flav/.oh-my-zsh',\n",
       "        'PAGER': 'cat',\n",
       "        'LESS': '-R',\n",
       "        'LSCOLORS': 'Gxfxcxdxbxegedabagacad',\n",
       "        'P9K_SSH': '0',\n",
       "        '_': '/Library/Frameworks/Python.framework/Versions/3.9/bin/jupyter-notebook',\n",
       "        'PYDEVD_USE_FRAME_EVAL': 'NO',\n",
       "        'JPY_PARENT_PID': '82788',\n",
       "        'CLICOLOR': '1',\n",
       "        'GIT_PAGER': 'cat',\n",
       "        'MPLBACKEND': 'module://matplotlib_inline.backend_inline'}"
      ]
     },
     "execution_count": 93,
     "metadata": {},
     "output_type": "execute_result"
    }
   ],
   "source": [
    "# Environment variables\n",
    "os.environ"
   ]
  },
  {
   "cell_type": "code",
   "execution_count": 94,
   "id": "b4f6e59a",
   "metadata": {},
   "outputs": [
    {
     "data": {
      "text/plain": [
       "'flav'"
      ]
     },
     "execution_count": 94,
     "metadata": {},
     "output_type": "execute_result"
    }
   ],
   "source": [
    "# Login\n",
    "os.getlogin()"
   ]
  },
  {
   "cell_type": "markdown",
   "id": "9159ab17",
   "metadata": {},
   "source": [
    "### Random module"
   ]
  },
  {
   "cell_type": "code",
   "execution_count": 98,
   "id": "b8724807",
   "metadata": {},
   "outputs": [
    {
     "data": {
      "text/plain": [
       "1"
      ]
     },
     "execution_count": 98,
     "metadata": {},
     "output_type": "execute_result"
    }
   ],
   "source": [
    "import random\n",
    "\n",
    "# random number between 0 and 10\n",
    "random.randint(0,10)"
   ]
  },
  {
   "cell_type": "code",
   "execution_count": 100,
   "id": "686d18a8",
   "metadata": {},
   "outputs": [
    {
     "data": {
      "text/plain": [
       "0.19811952276052147"
      ]
     },
     "execution_count": 100,
     "metadata": {},
     "output_type": "execute_result"
    }
   ],
   "source": [
    "# random float according to uniform distribution where a = 0 and b = 10\n",
    "random.uniform(0,10)"
   ]
  },
  {
   "cell_type": "code",
   "execution_count": 111,
   "id": "e89babb7",
   "metadata": {},
   "outputs": [],
   "source": [
    "nbr_list = [1, 2, 3, 4]\n",
    "random.shuffle(nbr_list)"
   ]
  },
  {
   "cell_type": "code",
   "execution_count": 116,
   "id": "71d66eca",
   "metadata": {},
   "outputs": [
    {
     "data": {
      "text/plain": [
       "['London', 'Paris']"
      ]
     },
     "execution_count": 116,
     "metadata": {},
     "output_type": "execute_result"
    }
   ],
   "source": [
    "cities = [\"Paris\",\"London\",\"Berlin\",\"Madrid\", \"Lisboa\"]\n",
    "random.choice(cities)\n",
    "random.choices(cities, k=2)"
   ]
  },
  {
   "cell_type": "markdown",
   "id": "5597ae62",
   "metadata": {},
   "source": [
    "### Time module"
   ]
  },
  {
   "cell_type": "code",
   "execution_count": 10,
   "id": "eafdd9b6",
   "metadata": {},
   "outputs": [
    {
     "name": "stdout",
     "output_type": "stream",
     "text": [
      "We will wait 5 seconds\n",
      "We can continue\n"
     ]
    }
   ],
   "source": [
    "import time\n",
    "\n",
    "# Sleep function\n",
    "print(\"We will wait 5 seconds\")\n",
    "time.sleep(5)\n",
    "print(\"We can continue\")"
   ]
  },
  {
   "cell_type": "code",
   "execution_count": 120,
   "id": "d5b5cc20",
   "metadata": {},
   "outputs": [
    {
     "data": {
      "text/plain": [
       "'Fri, 05 Aug 2022 12:29:51 +0000'"
      ]
     },
     "execution_count": 120,
     "metadata": {},
     "output_type": "execute_result"
    }
   ],
   "source": [
    "# Date format\n",
    "time.strftime(\"%a, %d %b %Y %H:%M:%S +0000\", time.gmtime())"
   ]
  },
  {
   "cell_type": "code",
   "execution_count": 121,
   "id": "d0f6412f",
   "metadata": {},
   "outputs": [
    {
     "data": {
      "text/plain": [
       "time.struct_time(tm_year=1804, tm_mon=12, tm_mday=2, tm_hour=0, tm_min=0, tm_sec=0, tm_wday=6, tm_yday=337, tm_isdst=-1)"
      ]
     },
     "execution_count": 121,
     "metadata": {},
     "output_type": "execute_result"
    }
   ],
   "source": [
    "# Date details\n",
    "time.strptime(\"02 Dec 1804\", \"%d %b %Y\")"
   ]
  },
  {
   "cell_type": "code",
   "execution_count": 122,
   "id": "fffdfee4",
   "metadata": {},
   "outputs": [
    {
     "name": "stdout",
     "output_type": "stream",
     "text": [
      "1659702831.449836\n",
      "1659702831449974000\n"
     ]
    }
   ],
   "source": [
    "# Timestamp\n",
    "print(time.time()) \n",
    "print(time.time_ns())"
   ]
  },
  {
   "cell_type": "code",
   "execution_count": 125,
   "id": "3120e5da",
   "metadata": {},
   "outputs": [
    {
     "data": {
      "text/plain": [
       "'Fri Aug  5 14:35:40 2022'"
      ]
     },
     "execution_count": 125,
     "metadata": {},
     "output_type": "execute_result"
    }
   ],
   "source": [
    "# Convert timestamp to date\n",
    "timestamp = time.time()\n",
    "time.ctime(timestamp)"
   ]
  },
  {
   "cell_type": "markdown",
   "id": "5e6d4408",
   "metadata": {},
   "source": [
    "# Functions"
   ]
  },
  {
   "cell_type": "code",
   "execution_count": 12,
   "id": "bd1f4cc5",
   "metadata": {},
   "outputs": [],
   "source": [
    "# First function\n",
    "def convert_tmsp(tmsp) :\n",
    "    string_date = time.ctime(tmsp)\n",
    "    return string_date"
   ]
  },
  {
   "cell_type": "code",
   "execution_count": 13,
   "id": "865c8e67",
   "metadata": {},
   "outputs": [
    {
     "data": {
      "text/plain": [
       "'Fri Aug  5 14:33:51 2022'"
      ]
     },
     "execution_count": 13,
     "metadata": {},
     "output_type": "execute_result"
    }
   ],
   "source": [
    "convert_tmsp(1659702831)"
   ]
  },
  {
   "cell_type": "code",
   "execution_count": 138,
   "id": "318a52ba",
   "metadata": {},
   "outputs": [],
   "source": [
    "# Without return\n",
    "def diff_tmsp(timestamp) :\n",
    "    timestamp = time.time() - timestamp\n",
    "    print(timestamp)"
   ]
  },
  {
   "cell_type": "code",
   "execution_count": 139,
   "id": "ffad47f6",
   "metadata": {},
   "outputs": [
    {
     "name": "stdout",
     "output_type": "stream",
     "text": [
      "865.8811571598053\n"
     ]
    }
   ],
   "source": [
    "diff_tmsp(timestamp = 1659702831)"
   ]
  },
  {
   "cell_type": "markdown",
   "id": "c26a14ef",
   "metadata": {},
   "source": [
    "### Conditional return"
   ]
  },
  {
   "cell_type": "code",
   "execution_count": 14,
   "id": "5f237e3e",
   "metadata": {},
   "outputs": [],
   "source": [
    "def convert_tmsp_multiformat(new_tmsp, nano = True) :\n",
    "    if nano == True : \n",
    "        tmsp = new_tmsp / 1000000000\n",
    "        return time.ctime(tmsp)\n",
    "    else : \n",
    "        tmsp = new_tmsp\n",
    "        return time.ctime(tmsp)\n",
    "        "
   ]
  },
  {
   "cell_type": "code",
   "execution_count": 15,
   "id": "af775e70",
   "metadata": {},
   "outputs": [
    {
     "name": "stdout",
     "output_type": "stream",
     "text": [
      "Fri Aug  5 14:33:51 2022\n",
      "Fri Aug  5 14:33:51 2022\n"
     ]
    }
   ],
   "source": [
    "print(convert_tmsp_multiformat(1659702831449974000, nano= True))\n",
    "print(convert_tmsp_multiformat(1659702831449974000))"
   ]
  },
  {
   "cell_type": "markdown",
   "id": "75aa4172",
   "metadata": {},
   "source": [
    "### Multi outputs"
   ]
  },
  {
   "cell_type": "code",
   "execution_count": 16,
   "id": "3ddc7707",
   "metadata": {},
   "outputs": [],
   "source": [
    "### Create a function with a date and a second one 10 days later\n",
    "def two_dates_ten_days(tmsp) :\n",
    "    now = tmsp\n",
    "    day10 = tmsp + (60*60*24*10)\n",
    "    return time.ctime(now), time.ctime(day10)"
   ]
  },
  {
   "cell_type": "code",
   "execution_count": 17,
   "id": "c88e864f",
   "metadata": {},
   "outputs": [
    {
     "name": "stdout",
     "output_type": "stream",
     "text": [
      "Fri Aug  5 14:33:51 2022\n",
      "Mon Aug 15 14:33:51 2022\n"
     ]
    }
   ],
   "source": [
    "date1, date2 = two_dates_ten_days(1659702831)\n",
    "print(date1)\n",
    "print(date2)"
   ]
  },
  {
   "cell_type": "markdown",
   "id": "78fe4e08",
   "metadata": {},
   "source": [
    "### Multi functions"
   ]
  },
  {
   "cell_type": "code",
   "execution_count": 150,
   "id": "b5e8d6e5",
   "metadata": {},
   "outputs": [],
   "source": [
    "def add10days(tmsp) :\n",
    "    return tmsp + (60*60*24*10)\n",
    "\n",
    "def string10days(tmsp) :\n",
    "    new_tmsp = add10days(tmsp)\n",
    "    string_tmsp = convert_tmsp_multiformat(new_tmsp=new_tmsp, nano=False)\n",
    "    return string_tmsp"
   ]
  },
  {
   "cell_type": "code",
   "execution_count": 151,
   "id": "032afdc1",
   "metadata": {},
   "outputs": [
    {
     "data": {
      "text/plain": [
       "'Mon Aug 15 14:33:51 2022'"
      ]
     },
     "execution_count": 151,
     "metadata": {},
     "output_type": "execute_result"
    }
   ],
   "source": [
    "string10days(1659702831)"
   ]
  },
  {
   "cell_type": "markdown",
   "id": "640f1936",
   "metadata": {},
   "source": [
    "### Function format"
   ]
  },
  {
   "cell_type": "code",
   "execution_count": 156,
   "id": "679605f8",
   "metadata": {},
   "outputs": [],
   "source": [
    "def string10days(tmsp) :\n",
    "    \"\"\"\n",
    "    This function takes a  timestamp, add 10 days and convert it a string date\n",
    "    \n",
    "    - tmsp <int> : timestamp in second\n",
    "    \"\"\"\n",
    "    if isinstance(tmsp, (float, int)) :\n",
    "        pass \n",
    "    else :\n",
    "        raise ValueError(\"Not good variable type\")\n",
    "    \n",
    "    new_tmsp = add10days(tmsp) # Add 10 days to the initial timestamp\n",
    "    string_tmsp = convert_tmsp_multiformat(new_tmsp=new_tmsp, nano=False) #convert timestamp to string\n",
    "    return string_tmsp"
   ]
  },
  {
   "cell_type": "code",
   "execution_count": 158,
   "id": "983e858e",
   "metadata": {},
   "outputs": [
    {
     "ename": "ValueError",
     "evalue": "Not good variable type",
     "output_type": "error",
     "traceback": [
      "\u001b[0;31m---------------------------------------------------------------------------\u001b[0m",
      "\u001b[0;31mValueError\u001b[0m                                Traceback (most recent call last)",
      "Input \u001b[0;32mIn [158]\u001b[0m, in \u001b[0;36m<cell line: 1>\u001b[0;34m()\u001b[0m\n\u001b[0;32m----> 1\u001b[0m \u001b[43mstring10days\u001b[49m\u001b[43m(\u001b[49m\u001b[38;5;124;43m\"\u001b[39;49m\u001b[38;5;124;43m1659702831\u001b[39;49m\u001b[38;5;124;43m\"\u001b[39;49m\u001b[43m)\u001b[49m\n",
      "Input \u001b[0;32mIn [156]\u001b[0m, in \u001b[0;36mstring10days\u001b[0;34m(tmsp)\u001b[0m\n\u001b[1;32m      8\u001b[0m     \u001b[38;5;28;01mpass\u001b[39;00m \n\u001b[1;32m      9\u001b[0m \u001b[38;5;28;01melse\u001b[39;00m :\n\u001b[0;32m---> 10\u001b[0m     \u001b[38;5;28;01mraise\u001b[39;00m \u001b[38;5;167;01mValueError\u001b[39;00m(\u001b[38;5;124m\"\u001b[39m\u001b[38;5;124mNot good variable type\u001b[39m\u001b[38;5;124m\"\u001b[39m)\n\u001b[1;32m     12\u001b[0m new_tmsp \u001b[38;5;241m=\u001b[39m add10days(tmsp) \u001b[38;5;66;03m# Add 10 days to the initial timestamp\u001b[39;00m\n\u001b[1;32m     13\u001b[0m string_tmsp \u001b[38;5;241m=\u001b[39m convert_tmsp_multiformat(new_tmsp\u001b[38;5;241m=\u001b[39mnew_tmsp, nano\u001b[38;5;241m=\u001b[39m\u001b[38;5;28;01mFalse\u001b[39;00m) \u001b[38;5;66;03m#convert timestamp to string\u001b[39;00m\n",
      "\u001b[0;31mValueError\u001b[0m: Not good variable type"
     ]
    }
   ],
   "source": [
    "string10days(\"1659702831\")"
   ]
  },
  {
   "cell_type": "markdown",
   "id": "785350eb",
   "metadata": {},
   "source": [
    "# String variables"
   ]
  },
  {
   "cell_type": "code",
   "execution_count": 164,
   "id": "77c2b936",
   "metadata": {},
   "outputs": [
    {
     "name": "stdout",
     "output_type": "stream",
     "text": [
      "e\n",
      "Welcom\n",
      "Welcome\n"
     ]
    }
   ],
   "source": [
    "# Basics\n",
    "\n",
    "string = \"Welcome in Marseille\"\n",
    "print(string[1])\n",
    "print(string[0:6])\n",
    "print(string[0:6] + string[1])"
   ]
  },
  {
   "cell_type": "code",
   "execution_count": 166,
   "id": "f9648c8e",
   "metadata": {},
   "outputs": [
    {
     "name": "stdout",
     "output_type": "stream",
     "text": [
      "Welcome \t in Marseille\n",
      "Welcome \n",
      " in Marseille\n"
     ]
    }
   ],
   "source": [
    "# Separators\n",
    "string = \"Welcome \\t in Marseille\"\n",
    "print(string)\n",
    "\n",
    "string = \"Welcome \\n in Marseille\"\n",
    "print(string)"
   ]
  },
  {
   "cell_type": "code",
   "execution_count": 169,
   "id": "9677d4d4",
   "metadata": {},
   "outputs": [
    {
     "name": "stdout",
     "output_type": "stream",
     "text": [
      "J'aime Marseille\n"
     ]
    }
   ],
   "source": [
    "# Specific characters\n",
    "string = 'J\\'aime Marseille'\n",
    "print(string)"
   ]
  },
  {
   "cell_type": "markdown",
   "id": "8ebaf046",
   "metadata": {},
   "source": [
    "### String transformation"
   ]
  },
  {
   "cell_type": "code",
   "execution_count": 170,
   "id": "b769bccd",
   "metadata": {},
   "outputs": [
    {
     "name": "stdout",
     "output_type": "stream",
     "text": [
      "welcome in marseille\n",
      "WELCOME IN MARSEILLE\n",
      "Welcome in marseille\n"
     ]
    }
   ],
   "source": [
    "string = \"Welcome in Marseille\"\n",
    "print(string.lower())\n",
    "print(string.upper())\n",
    "print(string.capitalize())"
   ]
  },
  {
   "cell_type": "code",
   "execution_count": 175,
   "id": "f751a085",
   "metadata": {},
   "outputs": [
    {
     "name": "stdout",
     "output_type": "stream",
     "text": [
      "True\n",
      "['Welcome', 'in', 'Marseille']\n",
      "1\n",
      "Welcome in Paris\n"
     ]
    }
   ],
   "source": [
    "print(string.startswith(\"W\"))\n",
    "print(string.split(\" \"))\n",
    "print(string.count(\"M\"))\n",
    "print(string.replace(\"Marseille\", \"Paris\"))"
   ]
  },
  {
   "cell_type": "code",
   "execution_count": 177,
   "id": "dff2d6d9",
   "metadata": {},
   "outputs": [
    {
     "data": {
      "text/plain": [
       "'Welcome in Marseille'"
      ]
     },
     "execution_count": 177,
     "metadata": {},
     "output_type": "execute_result"
    }
   ],
   "source": [
    "# String from list\n",
    "string_list = string.split(\" \")\n",
    "\" \".join(string_list)"
   ]
  },
  {
   "cell_type": "code",
   "execution_count": 180,
   "id": "ea8d1ca4",
   "metadata": {},
   "outputs": [
    {
     "data": {
      "text/plain": [
       "'Welcome in Marseille'"
      ]
     },
     "execution_count": 180,
     "metadata": {},
     "output_type": "execute_result"
    }
   ],
   "source": [
    "# Clean borders\n",
    "string2 = \" \" + string + \" \"\n",
    "string.strip()"
   ]
  },
  {
   "cell_type": "code",
   "execution_count": 181,
   "id": "c1a028d4",
   "metadata": {},
   "outputs": [
    {
     "data": {
      "text/plain": [
       "11"
      ]
     },
     "execution_count": 181,
     "metadata": {},
     "output_type": "execute_result"
    }
   ],
   "source": [
    "# Find a word\n",
    "string.find(\"Marseille\")"
   ]
  },
  {
   "cell_type": "markdown",
   "id": "c50c90c0",
   "metadata": {},
   "source": [
    "# Specific objects"
   ]
  },
  {
   "cell_type": "markdown",
   "id": "41485627",
   "metadata": {},
   "source": [
    "## Dictionaries"
   ]
  },
  {
   "cell_type": "code",
   "execution_count": 189,
   "id": "0d1b1425",
   "metadata": {},
   "outputs": [
    {
     "data": {
      "text/plain": [
       "{'name': ['Alex', 'Glover', 'Sam'],\n",
       " 'Age': [25, 32, 28],\n",
       " 'Cities': ['Paris', 'London', 'Madrid']}"
      ]
     },
     "execution_count": 189,
     "metadata": {},
     "output_type": "execute_result"
    }
   ],
   "source": [
    "# Create a dictionary\n",
    "characters = {\"name\" : [\"Alex\", \"Glover\", \"Sam\"],\n",
    "             \"Age\" : [25, 32, 28],\n",
    "             \"Cities\" : [\"Paris\", \"London\", \"Madrid\"]}\n",
    "\n",
    "characters"
   ]
  },
  {
   "cell_type": "code",
   "execution_count": 198,
   "id": "f264e18f",
   "metadata": {},
   "outputs": [
    {
     "data": {
      "text/plain": [
       "dict_keys(['name', 'Age', 'Cities'])"
      ]
     },
     "execution_count": 198,
     "metadata": {},
     "output_type": "execute_result"
    }
   ],
   "source": [
    "# Display dictionary keys (categories)\n",
    "characters.keys()\n",
    "# Try characters.keys()[0]"
   ]
  },
  {
   "cell_type": "code",
   "execution_count": 202,
   "id": "75ae8b37",
   "metadata": {},
   "outputs": [
    {
     "data": {
      "text/plain": [
       "dict_values([['Alex', 'Glover', 'Sam'], [25, 32, 28], ['Paris', 'London', 'Madrid']])"
      ]
     },
     "execution_count": 202,
     "metadata": {},
     "output_type": "execute_result"
    }
   ],
   "source": [
    "# Display values for each \n",
    "characters.values()"
   ]
  },
  {
   "cell_type": "code",
   "execution_count": 203,
   "id": "4d69bead",
   "metadata": {},
   "outputs": [
    {
     "data": {
      "text/plain": [
       "dict_items([('name', ['Alex', 'Glover', 'Sam']), ('Age', [25, 32, 28]), ('Cities', ['Paris', 'London', 'Madrid'])])"
      ]
     },
     "execution_count": 203,
     "metadata": {},
     "output_type": "execute_result"
    }
   ],
   "source": [
    "# Display values and keys\n",
    "characters.items()"
   ]
  },
  {
   "cell_type": "code",
   "execution_count": 209,
   "id": "0ad1ed67",
   "metadata": {},
   "outputs": [
    {
     "name": "stdout",
     "output_type": "stream",
     "text": [
      "['Alex', 'Glover', 'Sam']\n"
     ]
    }
   ],
   "source": [
    "# Get values\n",
    "characters.get(\"name\")"
   ]
  },
  {
   "cell_type": "code",
   "execution_count": 210,
   "id": "ab6e82ae",
   "metadata": {},
   "outputs": [
    {
     "data": {
      "text/plain": [
       "32"
      ]
     },
     "execution_count": 210,
     "metadata": {},
     "output_type": "execute_result"
    }
   ],
   "source": [
    "max(characters.get(\"Age\"))"
   ]
  },
  {
   "cell_type": "code",
   "execution_count": 217,
   "id": "5c359ae2",
   "metadata": {},
   "outputs": [
    {
     "data": {
      "text/plain": [
       "{'name': ['Alex', 'Glover', 'Sam'],\n",
       " 'Age': [25, 32, 28],\n",
       " 'Cities': ['Paris', 'London', 'Madrid'],\n",
       " 'Job': ['Super Heros', 'Student', 'Data Scientist']}"
      ]
     },
     "execution_count": 217,
     "metadata": {},
     "output_type": "execute_result"
    }
   ],
   "source": [
    "# Add a new key\n",
    "characters[\"Job\"] = [\"Super Heros\", \"Student\", \"Data Scientist\"]\n",
    "characters"
   ]
  },
  {
   "cell_type": "code",
   "execution_count": 221,
   "id": "5681ad5a",
   "metadata": {},
   "outputs": [
    {
     "data": {
      "text/plain": [
       "{'name': ['Alex', 'Glover', 'Sam'],\n",
       " 'Cities': ['Paris', 'London', 'Madrid'],\n",
       " 'Job': ['Super Heros', 'Student', 'Data Scientist']}"
      ]
     },
     "execution_count": 221,
     "metadata": {},
     "output_type": "execute_result"
    }
   ],
   "source": [
    "# Remove a key\n",
    "characters.pop(\"Age\", None)\n",
    "characters"
   ]
  },
  {
   "cell_type": "markdown",
   "id": "7db62fdf",
   "metadata": {},
   "source": [
    "## List of lists"
   ]
  },
  {
   "cell_type": "code",
   "execution_count": 231,
   "id": "0dbd98d1",
   "metadata": {},
   "outputs": [
    {
     "data": {
      "text/plain": [
       "[['Alex', 'Glover', 'Sam'], [25, 32, 28], ['Paris', 'London', 'Madrid']]"
      ]
     },
     "execution_count": 231,
     "metadata": {},
     "output_type": "execute_result"
    }
   ],
   "source": [
    "characters_lists = [[\"Alex\", \"Glover\", \"Sam\"],\n",
    "                    [25, 32, 28],\n",
    "                    [\"Paris\", \"London\", \"Madrid\"]]\n",
    "\n",
    "characters_lists"
   ]
  },
  {
   "cell_type": "code",
   "execution_count": 232,
   "id": "242d4a1f",
   "metadata": {},
   "outputs": [
    {
     "data": {
      "text/plain": [
       "['Alex', 'Glover', 'Sam']"
      ]
     },
     "execution_count": 232,
     "metadata": {},
     "output_type": "execute_result"
    }
   ],
   "source": [
    "# Extract one list\n",
    "characters_lists[0]"
   ]
  },
  {
   "cell_type": "code",
   "execution_count": 233,
   "id": "d930a4b0",
   "metadata": {},
   "outputs": [
    {
     "data": {
      "text/plain": [
       "25"
      ]
     },
     "execution_count": 233,
     "metadata": {},
     "output_type": "execute_result"
    }
   ],
   "source": [
    "# Compute with one list\n",
    "min(characters_lists[1])"
   ]
  },
  {
   "cell_type": "code",
   "execution_count": 234,
   "id": "5690eeb9",
   "metadata": {},
   "outputs": [
    {
     "name": "stdout",
     "output_type": "stream",
     "text": [
      "[['Alex', 'Glover'], [25, 32, 28], ['Paris', 'London', 'Madrid']]\n",
      "[['Alex', 'Glover'], [25, 32, 28], ['Paris', 'London', 'Madrid'], ['Super Heros', 'London', 'Madrid']]\n"
     ]
    }
   ],
   "source": [
    "# Same operation with normal list\n",
    "characters_lists[0].remove(\"Sam\")\n",
    "print(characters_lists)\n",
    "\n",
    "characters_lists.append([\"Super Heros\", \"London\", \"Madrid\"])\n",
    "print(characters_lists)"
   ]
  },
  {
   "cell_type": "markdown",
   "id": "889908c7",
   "metadata": {},
   "source": [
    "## Tuple"
   ]
  },
  {
   "cell_type": "code",
   "execution_count": 238,
   "id": "1e50a6f5",
   "metadata": {},
   "outputs": [
    {
     "data": {
      "text/plain": [
       "('Fanny', 'Priscillia', 'Gwendoline', 'Lison', 'Clemence')"
      ]
     },
     "execution_count": 238,
     "metadata": {},
     "output_type": "execute_result"
    }
   ],
   "source": [
    "new_tuple = (\"Fanny\", \"Priscillia\", \"Gwendoline\", \"Lison\", \"Clemence\")\n",
    "new_tuple"
   ]
  },
  {
   "cell_type": "code",
   "execution_count": 239,
   "id": "8e75c7fb",
   "metadata": {},
   "outputs": [
    {
     "ename": "TypeError",
     "evalue": "'tuple' object does not support item assignment",
     "output_type": "error",
     "traceback": [
      "\u001b[0;31m---------------------------------------------------------------------------\u001b[0m",
      "\u001b[0;31mTypeError\u001b[0m                                 Traceback (most recent call last)",
      "Input \u001b[0;32mIn [239]\u001b[0m, in \u001b[0;36m<cell line: 1>\u001b[0;34m()\u001b[0m\n\u001b[0;32m----> 1\u001b[0m new_tuple[\u001b[38;5;124m\"\u001b[39m\u001b[38;5;124m2\u001b[39m\u001b[38;5;124m\"\u001b[39m] \u001b[38;5;241m=\u001b[39m \u001b[38;5;124m\"\u001b[39m\u001b[38;5;124mClaire\u001b[39m\u001b[38;5;124m\"\u001b[39m\n",
      "\u001b[0;31mTypeError\u001b[0m: 'tuple' object does not support item assignment"
     ]
    }
   ],
   "source": [
    "new_tuple[\"2\"] = \"Claire\"\n",
    "# Tuple de liste = les listes sont modifiables"
   ]
  },
  {
   "cell_type": "code",
   "execution_count": 256,
   "id": "0fba9824",
   "metadata": {},
   "outputs": [
    {
     "data": {
      "text/plain": [
       "{'Clemence', 'Fanny', 'Gwendoline', 'Lison', 'Priscillia'}"
      ]
     },
     "execution_count": 256,
     "metadata": {},
     "output_type": "execute_result"
    }
   ],
   "source": [
    "# Tuple to list\n",
    "list(new_tuple)\n",
    "set(new_tuple)"
   ]
  },
  {
   "cell_type": "markdown",
   "id": "1c806673",
   "metadata": {},
   "source": [
    "## Set"
   ]
  },
  {
   "cell_type": "code",
   "execution_count": 249,
   "id": "e72c730e",
   "metadata": {},
   "outputs": [
    {
     "data": {
      "text/plain": [
       "{'Clemence', 'Fanny', 'Gwendoline', 'Lison', 'Priscillia'}"
      ]
     },
     "execution_count": 249,
     "metadata": {},
     "output_type": "execute_result"
    }
   ],
   "source": [
    "# Set object creation\n",
    "new_set = {\"Fanny\", \"Priscillia\", \"Gwendoline\", \"Lison\", \"Clemence\"}\n",
    "new_set"
   ]
  },
  {
   "cell_type": "code",
   "execution_count": 250,
   "id": "6c00df7f",
   "metadata": {},
   "outputs": [
    {
     "data": {
      "text/plain": [
       "{'Clemence', 'Fanny', 'Gwendoline', 'Lison', 'Priscillia'}"
      ]
     },
     "execution_count": 250,
     "metadata": {},
     "output_type": "execute_result"
    }
   ],
   "source": [
    "# Unique values (no keys)\n",
    "new_set1 = {\"Fanny\", \"Priscillia\", \"Gwendoline\", \"Lison\", \"Clemence\", \"Lison\"}\n",
    "new_set1"
   ]
  },
  {
   "cell_type": "code",
   "execution_count": 251,
   "id": "ab2fe865",
   "metadata": {},
   "outputs": [
    {
     "ename": "TypeError",
     "evalue": "'set' object is not subscriptable",
     "output_type": "error",
     "traceback": [
      "\u001b[0;31m---------------------------------------------------------------------------\u001b[0m",
      "\u001b[0;31mTypeError\u001b[0m                                 Traceback (most recent call last)",
      "Input \u001b[0;32mIn [251]\u001b[0m, in \u001b[0;36m<cell line: 2>\u001b[0;34m()\u001b[0m\n\u001b[1;32m      1\u001b[0m \u001b[38;5;66;03m# Not indexable\u001b[39;00m\n\u001b[0;32m----> 2\u001b[0m \u001b[43mnew_set1\u001b[49m\u001b[43m[\u001b[49m\u001b[38;5;241;43m1\u001b[39;49m\u001b[43m]\u001b[49m\n",
      "\u001b[0;31mTypeError\u001b[0m: 'set' object is not subscriptable"
     ]
    }
   ],
   "source": [
    "# Not indexable\n",
    "new_set1[1]"
   ]
  },
  {
   "cell_type": "code",
   "execution_count": 254,
   "id": "d82f3ef4",
   "metadata": {},
   "outputs": [
    {
     "name": "stdout",
     "output_type": "stream",
     "text": [
      "{'Lison', 'Celine', 'Fanny', 'Gwendoline', 'Priscillia', 'Clemence'}\n",
      "{'Lison', 'Celine', 'Fanny', 'Gwendoline', 'Priscillia'}\n"
     ]
    }
   ],
   "source": [
    "# Modified only with specific methods\n",
    "new_set.add(\"Celine\")\n",
    "print(new_set)\n",
    "\n",
    "new_set.discard(\"Clemence\")\n",
    "print(new_set)"
   ]
  },
  {
   "cell_type": "code",
   "execution_count": 255,
   "id": "f0cfa0b2",
   "metadata": {},
   "outputs": [
    {
     "data": {
      "text/plain": [
       "('Lison', 'Celine', 'Fanny', 'Gwendoline', 'Priscillia')"
      ]
     },
     "execution_count": 255,
     "metadata": {},
     "output_type": "execute_result"
    }
   ],
   "source": [
    "# Set to list\n",
    "list(new_set)\n",
    "tuple(new_set)"
   ]
  },
  {
   "cell_type": "code",
   "execution_count": 257,
   "id": "1d9209b9",
   "metadata": {},
   "outputs": [
    {
     "data": {
      "text/plain": [
       "{'Fanny'}"
      ]
     },
     "execution_count": 257,
     "metadata": {},
     "output_type": "execute_result"
    }
   ],
   "source": [
    "# Intersection\n",
    "set_friends = {\"Claire\", \"Meggy\", \"Sonia\", \"Fanny\"}\n",
    "set_friends.intersection(new_set)"
   ]
  },
  {
   "cell_type": "code",
   "execution_count": 266,
   "id": "c4368932",
   "metadata": {},
   "outputs": [
    {
     "data": {
      "text/plain": [
       "{'Celine',\n",
       " 'Claire',\n",
       " 'Fanny',\n",
       " 'Gwendoline',\n",
       " 'Lison',\n",
       " 'Meggy',\n",
       " 'Priscillia',\n",
       " 'Sonia'}"
      ]
     },
     "execution_count": 266,
     "metadata": {},
     "output_type": "execute_result"
    }
   ],
   "source": [
    "# Union\n",
    "set_friends.union(new_set)"
   ]
  },
  {
   "cell_type": "markdown",
   "id": "9276d29a",
   "metadata": {},
   "source": [
    "## Collections"
   ]
  },
  {
   "cell_type": "code",
   "execution_count": 260,
   "id": "c17af7af",
   "metadata": {},
   "outputs": [],
   "source": [
    "from collections import Counter\n",
    "cnt_list = [\"France\", \"England\", \"France\", \"Spain\", \"Belgium\", \"England\", \"France\"]"
   ]
  },
  {
   "cell_type": "code",
   "execution_count": 265,
   "id": "cf4737c9",
   "metadata": {},
   "outputs": [
    {
     "name": "stdout",
     "output_type": "stream",
     "text": [
      "<class 'collections.Counter'>\n",
      "Counter({'France': 3, 'England': 2, 'Spain': 1, 'Belgium': 1})\n"
     ]
    }
   ],
   "source": [
    "# Object creation\n",
    "counter = Counter(cnt_list)\n",
    "print(type(counter))\n",
    "print(counter)"
   ]
  },
  {
   "cell_type": "code",
   "execution_count": 268,
   "id": "d1c21a35",
   "metadata": {},
   "outputs": [
    {
     "data": {
      "text/plain": [
       "[('France', 3), ('England', 2)]"
      ]
     },
     "execution_count": 268,
     "metadata": {},
     "output_type": "execute_result"
    }
   ],
   "source": [
    "# Most common\n",
    "counter.most_common(2)"
   ]
  },
  {
   "cell_type": "code",
   "execution_count": 273,
   "id": "7f7908f0",
   "metadata": {},
   "outputs": [
    {
     "data": {
      "text/plain": [
       "3"
      ]
     },
     "execution_count": 273,
     "metadata": {},
     "output_type": "execute_result"
    }
   ],
   "source": [
    "# Get the count for a specific key\n",
    "counter.get(\"France\")"
   ]
  },
  {
   "cell_type": "markdown",
   "id": "374aef65",
   "metadata": {},
   "source": [
    "# Build a library"
   ]
  },
  {
   "cell_type": "code",
   "execution_count": 280,
   "id": "6e07b2e4",
   "metadata": {},
   "outputs": [],
   "source": [
    "# Create a function\n",
    "def count_words(sentence) :\n",
    "    nbr_of_words = len(sentence.split(\" \"))\n",
    "    return nbr_of_words"
   ]
  },
  {
   "cell_type": "code",
   "execution_count": 281,
   "id": "886eb84c",
   "metadata": {},
   "outputs": [
    {
     "data": {
      "text/plain": [
       "3"
      ]
     },
     "execution_count": 281,
     "metadata": {},
     "output_type": "execute_result"
    }
   ],
   "source": [
    "count_words(\"I love Mojitos\")"
   ]
  },
  {
   "cell_type": "code",
   "execution_count": 18,
   "id": "d62831bd",
   "metadata": {},
   "outputs": [],
   "source": [
    "# Use your new library\n",
    "import sys\n",
    "sys.path.append(\"/Users/flav/Documents/Cours/BigData1_BDSE/\")\n",
    "\n",
    "from CountLib import count"
   ]
  },
  {
   "cell_type": "code",
   "execution_count": 19,
   "id": "f7c4865f",
   "metadata": {},
   "outputs": [
    {
     "data": {
      "text/plain": [
       "5"
      ]
     },
     "execution_count": 19,
     "metadata": {},
     "output_type": "execute_result"
    }
   ],
   "source": [
    "count.count_words(\"I love mojitos and Punch\")"
   ]
  },
  {
   "cell_type": "markdown",
   "id": "07da7806",
   "metadata": {},
   "source": [
    "# Create a program usable with command line"
   ]
  },
  {
   "cell_type": "code",
   "execution_count": 289,
   "id": "bbfc268b",
   "metadata": {},
   "outputs": [
    {
     "name": "stderr",
     "output_type": "stream",
     "text": [
      "usage: ipykernel_launcher.py [-h] [--input_sentence INPUT_SENTENCE]\n",
      "ipykernel_launcher.py: error: unrecognized arguments: -f /Users/flav/Library/Jupyter/runtime/kernel-72e162ec-b881-43a7-bcdd-1d62b7808731.json\n"
     ]
    },
    {
     "ename": "SystemExit",
     "evalue": "2",
     "output_type": "error",
     "traceback": [
      "An exception has occurred, use %tb to see the full traceback.\n",
      "\u001b[0;31mSystemExit\u001b[0m\u001b[0;31m:\u001b[0m 2\n"
     ]
    },
    {
     "name": "stderr",
     "output_type": "stream",
     "text": [
      "/Library/Frameworks/Python.framework/Versions/3.9/lib/python3.9/site-packages/IPython/core/interactiveshell.py:3406: UserWarning: To exit: use 'exit', 'quit', or Ctrl-D.\n",
      "  warn(\"To exit: use 'exit', 'quit', or Ctrl-D.\", stacklevel=1)\n"
     ]
    }
   ],
   "source": [
    "import argparse\n",
    "\n",
    "def count_words(sentence) :\n",
    "    nbr_of_words = len(sentence.split(\" \"))\n",
    "    return nbr_of_words\n",
    "\n",
    "def main():\n",
    "    ap = argparse.ArgumentParser()\n",
    "    ap.add_argument(\"--input_sentence\", help = \"Enter a sentence\", type = str)\n",
    "    args = vars(ap.parse_args())\n",
    "    count_words(sentence=args[\"input_sentence\"])\n",
    "    \n",
    "if __name__ == \"__main__\" :\n",
    "    main()"
   ]
  },
  {
   "cell_type": "code",
   "execution_count": 290,
   "id": "e39d9c05",
   "metadata": {},
   "outputs": [
    {
     "name": "stdout",
     "output_type": "stream",
     "text": [
      "usage: word_counter.py [-h] [--input_sentence INPUT_SENTENCE]\r\n",
      "\r\n",
      "optional arguments:\r\n",
      "  -h, --help            show this help message and exit\r\n",
      "  --input_sentence INPUT_SENTENCE\r\n",
      "                        Enter a sentence\r\n"
     ]
    }
   ],
   "source": [
    "!python3 word_counter.py --help"
   ]
  },
  {
   "cell_type": "code",
   "execution_count": 288,
   "id": "6cea5c98",
   "metadata": {},
   "outputs": [],
   "source": [
    "!python3 word_counter.py --input_sentence \"We are the best students\""
   ]
  },
  {
   "cell_type": "markdown",
   "id": "8e4c1409",
   "metadata": {},
   "source": [
    "# Major libraries"
   ]
  },
  {
   "cell_type": "markdown",
   "id": "1da48322",
   "metadata": {},
   "source": [
    "## Pandas"
   ]
  },
  {
   "cell_type": "code",
   "execution_count": 4,
   "id": "fc8f7116",
   "metadata": {},
   "outputs": [],
   "source": [
    "import pandas as pd"
   ]
  },
  {
   "cell_type": "code",
   "execution_count": 5,
   "id": "fb24386f",
   "metadata": {},
   "outputs": [
    {
     "data": {
      "text/html": [
       "<div>\n",
       "<style scoped>\n",
       "    .dataframe tbody tr th:only-of-type {\n",
       "        vertical-align: middle;\n",
       "    }\n",
       "\n",
       "    .dataframe tbody tr th {\n",
       "        vertical-align: top;\n",
       "    }\n",
       "\n",
       "    .dataframe thead th {\n",
       "        text-align: right;\n",
       "    }\n",
       "</style>\n",
       "<table border=\"1\" class=\"dataframe\">\n",
       "  <thead>\n",
       "    <tr style=\"text-align: right;\">\n",
       "      <th></th>\n",
       "      <th>name</th>\n",
       "      <th>Age</th>\n",
       "      <th>Job</th>\n",
       "    </tr>\n",
       "  </thead>\n",
       "  <tbody>\n",
       "    <tr>\n",
       "      <th>0</th>\n",
       "      <td>Julie</td>\n",
       "      <td>24</td>\n",
       "      <td>Student</td>\n",
       "    </tr>\n",
       "    <tr>\n",
       "      <th>1</th>\n",
       "      <td>Mathilde</td>\n",
       "      <td>36</td>\n",
       "      <td>Doctor</td>\n",
       "    </tr>\n",
       "    <tr>\n",
       "      <th>2</th>\n",
       "      <td>Marie</td>\n",
       "      <td>22</td>\n",
       "      <td>Teacher</td>\n",
       "    </tr>\n",
       "  </tbody>\n",
       "</table>\n",
       "</div>"
      ],
      "text/plain": [
       "       name  Age      Job\n",
       "0     Julie   24  Student\n",
       "1  Mathilde   36   Doctor\n",
       "2     Marie   22  Teacher"
      ]
     },
     "execution_count": 5,
     "metadata": {},
     "output_type": "execute_result"
    }
   ],
   "source": [
    "new_df = pd.DataFrame(data = {\"name\" : [\"Julie\", \"Mathilde\", \"Marie\"],\n",
    "                             \"Age\" : [24, 36, 22], \n",
    "                             \"Job\" : [\"Student\", \"Doctor\", \"Teacher\"]})\n",
    "new_df"
   ]
  },
  {
   "cell_type": "code",
   "execution_count": 389,
   "id": "57c5dba5",
   "metadata": {},
   "outputs": [
    {
     "name": "stdout",
     "output_type": "stream",
     "text": [
      "(99, 71)\n",
      "Index(['Année', 'Zone', 'Région', 'Numéro', 'Département', 'Catégorie A',\n",
      "       'Feux d'habitations-bureaux', 'dont feux de cheminées',\n",
      "       'Feux d'ERP avec local à sommeil', 'Feux d'ERP sans local à sommeil',\n",
      "       'Feux de locaux industriels', 'Feux de locaux artisanaux',\n",
      "       'Feux de locaux agricoles', 'Feux sur voie publique',\n",
      "       'Feux de véhicules', 'Feux de végétations', 'Autres feux', 'Incendies',\n",
      "       'Accidents sur lieux de travail', 'Accidents à domicile',\n",
      "       'Accidents de sport', 'Accidents sur voie publique',\n",
      "       'Secours en montagne', 'Malaises sur lieux de travail',\n",
      "       'Malaises à domicile : urgence vitale', 'Malaises à domicile : carence',\n",
      "       'Malaises en sport', 'Malaises sur voie publique', 'Autolyses',\n",
      "       'Secours en piscines ou eaux intérieures', 'Secours en mer (FDSM)',\n",
      "       'Intoxications', 'dont intoxications au CO', 'Autres SAV',\n",
      "       'Secours à victime', 'Relevage de personnes', 'Recherche de personnes',\n",
      "       'Aides à personne', 'Secours à personne', 'Accidents routiers',\n",
      "       'Accidents ferroviaires', 'Accidents aériens',\n",
      "       'Accidents de navigation', 'Accidents de téléportage',\n",
      "       'Accidents de circulation', 'Odeurs - fuites de gaz',\n",
      "       'Odeurs (autres que gaz)', 'Fait dus à l'électricité',\n",
      "       'Pollutions - contaminations', 'Autres risques technologiques',\n",
      "       'Risques technologiques', 'Fuites d'eau', 'Inondations',\n",
      "       'Ouvertures de portes', 'Recherches d'objets', 'Bruits suspects',\n",
      "       'Protection des biens', 'Fausses alertes', 'dont fausses alertes DAAF',\n",
      "       'Faits d'animaux (hors hyménoptères)', 'Hyménoptères',\n",
      "       'Dégagements de voies publiques', 'Nettoyages de voies publiques',\n",
      "       'Éboulements', 'Déposes d'objets',\n",
      "       'Piquets de sécurité - surveillances', 'Engins explosifs',\n",
      "       'Autres opérations diverses', 'Divers', 'Opérations diverses',\n",
      "       'Total interventions'],\n",
      "      dtype='object')\n"
     ]
    }
   ],
   "source": [
    "# Print shape and column names\n",
    "print(inter_2020.shape)\n",
    "print(inter_2020.columns)"
   ]
  },
  {
   "cell_type": "code",
   "execution_count": 390,
   "id": "0fa04957",
   "metadata": {},
   "outputs": [
    {
     "data": {
      "text/html": [
       "<div>\n",
       "<style scoped>\n",
       "    .dataframe tbody tr th:only-of-type {\n",
       "        vertical-align: middle;\n",
       "    }\n",
       "\n",
       "    .dataframe tbody tr th {\n",
       "        vertical-align: top;\n",
       "    }\n",
       "\n",
       "    .dataframe thead th {\n",
       "        text-align: right;\n",
       "    }\n",
       "</style>\n",
       "<table border=\"1\" class=\"dataframe\">\n",
       "  <thead>\n",
       "    <tr style=\"text-align: right;\">\n",
       "      <th></th>\n",
       "      <th></th>\n",
       "      <th>Année</th>\n",
       "      <th>Région</th>\n",
       "      <th>Département</th>\n",
       "      <th>Catégorie A</th>\n",
       "      <th>Feux d'habitations-bureaux</th>\n",
       "      <th>dont feux de cheminées</th>\n",
       "      <th>Feux d'ERP avec local à sommeil</th>\n",
       "      <th>Feux d'ERP sans local à sommeil</th>\n",
       "      <th>Feux de locaux industriels</th>\n",
       "      <th>Feux de locaux artisanaux</th>\n",
       "      <th>...</th>\n",
       "      <th>Dégagements de voies publiques</th>\n",
       "      <th>Nettoyages de voies publiques</th>\n",
       "      <th>Éboulements</th>\n",
       "      <th>Déposes d'objets</th>\n",
       "      <th>Piquets de sécurité - surveillances</th>\n",
       "      <th>Engins explosifs</th>\n",
       "      <th>Autres opérations diverses</th>\n",
       "      <th>Divers</th>\n",
       "      <th>Opérations diverses</th>\n",
       "      <th>Total interventions</th>\n",
       "    </tr>\n",
       "    <tr>\n",
       "      <th>Numéro</th>\n",
       "      <th>Zone</th>\n",
       "      <th></th>\n",
       "      <th></th>\n",
       "      <th></th>\n",
       "      <th></th>\n",
       "      <th></th>\n",
       "      <th></th>\n",
       "      <th></th>\n",
       "      <th></th>\n",
       "      <th></th>\n",
       "      <th></th>\n",
       "      <th></th>\n",
       "      <th></th>\n",
       "      <th></th>\n",
       "      <th></th>\n",
       "      <th></th>\n",
       "      <th></th>\n",
       "      <th></th>\n",
       "      <th></th>\n",
       "      <th></th>\n",
       "      <th></th>\n",
       "      <th></th>\n",
       "    </tr>\n",
       "  </thead>\n",
       "  <tbody>\n",
       "    <tr>\n",
       "      <th>BMPM</th>\n",
       "      <th>Sud</th>\n",
       "      <td>2020</td>\n",
       "      <td>Provence-Alpes-Côte d'Azur</td>\n",
       "      <td>Bouches-du-Rhône</td>\n",
       "      <td>NaN</td>\n",
       "      <td>717</td>\n",
       "      <td>10</td>\n",
       "      <td>47</td>\n",
       "      <td>149</td>\n",
       "      <td>47</td>\n",
       "      <td>0</td>\n",
       "      <td>...</td>\n",
       "      <td>480</td>\n",
       "      <td>128</td>\n",
       "      <td>18</td>\n",
       "      <td>0</td>\n",
       "      <td>1 597</td>\n",
       "      <td>63</td>\n",
       "      <td>4 974</td>\n",
       "      <td>11 362</td>\n",
       "      <td>14 780</td>\n",
       "      <td>109 193</td>\n",
       "    </tr>\n",
       "    <tr>\n",
       "      <th>BSPP</th>\n",
       "      <th>Île-de-France</th>\n",
       "      <td>2020</td>\n",
       "      <td>Île-de-France</td>\n",
       "      <td>Paris</td>\n",
       "      <td>NaN</td>\n",
       "      <td>3 657</td>\n",
       "      <td>43</td>\n",
       "      <td>99</td>\n",
       "      <td>549</td>\n",
       "      <td>124</td>\n",
       "      <td>20</td>\n",
       "      <td>...</td>\n",
       "      <td>31</td>\n",
       "      <td>201</td>\n",
       "      <td>29</td>\n",
       "      <td>1 408</td>\n",
       "      <td>2</td>\n",
       "      <td>16</td>\n",
       "      <td>11 838</td>\n",
       "      <td>16 072</td>\n",
       "      <td>18 999</td>\n",
       "      <td>423 442</td>\n",
       "    </tr>\n",
       "    <tr>\n",
       "      <th>1</th>\n",
       "      <th>Sud-est</th>\n",
       "      <td>2020</td>\n",
       "      <td>Auvergne-Rhône-Alpes</td>\n",
       "      <td>Ain</td>\n",
       "      <td>B</td>\n",
       "      <td>515</td>\n",
       "      <td>202</td>\n",
       "      <td>0</td>\n",
       "      <td>55</td>\n",
       "      <td>63</td>\n",
       "      <td>7</td>\n",
       "      <td>...</td>\n",
       "      <td>46</td>\n",
       "      <td>299</td>\n",
       "      <td>45</td>\n",
       "      <td>1</td>\n",
       "      <td>0</td>\n",
       "      <td>0</td>\n",
       "      <td>649</td>\n",
       "      <td>4 279</td>\n",
       "      <td>4 887</td>\n",
       "      <td>42 444</td>\n",
       "    </tr>\n",
       "    <tr>\n",
       "      <th>2</th>\n",
       "      <th>Nord</th>\n",
       "      <td>2020</td>\n",
       "      <td>Hauts-de-France</td>\n",
       "      <td>Aisne</td>\n",
       "      <td>B</td>\n",
       "      <td>915</td>\n",
       "      <td>345</td>\n",
       "      <td>16</td>\n",
       "      <td>23</td>\n",
       "      <td>50</td>\n",
       "      <td>2</td>\n",
       "      <td>...</td>\n",
       "      <td>17</td>\n",
       "      <td>1</td>\n",
       "      <td>4</td>\n",
       "      <td>163</td>\n",
       "      <td>0</td>\n",
       "      <td>1</td>\n",
       "      <td>205</td>\n",
       "      <td>2 092</td>\n",
       "      <td>3 112</td>\n",
       "      <td>30 791</td>\n",
       "    </tr>\n",
       "    <tr>\n",
       "      <th>3</th>\n",
       "      <th>Sud-est</th>\n",
       "      <td>2020</td>\n",
       "      <td>Auvergne-Rhône-Alpes</td>\n",
       "      <td>Allier</td>\n",
       "      <td>C</td>\n",
       "      <td>433</td>\n",
       "      <td>238</td>\n",
       "      <td>2</td>\n",
       "      <td>20</td>\n",
       "      <td>17</td>\n",
       "      <td>35</td>\n",
       "      <td>...</td>\n",
       "      <td>146</td>\n",
       "      <td>35</td>\n",
       "      <td>1</td>\n",
       "      <td>77</td>\n",
       "      <td>15</td>\n",
       "      <td>0</td>\n",
       "      <td>420</td>\n",
       "      <td>963</td>\n",
       "      <td>2 575</td>\n",
       "      <td>25 191</td>\n",
       "    </tr>\n",
       "    <tr>\n",
       "      <th>...</th>\n",
       "      <th>...</th>\n",
       "      <td>...</td>\n",
       "      <td>...</td>\n",
       "      <td>...</td>\n",
       "      <td>...</td>\n",
       "      <td>...</td>\n",
       "      <td>...</td>\n",
       "      <td>...</td>\n",
       "      <td>...</td>\n",
       "      <td>...</td>\n",
       "      <td>...</td>\n",
       "      <td>...</td>\n",
       "      <td>...</td>\n",
       "      <td>...</td>\n",
       "      <td>...</td>\n",
       "      <td>...</td>\n",
       "      <td>...</td>\n",
       "      <td>...</td>\n",
       "      <td>...</td>\n",
       "      <td>...</td>\n",
       "      <td>...</td>\n",
       "      <td>...</td>\n",
       "    </tr>\n",
       "    <tr>\n",
       "      <th>971</th>\n",
       "      <th>Antilles</th>\n",
       "      <td>2020</td>\n",
       "      <td>Guadeloupe</td>\n",
       "      <td>Guadeloupe</td>\n",
       "      <td>B</td>\n",
       "      <td>252</td>\n",
       "      <td>0</td>\n",
       "      <td>4</td>\n",
       "      <td>30</td>\n",
       "      <td>9</td>\n",
       "      <td>14</td>\n",
       "      <td>...</td>\n",
       "      <td>0</td>\n",
       "      <td>18</td>\n",
       "      <td>0</td>\n",
       "      <td>0</td>\n",
       "      <td>0</td>\n",
       "      <td>0</td>\n",
       "      <td>52</td>\n",
       "      <td>218</td>\n",
       "      <td>422</td>\n",
       "      <td>36 471</td>\n",
       "    </tr>\n",
       "    <tr>\n",
       "      <th>972</th>\n",
       "      <th>Antilles</th>\n",
       "      <td>2020</td>\n",
       "      <td>Martinique</td>\n",
       "      <td>Martinique</td>\n",
       "      <td>C</td>\n",
       "      <td>162</td>\n",
       "      <td>0</td>\n",
       "      <td>6</td>\n",
       "      <td>11</td>\n",
       "      <td>14</td>\n",
       "      <td>2</td>\n",
       "      <td>...</td>\n",
       "      <td>97</td>\n",
       "      <td>0</td>\n",
       "      <td>10</td>\n",
       "      <td>0</td>\n",
       "      <td>0</td>\n",
       "      <td>1</td>\n",
       "      <td>2 102</td>\n",
       "      <td>2 332</td>\n",
       "      <td>2 434</td>\n",
       "      <td>30 627</td>\n",
       "    </tr>\n",
       "    <tr>\n",
       "      <th>973</th>\n",
       "      <th>Guyane</th>\n",
       "      <td>2020</td>\n",
       "      <td>Guyane</td>\n",
       "      <td>Guyane</td>\n",
       "      <td>C</td>\n",
       "      <td>64</td>\n",
       "      <td>0</td>\n",
       "      <td>5</td>\n",
       "      <td>7</td>\n",
       "      <td>2</td>\n",
       "      <td>0</td>\n",
       "      <td>...</td>\n",
       "      <td>0</td>\n",
       "      <td>0</td>\n",
       "      <td>0</td>\n",
       "      <td>0</td>\n",
       "      <td>0</td>\n",
       "      <td>0</td>\n",
       "      <td>641</td>\n",
       "      <td>1 948</td>\n",
       "      <td>2 075</td>\n",
       "      <td>17 470</td>\n",
       "    </tr>\n",
       "    <tr>\n",
       "      <th>974</th>\n",
       "      <th>Océan indien</th>\n",
       "      <td>2020</td>\n",
       "      <td>La Réunion</td>\n",
       "      <td>Réunion</td>\n",
       "      <td>B</td>\n",
       "      <td>634</td>\n",
       "      <td>0</td>\n",
       "      <td>8</td>\n",
       "      <td>60</td>\n",
       "      <td>50</td>\n",
       "      <td>0</td>\n",
       "      <td>...</td>\n",
       "      <td>79</td>\n",
       "      <td>0</td>\n",
       "      <td>6</td>\n",
       "      <td>0</td>\n",
       "      <td>0</td>\n",
       "      <td>5</td>\n",
       "      <td>0</td>\n",
       "      <td>425</td>\n",
       "      <td>641</td>\n",
       "      <td>46 173</td>\n",
       "    </tr>\n",
       "    <tr>\n",
       "      <th>976</th>\n",
       "      <th>Océan indien</th>\n",
       "      <td>2020</td>\n",
       "      <td>Mayotte</td>\n",
       "      <td>Mayotte</td>\n",
       "      <td>C</td>\n",
       "      <td>120</td>\n",
       "      <td>0</td>\n",
       "      <td>0</td>\n",
       "      <td>0</td>\n",
       "      <td>0</td>\n",
       "      <td>0</td>\n",
       "      <td>...</td>\n",
       "      <td>0</td>\n",
       "      <td>19</td>\n",
       "      <td>0</td>\n",
       "      <td>0</td>\n",
       "      <td>0</td>\n",
       "      <td>0</td>\n",
       "      <td>0</td>\n",
       "      <td>19</td>\n",
       "      <td>73</td>\n",
       "      <td>14 420</td>\n",
       "    </tr>\n",
       "  </tbody>\n",
       "</table>\n",
       "<p>99 rows × 69 columns</p>\n",
       "</div>"
      ],
      "text/plain": [
       "                      Année                      Région       Département  \\\n",
       "Numéro Zone                                                                 \n",
       "BMPM   Sud             2020  Provence-Alpes-Côte d'Azur  Bouches-du-Rhône   \n",
       "BSPP   Île-de-France   2020               Île-de-France             Paris   \n",
       "1      Sud-est         2020        Auvergne-Rhône-Alpes               Ain   \n",
       "2      Nord            2020             Hauts-de-France             Aisne   \n",
       "3      Sud-est         2020        Auvergne-Rhône-Alpes            Allier   \n",
       "...                     ...                         ...               ...   \n",
       "971    Antilles        2020                  Guadeloupe        Guadeloupe   \n",
       "972    Antilles        2020                  Martinique        Martinique   \n",
       "973    Guyane          2020                      Guyane            Guyane   \n",
       "974    Océan indien    2020                  La Réunion           Réunion   \n",
       "976    Océan indien    2020                     Mayotte           Mayotte   \n",
       "\n",
       "                     Catégorie A Feux d'habitations-bureaux  \\\n",
       "Numéro Zone                                                   \n",
       "BMPM   Sud                   NaN                        717   \n",
       "BSPP   Île-de-France         NaN                      3 657   \n",
       "1      Sud-est                 B                        515   \n",
       "2      Nord                    B                        915   \n",
       "3      Sud-est                 C                        433   \n",
       "...                          ...                        ...   \n",
       "971    Antilles                B                        252   \n",
       "972    Antilles                C                        162   \n",
       "973    Guyane                  C                         64   \n",
       "974    Océan indien            B                        634   \n",
       "976    Océan indien            C                        120   \n",
       "\n",
       "                      dont feux de cheminées  Feux d'ERP avec local à sommeil  \\\n",
       "Numéro Zone                                                                     \n",
       "BMPM   Sud                                10                               47   \n",
       "BSPP   Île-de-France                      43                               99   \n",
       "1      Sud-est                           202                                0   \n",
       "2      Nord                              345                               16   \n",
       "3      Sud-est                           238                                2   \n",
       "...                                      ...                              ...   \n",
       "971    Antilles                            0                                4   \n",
       "972    Antilles                            0                                6   \n",
       "973    Guyane                              0                                5   \n",
       "974    Océan indien                        0                                8   \n",
       "976    Océan indien                        0                                0   \n",
       "\n",
       "                      Feux d'ERP sans local à sommeil  \\\n",
       "Numéro Zone                                             \n",
       "BMPM   Sud                                        149   \n",
       "BSPP   Île-de-France                              549   \n",
       "1      Sud-est                                     55   \n",
       "2      Nord                                        23   \n",
       "3      Sud-est                                     20   \n",
       "...                                               ...   \n",
       "971    Antilles                                    30   \n",
       "972    Antilles                                    11   \n",
       "973    Guyane                                       7   \n",
       "974    Océan indien                                60   \n",
       "976    Océan indien                                 0   \n",
       "\n",
       "                      Feux de locaux industriels  Feux de locaux artisanaux  \\\n",
       "Numéro Zone                                                                   \n",
       "BMPM   Sud                                    47                          0   \n",
       "BSPP   Île-de-France                         124                         20   \n",
       "1      Sud-est                                63                          7   \n",
       "2      Nord                                   50                          2   \n",
       "3      Sud-est                                17                         35   \n",
       "...                                          ...                        ...   \n",
       "971    Antilles                                9                         14   \n",
       "972    Antilles                               14                          2   \n",
       "973    Guyane                                  2                          0   \n",
       "974    Océan indien                           50                          0   \n",
       "976    Océan indien                            0                          0   \n",
       "\n",
       "                      ...  Dégagements de voies publiques  \\\n",
       "Numéro Zone           ...                                   \n",
       "BMPM   Sud            ...                             480   \n",
       "BSPP   Île-de-France  ...                              31   \n",
       "1      Sud-est        ...                              46   \n",
       "2      Nord           ...                              17   \n",
       "3      Sud-est        ...                             146   \n",
       "...                   ...                             ...   \n",
       "971    Antilles       ...                               0   \n",
       "972    Antilles       ...                              97   \n",
       "973    Guyane         ...                               0   \n",
       "974    Océan indien   ...                              79   \n",
       "976    Océan indien   ...                               0   \n",
       "\n",
       "                     Nettoyages de voies publiques Éboulements  \\\n",
       "Numéro Zone                                                      \n",
       "BMPM   Sud                                     128          18   \n",
       "BSPP   Île-de-France                           201          29   \n",
       "1      Sud-est                                 299          45   \n",
       "2      Nord                                      1           4   \n",
       "3      Sud-est                                  35           1   \n",
       "...                                            ...         ...   \n",
       "971    Antilles                                 18           0   \n",
       "972    Antilles                                  0          10   \n",
       "973    Guyane                                    0           0   \n",
       "974    Océan indien                              0           6   \n",
       "976    Océan indien                             19           0   \n",
       "\n",
       "                     Déposes d'objets Piquets de sécurité - surveillances  \\\n",
       "Numéro Zone                                                                 \n",
       "BMPM   Sud                          0                               1 597   \n",
       "BSPP   Île-de-France            1 408                                   2   \n",
       "1      Sud-est                      1                                   0   \n",
       "2      Nord                       163                                   0   \n",
       "3      Sud-est                     77                                  15   \n",
       "...                               ...                                 ...   \n",
       "971    Antilles                     0                                   0   \n",
       "972    Antilles                     0                                   0   \n",
       "973    Guyane                       0                                   0   \n",
       "974    Océan indien                 0                                   0   \n",
       "976    Océan indien                 0                                   0   \n",
       "\n",
       "                     Engins explosifs Autres opérations diverses  Divers  \\\n",
       "Numéro Zone                                                                \n",
       "BMPM   Sud                         63                      4 974  11 362   \n",
       "BSPP   Île-de-France               16                     11 838  16 072   \n",
       "1      Sud-est                      0                        649   4 279   \n",
       "2      Nord                         1                        205   2 092   \n",
       "3      Sud-est                      0                        420     963   \n",
       "...                               ...                        ...     ...   \n",
       "971    Antilles                     0                         52     218   \n",
       "972    Antilles                     1                      2 102   2 332   \n",
       "973    Guyane                       0                        641   1 948   \n",
       "974    Océan indien                 5                          0     425   \n",
       "976    Océan indien                 0                          0      19   \n",
       "\n",
       "                     Opérations diverses Total interventions  \n",
       "Numéro Zone                                                   \n",
       "BMPM   Sud                        14 780             109 193  \n",
       "BSPP   Île-de-France              18 999             423 442  \n",
       "1      Sud-est                     4 887              42 444  \n",
       "2      Nord                        3 112              30 791  \n",
       "3      Sud-est                     2 575              25 191  \n",
       "...                                  ...                 ...  \n",
       "971    Antilles                      422              36 471  \n",
       "972    Antilles                    2 434              30 627  \n",
       "973    Guyane                      2 075              17 470  \n",
       "974    Océan indien                  641              46 173  \n",
       "976    Océan indien                   73              14 420  \n",
       "\n",
       "[99 rows x 69 columns]"
      ]
     },
     "execution_count": 390,
     "metadata": {},
     "output_type": "execute_result"
    }
   ],
   "source": [
    "# Change dataframe index\n",
    "inter_2020.set_index(\"Numéro\")\n",
    "inter_2020.set_index([\"Numéro\", \"Zone\"])"
   ]
  },
  {
   "cell_type": "code",
   "execution_count": 391,
   "id": "9f12222c",
   "metadata": {},
   "outputs": [
    {
     "data": {
      "text/plain": [
       "0     Bouches-du-Rhône\n",
       "1                Paris\n",
       "2                  Ain\n",
       "3                Aisne\n",
       "4               Allier\n",
       "            ...       \n",
       "94          Guadeloupe\n",
       "95          Martinique\n",
       "96              Guyane\n",
       "97             Réunion\n",
       "98             Mayotte\n",
       "Name: Département, Length: 99, dtype: object"
      ]
     },
     "execution_count": 391,
     "metadata": {},
     "output_type": "execute_result"
    }
   ],
   "source": [
    "# Print a columns = a serie\n",
    "inter_2020.Département\n",
    "inter_2020[\"Département\"]"
   ]
  },
  {
   "cell_type": "code",
   "execution_count": 392,
   "id": "fdbe64c5",
   "metadata": {},
   "outputs": [
    {
     "data": {
      "text/html": [
       "<div>\n",
       "<style scoped>\n",
       "    .dataframe tbody tr th:only-of-type {\n",
       "        vertical-align: middle;\n",
       "    }\n",
       "\n",
       "    .dataframe tbody tr th {\n",
       "        vertical-align: top;\n",
       "    }\n",
       "\n",
       "    .dataframe thead th {\n",
       "        text-align: right;\n",
       "    }\n",
       "</style>\n",
       "<table border=\"1\" class=\"dataframe\">\n",
       "  <thead>\n",
       "    <tr style=\"text-align: right;\">\n",
       "      <th></th>\n",
       "      <th>Numéro</th>\n",
       "      <th>Zone</th>\n",
       "      <th>Année</th>\n",
       "      <th>Région</th>\n",
       "      <th>Département</th>\n",
       "    </tr>\n",
       "  </thead>\n",
       "  <tbody>\n",
       "    <tr>\n",
       "      <th>0</th>\n",
       "      <td>BMPM</td>\n",
       "      <td>Sud</td>\n",
       "      <td>2020</td>\n",
       "      <td>Provence-Alpes-Côte d'Azur</td>\n",
       "      <td>Bouches-du-Rhône</td>\n",
       "    </tr>\n",
       "    <tr>\n",
       "      <th>1</th>\n",
       "      <td>BSPP</td>\n",
       "      <td>Île-de-France</td>\n",
       "      <td>2020</td>\n",
       "      <td>Île-de-France</td>\n",
       "      <td>Paris</td>\n",
       "    </tr>\n",
       "    <tr>\n",
       "      <th>2</th>\n",
       "      <td>1</td>\n",
       "      <td>Sud-est</td>\n",
       "      <td>2020</td>\n",
       "      <td>Auvergne-Rhône-Alpes</td>\n",
       "      <td>Ain</td>\n",
       "    </tr>\n",
       "    <tr>\n",
       "      <th>3</th>\n",
       "      <td>2</td>\n",
       "      <td>Nord</td>\n",
       "      <td>2020</td>\n",
       "      <td>Hauts-de-France</td>\n",
       "      <td>Aisne</td>\n",
       "    </tr>\n",
       "    <tr>\n",
       "      <th>4</th>\n",
       "      <td>3</td>\n",
       "      <td>Sud-est</td>\n",
       "      <td>2020</td>\n",
       "      <td>Auvergne-Rhône-Alpes</td>\n",
       "      <td>Allier</td>\n",
       "    </tr>\n",
       "    <tr>\n",
       "      <th>...</th>\n",
       "      <td>...</td>\n",
       "      <td>...</td>\n",
       "      <td>...</td>\n",
       "      <td>...</td>\n",
       "      <td>...</td>\n",
       "    </tr>\n",
       "    <tr>\n",
       "      <th>94</th>\n",
       "      <td>971</td>\n",
       "      <td>Antilles</td>\n",
       "      <td>2020</td>\n",
       "      <td>Guadeloupe</td>\n",
       "      <td>Guadeloupe</td>\n",
       "    </tr>\n",
       "    <tr>\n",
       "      <th>95</th>\n",
       "      <td>972</td>\n",
       "      <td>Antilles</td>\n",
       "      <td>2020</td>\n",
       "      <td>Martinique</td>\n",
       "      <td>Martinique</td>\n",
       "    </tr>\n",
       "    <tr>\n",
       "      <th>96</th>\n",
       "      <td>973</td>\n",
       "      <td>Guyane</td>\n",
       "      <td>2020</td>\n",
       "      <td>Guyane</td>\n",
       "      <td>Guyane</td>\n",
       "    </tr>\n",
       "    <tr>\n",
       "      <th>97</th>\n",
       "      <td>974</td>\n",
       "      <td>Océan indien</td>\n",
       "      <td>2020</td>\n",
       "      <td>La Réunion</td>\n",
       "      <td>Réunion</td>\n",
       "    </tr>\n",
       "    <tr>\n",
       "      <th>98</th>\n",
       "      <td>976</td>\n",
       "      <td>Océan indien</td>\n",
       "      <td>2020</td>\n",
       "      <td>Mayotte</td>\n",
       "      <td>Mayotte</td>\n",
       "    </tr>\n",
       "  </tbody>\n",
       "</table>\n",
       "<p>99 rows × 5 columns</p>\n",
       "</div>"
      ],
      "text/plain": [
       "   Numéro           Zone  Année                      Région       Département\n",
       "0    BMPM            Sud   2020  Provence-Alpes-Côte d'Azur  Bouches-du-Rhône\n",
       "1    BSPP  Île-de-France   2020               Île-de-France             Paris\n",
       "2       1        Sud-est   2020        Auvergne-Rhône-Alpes               Ain\n",
       "3       2           Nord   2020             Hauts-de-France             Aisne\n",
       "4       3        Sud-est   2020        Auvergne-Rhône-Alpes            Allier\n",
       "..    ...            ...    ...                         ...               ...\n",
       "94    971       Antilles   2020                  Guadeloupe        Guadeloupe\n",
       "95    972       Antilles   2020                  Martinique        Martinique\n",
       "96    973         Guyane   2020                      Guyane            Guyane\n",
       "97    974   Océan indien   2020                  La Réunion           Réunion\n",
       "98    976   Océan indien   2020                     Mayotte           Mayotte\n",
       "\n",
       "[99 rows x 5 columns]"
      ]
     },
     "execution_count": 392,
     "metadata": {},
     "output_type": "execute_result"
    }
   ],
   "source": [
    "# Select columns\n",
    "inter_2020[[\"Numéro\", \"Zone\", \"Année\", \"Région\", \"Département\"]]"
   ]
  },
  {
   "cell_type": "code",
   "execution_count": 393,
   "id": "368b9b5d",
   "metadata": {},
   "outputs": [
    {
     "data": {
      "text/html": [
       "<div>\n",
       "<style scoped>\n",
       "    .dataframe tbody tr th:only-of-type {\n",
       "        vertical-align: middle;\n",
       "    }\n",
       "\n",
       "    .dataframe tbody tr th {\n",
       "        vertical-align: top;\n",
       "    }\n",
       "\n",
       "    .dataframe thead th {\n",
       "        text-align: right;\n",
       "    }\n",
       "</style>\n",
       "<table border=\"1\" class=\"dataframe\">\n",
       "  <thead>\n",
       "    <tr style=\"text-align: right;\">\n",
       "      <th></th>\n",
       "      <th>Année</th>\n",
       "      <th>Zone</th>\n",
       "      <th>Région</th>\n",
       "      <th>Numéro</th>\n",
       "      <th>Département</th>\n",
       "      <th>Catégorie A</th>\n",
       "      <th>Feux d'habitations-bureaux</th>\n",
       "      <th>dont feux de cheminées</th>\n",
       "      <th>Feux d'ERP avec local à sommeil</th>\n",
       "      <th>Feux d'ERP sans local à sommeil</th>\n",
       "      <th>...</th>\n",
       "      <th>Dégagements de voies publiques</th>\n",
       "      <th>Nettoyages de voies publiques</th>\n",
       "      <th>Éboulements</th>\n",
       "      <th>Déposes d'objets</th>\n",
       "      <th>Piquets de sécurité - surveillances</th>\n",
       "      <th>Engins explosifs</th>\n",
       "      <th>Autres opérations diverses</th>\n",
       "      <th>Divers</th>\n",
       "      <th>Opérations diverses</th>\n",
       "      <th>Total interventions</th>\n",
       "    </tr>\n",
       "  </thead>\n",
       "  <tbody>\n",
       "    <tr>\n",
       "      <th>0</th>\n",
       "      <td>2020</td>\n",
       "      <td>Sud</td>\n",
       "      <td>Provence-Alpes-Côte d'Azur</td>\n",
       "      <td>BMPM</td>\n",
       "      <td>Bouches-du-Rhône</td>\n",
       "      <td>NaN</td>\n",
       "      <td>717</td>\n",
       "      <td>10</td>\n",
       "      <td>47</td>\n",
       "      <td>149</td>\n",
       "      <td>...</td>\n",
       "      <td>480</td>\n",
       "      <td>128</td>\n",
       "      <td>18</td>\n",
       "      <td>0</td>\n",
       "      <td>1 597</td>\n",
       "      <td>63</td>\n",
       "      <td>4 974</td>\n",
       "      <td>11 362</td>\n",
       "      <td>14 780</td>\n",
       "      <td>109 193</td>\n",
       "    </tr>\n",
       "    <tr>\n",
       "      <th>5</th>\n",
       "      <td>2020</td>\n",
       "      <td>Sud</td>\n",
       "      <td>Provence-Alpes-Côte d'Azur</td>\n",
       "      <td>4</td>\n",
       "      <td>Alpes-de-Haute-Provence</td>\n",
       "      <td>C</td>\n",
       "      <td>265</td>\n",
       "      <td>122</td>\n",
       "      <td>9</td>\n",
       "      <td>15</td>\n",
       "      <td>...</td>\n",
       "      <td>83</td>\n",
       "      <td>1</td>\n",
       "      <td>1</td>\n",
       "      <td>0</td>\n",
       "      <td>4</td>\n",
       "      <td>0</td>\n",
       "      <td>210</td>\n",
       "      <td>723</td>\n",
       "      <td>851</td>\n",
       "      <td>12 324</td>\n",
       "    </tr>\n",
       "    <tr>\n",
       "      <th>6</th>\n",
       "      <td>2020</td>\n",
       "      <td>Sud</td>\n",
       "      <td>Provence-Alpes-Côte d'Azur</td>\n",
       "      <td>5</td>\n",
       "      <td>Hautes-Alpes</td>\n",
       "      <td>C</td>\n",
       "      <td>301</td>\n",
       "      <td>139</td>\n",
       "      <td>1</td>\n",
       "      <td>25</td>\n",
       "      <td>...</td>\n",
       "      <td>40</td>\n",
       "      <td>6</td>\n",
       "      <td>1</td>\n",
       "      <td>0</td>\n",
       "      <td>187</td>\n",
       "      <td>0</td>\n",
       "      <td>14</td>\n",
       "      <td>612</td>\n",
       "      <td>880</td>\n",
       "      <td>10 327</td>\n",
       "    </tr>\n",
       "    <tr>\n",
       "      <th>7</th>\n",
       "      <td>2020</td>\n",
       "      <td>Sud</td>\n",
       "      <td>Provence-Alpes-Côte d'Azur</td>\n",
       "      <td>6</td>\n",
       "      <td>Alpes-Maritimes</td>\n",
       "      <td>A</td>\n",
       "      <td>748</td>\n",
       "      <td>111</td>\n",
       "      <td>20</td>\n",
       "      <td>57</td>\n",
       "      <td>...</td>\n",
       "      <td>646</td>\n",
       "      <td>247</td>\n",
       "      <td>86</td>\n",
       "      <td>120</td>\n",
       "      <td>6</td>\n",
       "      <td>9</td>\n",
       "      <td>1 206</td>\n",
       "      <td>3 908</td>\n",
       "      <td>10 528</td>\n",
       "      <td>95 538</td>\n",
       "    </tr>\n",
       "    <tr>\n",
       "      <th>10</th>\n",
       "      <td>2020</td>\n",
       "      <td>Sud</td>\n",
       "      <td>Occitanie</td>\n",
       "      <td>9</td>\n",
       "      <td>Ariège</td>\n",
       "      <td>C</td>\n",
       "      <td>268</td>\n",
       "      <td>155</td>\n",
       "      <td>0</td>\n",
       "      <td>3</td>\n",
       "      <td>...</td>\n",
       "      <td>58</td>\n",
       "      <td>1</td>\n",
       "      <td>0</td>\n",
       "      <td>61</td>\n",
       "      <td>1</td>\n",
       "      <td>0</td>\n",
       "      <td>184</td>\n",
       "      <td>579</td>\n",
       "      <td>723</td>\n",
       "      <td>10 067</td>\n",
       "    </tr>\n",
       "    <tr>\n",
       "      <th>12</th>\n",
       "      <td>2020</td>\n",
       "      <td>Sud</td>\n",
       "      <td>Occitanie</td>\n",
       "      <td>11</td>\n",
       "      <td>Aude</td>\n",
       "      <td>B</td>\n",
       "      <td>307</td>\n",
       "      <td>139</td>\n",
       "      <td>3</td>\n",
       "      <td>6</td>\n",
       "      <td>...</td>\n",
       "      <td>29</td>\n",
       "      <td>0</td>\n",
       "      <td>7</td>\n",
       "      <td>0</td>\n",
       "      <td>192</td>\n",
       "      <td>3</td>\n",
       "      <td>145</td>\n",
       "      <td>1 718</td>\n",
       "      <td>2 609</td>\n",
       "      <td>27 141</td>\n",
       "    </tr>\n",
       "    <tr>\n",
       "      <th>13</th>\n",
       "      <td>2020</td>\n",
       "      <td>Sud</td>\n",
       "      <td>Occitanie</td>\n",
       "      <td>12</td>\n",
       "      <td>Aveyron</td>\n",
       "      <td>C</td>\n",
       "      <td>280</td>\n",
       "      <td>177</td>\n",
       "      <td>16</td>\n",
       "      <td>15</td>\n",
       "      <td>...</td>\n",
       "      <td>9</td>\n",
       "      <td>1</td>\n",
       "      <td>10</td>\n",
       "      <td>24</td>\n",
       "      <td>2</td>\n",
       "      <td>1</td>\n",
       "      <td>218</td>\n",
       "      <td>770</td>\n",
       "      <td>1 113</td>\n",
       "      <td>14 651</td>\n",
       "    </tr>\n",
       "    <tr>\n",
       "      <th>14</th>\n",
       "      <td>2020</td>\n",
       "      <td>Sud</td>\n",
       "      <td>Provence-Alpes-Côte d'Azur</td>\n",
       "      <td>13</td>\n",
       "      <td>Bouches-du-Rhône</td>\n",
       "      <td>A</td>\n",
       "      <td>1 065</td>\n",
       "      <td>192</td>\n",
       "      <td>24</td>\n",
       "      <td>110</td>\n",
       "      <td>...</td>\n",
       "      <td>351</td>\n",
       "      <td>0</td>\n",
       "      <td>27</td>\n",
       "      <td>312</td>\n",
       "      <td>455</td>\n",
       "      <td>21</td>\n",
       "      <td>927</td>\n",
       "      <td>8 583</td>\n",
       "      <td>10 204</td>\n",
       "      <td>131 701</td>\n",
       "    </tr>\n",
       "    <tr>\n",
       "      <th>30</th>\n",
       "      <td>2020</td>\n",
       "      <td>Sud</td>\n",
       "      <td>Corse</td>\n",
       "      <td>2a</td>\n",
       "      <td>Corse-du-Sud</td>\n",
       "      <td>C</td>\n",
       "      <td>177</td>\n",
       "      <td>85</td>\n",
       "      <td>1</td>\n",
       "      <td>7</td>\n",
       "      <td>...</td>\n",
       "      <td>0</td>\n",
       "      <td>1</td>\n",
       "      <td>8</td>\n",
       "      <td>0</td>\n",
       "      <td>56</td>\n",
       "      <td>5</td>\n",
       "      <td>435</td>\n",
       "      <td>716</td>\n",
       "      <td>926</td>\n",
       "      <td>13 403</td>\n",
       "    </tr>\n",
       "    <tr>\n",
       "      <th>31</th>\n",
       "      <td>2020</td>\n",
       "      <td>Sud</td>\n",
       "      <td>Corse</td>\n",
       "      <td>2b</td>\n",
       "      <td>Haute-Corse</td>\n",
       "      <td>C</td>\n",
       "      <td>157</td>\n",
       "      <td>0</td>\n",
       "      <td>3</td>\n",
       "      <td>4</td>\n",
       "      <td>...</td>\n",
       "      <td>37</td>\n",
       "      <td>13</td>\n",
       "      <td>3</td>\n",
       "      <td>120</td>\n",
       "      <td>119</td>\n",
       "      <td>3</td>\n",
       "      <td>723</td>\n",
       "      <td>1 457</td>\n",
       "      <td>1 587</td>\n",
       "      <td>15 494</td>\n",
       "    </tr>\n",
       "    <tr>\n",
       "      <th>32</th>\n",
       "      <td>2020</td>\n",
       "      <td>Sud</td>\n",
       "      <td>Occitanie</td>\n",
       "      <td>30</td>\n",
       "      <td>Gard</td>\n",
       "      <td>B</td>\n",
       "      <td>650</td>\n",
       "      <td>209</td>\n",
       "      <td>43</td>\n",
       "      <td>33</td>\n",
       "      <td>...</td>\n",
       "      <td>511</td>\n",
       "      <td>0</td>\n",
       "      <td>9</td>\n",
       "      <td>0</td>\n",
       "      <td>115</td>\n",
       "      <td>8</td>\n",
       "      <td>336</td>\n",
       "      <td>1 921</td>\n",
       "      <td>4 433</td>\n",
       "      <td>55 741</td>\n",
       "    </tr>\n",
       "    <tr>\n",
       "      <th>33</th>\n",
       "      <td>2020</td>\n",
       "      <td>Sud</td>\n",
       "      <td>Occitanie</td>\n",
       "      <td>31</td>\n",
       "      <td>Haute-Garonne</td>\n",
       "      <td>A</td>\n",
       "      <td>635</td>\n",
       "      <td>277</td>\n",
       "      <td>12</td>\n",
       "      <td>51</td>\n",
       "      <td>...</td>\n",
       "      <td>0</td>\n",
       "      <td>0</td>\n",
       "      <td>8</td>\n",
       "      <td>169</td>\n",
       "      <td>1</td>\n",
       "      <td>68</td>\n",
       "      <td>1 444</td>\n",
       "      <td>2 384</td>\n",
       "      <td>3 619</td>\n",
       "      <td>49 921</td>\n",
       "    </tr>\n",
       "    <tr>\n",
       "      <th>34</th>\n",
       "      <td>2020</td>\n",
       "      <td>Sud</td>\n",
       "      <td>Occitanie</td>\n",
       "      <td>32</td>\n",
       "      <td>Gers</td>\n",
       "      <td>C</td>\n",
       "      <td>209</td>\n",
       "      <td>125</td>\n",
       "      <td>4</td>\n",
       "      <td>4</td>\n",
       "      <td>...</td>\n",
       "      <td>58</td>\n",
       "      <td>1</td>\n",
       "      <td>1</td>\n",
       "      <td>27</td>\n",
       "      <td>4</td>\n",
       "      <td>1</td>\n",
       "      <td>452</td>\n",
       "      <td>1 032</td>\n",
       "      <td>1 712</td>\n",
       "      <td>11 719</td>\n",
       "    </tr>\n",
       "    <tr>\n",
       "      <th>36</th>\n",
       "      <td>2020</td>\n",
       "      <td>Sud</td>\n",
       "      <td>Occitanie</td>\n",
       "      <td>34</td>\n",
       "      <td>Hérault</td>\n",
       "      <td>A</td>\n",
       "      <td>603</td>\n",
       "      <td>140</td>\n",
       "      <td>14</td>\n",
       "      <td>32</td>\n",
       "      <td>...</td>\n",
       "      <td>44</td>\n",
       "      <td>0</td>\n",
       "      <td>12</td>\n",
       "      <td>176</td>\n",
       "      <td>0</td>\n",
       "      <td>19</td>\n",
       "      <td>773</td>\n",
       "      <td>2 353</td>\n",
       "      <td>3 492</td>\n",
       "      <td>67 717</td>\n",
       "    </tr>\n",
       "    <tr>\n",
       "      <th>48</th>\n",
       "      <td>2020</td>\n",
       "      <td>Sud</td>\n",
       "      <td>Occitanie</td>\n",
       "      <td>46</td>\n",
       "      <td>Lot</td>\n",
       "      <td>C</td>\n",
       "      <td>248</td>\n",
       "      <td>158</td>\n",
       "      <td>0</td>\n",
       "      <td>4</td>\n",
       "      <td>...</td>\n",
       "      <td>25</td>\n",
       "      <td>0</td>\n",
       "      <td>0</td>\n",
       "      <td>9</td>\n",
       "      <td>0</td>\n",
       "      <td>0</td>\n",
       "      <td>83</td>\n",
       "      <td>595</td>\n",
       "      <td>745</td>\n",
       "      <td>9 797</td>\n",
       "    </tr>\n",
       "    <tr>\n",
       "      <th>50</th>\n",
       "      <td>2020</td>\n",
       "      <td>Sud</td>\n",
       "      <td>Occitanie</td>\n",
       "      <td>48</td>\n",
       "      <td>Lozère</td>\n",
       "      <td>C</td>\n",
       "      <td>112</td>\n",
       "      <td>72</td>\n",
       "      <td>2</td>\n",
       "      <td>0</td>\n",
       "      <td>...</td>\n",
       "      <td>0</td>\n",
       "      <td>0</td>\n",
       "      <td>1</td>\n",
       "      <td>0</td>\n",
       "      <td>13</td>\n",
       "      <td>0</td>\n",
       "      <td>149</td>\n",
       "      <td>232</td>\n",
       "      <td>334</td>\n",
       "      <td>5 161</td>\n",
       "    </tr>\n",
       "    <tr>\n",
       "      <th>67</th>\n",
       "      <td>2020</td>\n",
       "      <td>Sud</td>\n",
       "      <td>Occitanie</td>\n",
       "      <td>65</td>\n",
       "      <td>Hautes-Pyrénées</td>\n",
       "      <td>C</td>\n",
       "      <td>263</td>\n",
       "      <td>152</td>\n",
       "      <td>10</td>\n",
       "      <td>12</td>\n",
       "      <td>...</td>\n",
       "      <td>1</td>\n",
       "      <td>0</td>\n",
       "      <td>6</td>\n",
       "      <td>198</td>\n",
       "      <td>2</td>\n",
       "      <td>0</td>\n",
       "      <td>0</td>\n",
       "      <td>551</td>\n",
       "      <td>1 097</td>\n",
       "      <td>14 952</td>\n",
       "    </tr>\n",
       "    <tr>\n",
       "      <th>68</th>\n",
       "      <td>2020</td>\n",
       "      <td>Sud</td>\n",
       "      <td>Occitanie</td>\n",
       "      <td>66</td>\n",
       "      <td>Pyrénées-Orientales</td>\n",
       "      <td>B</td>\n",
       "      <td>628</td>\n",
       "      <td>82</td>\n",
       "      <td>20</td>\n",
       "      <td>9</td>\n",
       "      <td>...</td>\n",
       "      <td>14</td>\n",
       "      <td>2</td>\n",
       "      <td>20</td>\n",
       "      <td>130</td>\n",
       "      <td>27</td>\n",
       "      <td>2</td>\n",
       "      <td>510</td>\n",
       "      <td>1 502</td>\n",
       "      <td>2 340</td>\n",
       "      <td>32 331</td>\n",
       "    </tr>\n",
       "    <tr>\n",
       "      <th>82</th>\n",
       "      <td>2020</td>\n",
       "      <td>Sud</td>\n",
       "      <td>Occitanie</td>\n",
       "      <td>81</td>\n",
       "      <td>Tarn</td>\n",
       "      <td>B</td>\n",
       "      <td>369</td>\n",
       "      <td>145</td>\n",
       "      <td>14</td>\n",
       "      <td>21</td>\n",
       "      <td>...</td>\n",
       "      <td>21</td>\n",
       "      <td>0</td>\n",
       "      <td>9</td>\n",
       "      <td>42</td>\n",
       "      <td>1</td>\n",
       "      <td>0</td>\n",
       "      <td>192</td>\n",
       "      <td>1 001</td>\n",
       "      <td>1 534</td>\n",
       "      <td>21 538</td>\n",
       "    </tr>\n",
       "    <tr>\n",
       "      <th>83</th>\n",
       "      <td>2020</td>\n",
       "      <td>Sud</td>\n",
       "      <td>Occitanie</td>\n",
       "      <td>82</td>\n",
       "      <td>Tarn-et-Garonne</td>\n",
       "      <td>C</td>\n",
       "      <td>187</td>\n",
       "      <td>117</td>\n",
       "      <td>0</td>\n",
       "      <td>0</td>\n",
       "      <td>...</td>\n",
       "      <td>77</td>\n",
       "      <td>1</td>\n",
       "      <td>1</td>\n",
       "      <td>8</td>\n",
       "      <td>0</td>\n",
       "      <td>3</td>\n",
       "      <td>240</td>\n",
       "      <td>1 337</td>\n",
       "      <td>1 731</td>\n",
       "      <td>17 743</td>\n",
       "    </tr>\n",
       "    <tr>\n",
       "      <th>84</th>\n",
       "      <td>2020</td>\n",
       "      <td>Sud</td>\n",
       "      <td>Provence-Alpes-Côte d'Azur</td>\n",
       "      <td>83</td>\n",
       "      <td>Var</td>\n",
       "      <td>A</td>\n",
       "      <td>660</td>\n",
       "      <td>0</td>\n",
       "      <td>25</td>\n",
       "      <td>87</td>\n",
       "      <td>...</td>\n",
       "      <td>121</td>\n",
       "      <td>4</td>\n",
       "      <td>19</td>\n",
       "      <td>17</td>\n",
       "      <td>1</td>\n",
       "      <td>18</td>\n",
       "      <td>1 294</td>\n",
       "      <td>6 068</td>\n",
       "      <td>6 789</td>\n",
       "      <td>103 279</td>\n",
       "    </tr>\n",
       "    <tr>\n",
       "      <th>85</th>\n",
       "      <td>2020</td>\n",
       "      <td>Sud</td>\n",
       "      <td>Provence-Alpes-Côte d'Azur</td>\n",
       "      <td>84</td>\n",
       "      <td>Vaucluse</td>\n",
       "      <td>B</td>\n",
       "      <td>541</td>\n",
       "      <td>186</td>\n",
       "      <td>0</td>\n",
       "      <td>67</td>\n",
       "      <td>...</td>\n",
       "      <td>49</td>\n",
       "      <td>12</td>\n",
       "      <td>11</td>\n",
       "      <td>124</td>\n",
       "      <td>0</td>\n",
       "      <td>0</td>\n",
       "      <td>641</td>\n",
       "      <td>1 614</td>\n",
       "      <td>1 811</td>\n",
       "      <td>40 374</td>\n",
       "    </tr>\n",
       "  </tbody>\n",
       "</table>\n",
       "<p>22 rows × 71 columns</p>\n",
       "</div>"
      ],
      "text/plain": [
       "    Année Zone                      Région Numéro              Département  \\\n",
       "0    2020  Sud  Provence-Alpes-Côte d'Azur   BMPM         Bouches-du-Rhône   \n",
       "5    2020  Sud  Provence-Alpes-Côte d'Azur      4  Alpes-de-Haute-Provence   \n",
       "6    2020  Sud  Provence-Alpes-Côte d'Azur      5             Hautes-Alpes   \n",
       "7    2020  Sud  Provence-Alpes-Côte d'Azur      6          Alpes-Maritimes   \n",
       "10   2020  Sud                   Occitanie      9                   Ariège   \n",
       "12   2020  Sud                   Occitanie     11                     Aude   \n",
       "13   2020  Sud                   Occitanie     12                  Aveyron   \n",
       "14   2020  Sud  Provence-Alpes-Côte d'Azur     13         Bouches-du-Rhône   \n",
       "30   2020  Sud                       Corse     2a             Corse-du-Sud   \n",
       "31   2020  Sud                       Corse     2b              Haute-Corse   \n",
       "32   2020  Sud                   Occitanie     30                     Gard   \n",
       "33   2020  Sud                   Occitanie     31            Haute-Garonne   \n",
       "34   2020  Sud                   Occitanie     32                     Gers   \n",
       "36   2020  Sud                   Occitanie     34                  Hérault   \n",
       "48   2020  Sud                   Occitanie     46                      Lot   \n",
       "50   2020  Sud                   Occitanie     48                   Lozère   \n",
       "67   2020  Sud                   Occitanie     65          Hautes-Pyrénées   \n",
       "68   2020  Sud                   Occitanie     66      Pyrénées-Orientales   \n",
       "82   2020  Sud                   Occitanie     81                     Tarn   \n",
       "83   2020  Sud                   Occitanie     82          Tarn-et-Garonne   \n",
       "84   2020  Sud  Provence-Alpes-Côte d'Azur     83                      Var   \n",
       "85   2020  Sud  Provence-Alpes-Côte d'Azur     84                 Vaucluse   \n",
       "\n",
       "   Catégorie A Feux d'habitations-bureaux  dont feux de cheminées  \\\n",
       "0          NaN                        717                      10   \n",
       "5            C                        265                     122   \n",
       "6            C                        301                     139   \n",
       "7            A                        748                     111   \n",
       "10           C                        268                     155   \n",
       "12           B                        307                     139   \n",
       "13           C                        280                     177   \n",
       "14           A                      1 065                     192   \n",
       "30           C                        177                      85   \n",
       "31           C                        157                       0   \n",
       "32           B                        650                     209   \n",
       "33           A                        635                     277   \n",
       "34           C                        209                     125   \n",
       "36           A                        603                     140   \n",
       "48           C                        248                     158   \n",
       "50           C                        112                      72   \n",
       "67           C                        263                     152   \n",
       "68           B                        628                      82   \n",
       "82           B                        369                     145   \n",
       "83           C                        187                     117   \n",
       "84           A                        660                       0   \n",
       "85           B                        541                     186   \n",
       "\n",
       "    Feux d'ERP avec local à sommeil  Feux d'ERP sans local à sommeil  ...  \\\n",
       "0                                47                              149  ...   \n",
       "5                                 9                               15  ...   \n",
       "6                                 1                               25  ...   \n",
       "7                                20                               57  ...   \n",
       "10                                0                                3  ...   \n",
       "12                                3                                6  ...   \n",
       "13                               16                               15  ...   \n",
       "14                               24                              110  ...   \n",
       "30                                1                                7  ...   \n",
       "31                                3                                4  ...   \n",
       "32                               43                               33  ...   \n",
       "33                               12                               51  ...   \n",
       "34                                4                                4  ...   \n",
       "36                               14                               32  ...   \n",
       "48                                0                                4  ...   \n",
       "50                                2                                0  ...   \n",
       "67                               10                               12  ...   \n",
       "68                               20                                9  ...   \n",
       "82                               14                               21  ...   \n",
       "83                                0                                0  ...   \n",
       "84                               25                               87  ...   \n",
       "85                                0                               67  ...   \n",
       "\n",
       "    Dégagements de voies publiques  Nettoyages de voies publiques  \\\n",
       "0                              480                            128   \n",
       "5                               83                              1   \n",
       "6                               40                              6   \n",
       "7                              646                            247   \n",
       "10                              58                              1   \n",
       "12                              29                              0   \n",
       "13                               9                              1   \n",
       "14                             351                              0   \n",
       "30                               0                              1   \n",
       "31                              37                             13   \n",
       "32                             511                              0   \n",
       "33                               0                              0   \n",
       "34                              58                              1   \n",
       "36                              44                              0   \n",
       "48                              25                              0   \n",
       "50                               0                              0   \n",
       "67                               1                              0   \n",
       "68                              14                              2   \n",
       "82                              21                              0   \n",
       "83                              77                              1   \n",
       "84                             121                              4   \n",
       "85                              49                             12   \n",
       "\n",
       "    Éboulements Déposes d'objets Piquets de sécurité - surveillances  \\\n",
       "0            18                0                               1 597   \n",
       "5             1                0                                   4   \n",
       "6             1                0                                 187   \n",
       "7            86              120                                   6   \n",
       "10            0               61                                   1   \n",
       "12            7                0                                 192   \n",
       "13           10               24                                   2   \n",
       "14           27              312                                 455   \n",
       "30            8                0                                  56   \n",
       "31            3              120                                 119   \n",
       "32            9                0                                 115   \n",
       "33            8              169                                   1   \n",
       "34            1               27                                   4   \n",
       "36           12              176                                   0   \n",
       "48            0                9                                   0   \n",
       "50            1                0                                  13   \n",
       "67            6              198                                   2   \n",
       "68           20              130                                  27   \n",
       "82            9               42                                   1   \n",
       "83            1                8                                   0   \n",
       "84           19               17                                   1   \n",
       "85           11              124                                   0   \n",
       "\n",
       "   Engins explosifs Autres opérations diverses  Divers Opérations diverses  \\\n",
       "0                63                      4 974  11 362              14 780   \n",
       "5                 0                        210     723                 851   \n",
       "6                 0                         14     612                 880   \n",
       "7                 9                      1 206   3 908              10 528   \n",
       "10                0                        184     579                 723   \n",
       "12                3                        145   1 718               2 609   \n",
       "13                1                        218     770               1 113   \n",
       "14               21                        927   8 583              10 204   \n",
       "30                5                        435     716                 926   \n",
       "31                3                        723   1 457               1 587   \n",
       "32                8                        336   1 921               4 433   \n",
       "33               68                      1 444   2 384               3 619   \n",
       "34                1                        452   1 032               1 712   \n",
       "36               19                        773   2 353               3 492   \n",
       "48                0                         83     595                 745   \n",
       "50                0                        149     232                 334   \n",
       "67                0                          0     551               1 097   \n",
       "68                2                        510   1 502               2 340   \n",
       "82                0                        192   1 001               1 534   \n",
       "83                3                        240   1 337               1 731   \n",
       "84               18                      1 294   6 068               6 789   \n",
       "85                0                        641   1 614               1 811   \n",
       "\n",
       "   Total interventions  \n",
       "0              109 193  \n",
       "5               12 324  \n",
       "6               10 327  \n",
       "7               95 538  \n",
       "10              10 067  \n",
       "12              27 141  \n",
       "13              14 651  \n",
       "14             131 701  \n",
       "30              13 403  \n",
       "31              15 494  \n",
       "32              55 741  \n",
       "33              49 921  \n",
       "34              11 719  \n",
       "36              67 717  \n",
       "48               9 797  \n",
       "50               5 161  \n",
       "67              14 952  \n",
       "68              32 331  \n",
       "82              21 538  \n",
       "83              17 743  \n",
       "84             103 279  \n",
       "85              40 374  \n",
       "\n",
       "[22 rows x 71 columns]"
      ]
     },
     "execution_count": 393,
     "metadata": {},
     "output_type": "execute_result"
    }
   ],
   "source": [
    "## Filter\n",
    "inter_2020[inter_2020[\"Zone\"] == \"Sud\"]"
   ]
  },
  {
   "cell_type": "code",
   "execution_count": 394,
   "id": "fd991cef",
   "metadata": {},
   "outputs": [
    {
     "data": {
      "text/html": [
       "<div>\n",
       "<style scoped>\n",
       "    .dataframe tbody tr th:only-of-type {\n",
       "        vertical-align: middle;\n",
       "    }\n",
       "\n",
       "    .dataframe tbody tr th {\n",
       "        vertical-align: top;\n",
       "    }\n",
       "\n",
       "    .dataframe thead th {\n",
       "        text-align: right;\n",
       "    }\n",
       "</style>\n",
       "<table border=\"1\" class=\"dataframe\">\n",
       "  <thead>\n",
       "    <tr style=\"text-align: right;\">\n",
       "      <th></th>\n",
       "      <th>Année</th>\n",
       "      <th>Zone</th>\n",
       "      <th>Région</th>\n",
       "      <th>Numéro</th>\n",
       "      <th>Département</th>\n",
       "      <th>Catégorie A</th>\n",
       "      <th>Feux d'habitations-bureaux</th>\n",
       "      <th>dont feux de cheminées</th>\n",
       "      <th>Feux d'ERP avec local à sommeil</th>\n",
       "      <th>Feux d'ERP sans local à sommeil</th>\n",
       "      <th>...</th>\n",
       "      <th>Dégagements de voies publiques</th>\n",
       "      <th>Nettoyages de voies publiques</th>\n",
       "      <th>Éboulements</th>\n",
       "      <th>Déposes d'objets</th>\n",
       "      <th>Piquets de sécurité - surveillances</th>\n",
       "      <th>Engins explosifs</th>\n",
       "      <th>Autres opérations diverses</th>\n",
       "      <th>Divers</th>\n",
       "      <th>Opérations diverses</th>\n",
       "      <th>Total interventions</th>\n",
       "    </tr>\n",
       "  </thead>\n",
       "  <tbody>\n",
       "    <tr>\n",
       "      <th>2</th>\n",
       "      <td>2020</td>\n",
       "      <td>Sud-est</td>\n",
       "      <td>Auvergne-Rhône-Alpes</td>\n",
       "      <td>1</td>\n",
       "      <td>Ain</td>\n",
       "      <td>B</td>\n",
       "      <td>515</td>\n",
       "      <td>202</td>\n",
       "      <td>0</td>\n",
       "      <td>55</td>\n",
       "      <td>...</td>\n",
       "      <td>46</td>\n",
       "      <td>299</td>\n",
       "      <td>45</td>\n",
       "      <td>1</td>\n",
       "      <td>0</td>\n",
       "      <td>0</td>\n",
       "      <td>649</td>\n",
       "      <td>4 279</td>\n",
       "      <td>4 887</td>\n",
       "      <td>42 444</td>\n",
       "    </tr>\n",
       "    <tr>\n",
       "      <th>3</th>\n",
       "      <td>2020</td>\n",
       "      <td>Nord</td>\n",
       "      <td>Hauts-de-France</td>\n",
       "      <td>2</td>\n",
       "      <td>Aisne</td>\n",
       "      <td>B</td>\n",
       "      <td>915</td>\n",
       "      <td>345</td>\n",
       "      <td>16</td>\n",
       "      <td>23</td>\n",
       "      <td>...</td>\n",
       "      <td>17</td>\n",
       "      <td>1</td>\n",
       "      <td>4</td>\n",
       "      <td>163</td>\n",
       "      <td>0</td>\n",
       "      <td>1</td>\n",
       "      <td>205</td>\n",
       "      <td>2 092</td>\n",
       "      <td>3 112</td>\n",
       "      <td>30 791</td>\n",
       "    </tr>\n",
       "    <tr>\n",
       "      <th>4</th>\n",
       "      <td>2020</td>\n",
       "      <td>Sud-est</td>\n",
       "      <td>Auvergne-Rhône-Alpes</td>\n",
       "      <td>3</td>\n",
       "      <td>Allier</td>\n",
       "      <td>C</td>\n",
       "      <td>433</td>\n",
       "      <td>238</td>\n",
       "      <td>2</td>\n",
       "      <td>20</td>\n",
       "      <td>...</td>\n",
       "      <td>146</td>\n",
       "      <td>35</td>\n",
       "      <td>1</td>\n",
       "      <td>77</td>\n",
       "      <td>15</td>\n",
       "      <td>0</td>\n",
       "      <td>420</td>\n",
       "      <td>963</td>\n",
       "      <td>2 575</td>\n",
       "      <td>25 191</td>\n",
       "    </tr>\n",
       "    <tr>\n",
       "      <th>5</th>\n",
       "      <td>2020</td>\n",
       "      <td>Sud</td>\n",
       "      <td>Provence-Alpes-Côte d'Azur</td>\n",
       "      <td>4</td>\n",
       "      <td>Alpes-de-Haute-Provence</td>\n",
       "      <td>C</td>\n",
       "      <td>265</td>\n",
       "      <td>122</td>\n",
       "      <td>9</td>\n",
       "      <td>15</td>\n",
       "      <td>...</td>\n",
       "      <td>83</td>\n",
       "      <td>1</td>\n",
       "      <td>1</td>\n",
       "      <td>0</td>\n",
       "      <td>4</td>\n",
       "      <td>0</td>\n",
       "      <td>210</td>\n",
       "      <td>723</td>\n",
       "      <td>851</td>\n",
       "      <td>12 324</td>\n",
       "    </tr>\n",
       "    <tr>\n",
       "      <th>6</th>\n",
       "      <td>2020</td>\n",
       "      <td>Sud</td>\n",
       "      <td>Provence-Alpes-Côte d'Azur</td>\n",
       "      <td>5</td>\n",
       "      <td>Hautes-Alpes</td>\n",
       "      <td>C</td>\n",
       "      <td>301</td>\n",
       "      <td>139</td>\n",
       "      <td>1</td>\n",
       "      <td>25</td>\n",
       "      <td>...</td>\n",
       "      <td>40</td>\n",
       "      <td>6</td>\n",
       "      <td>1</td>\n",
       "      <td>0</td>\n",
       "      <td>187</td>\n",
       "      <td>0</td>\n",
       "      <td>14</td>\n",
       "      <td>612</td>\n",
       "      <td>880</td>\n",
       "      <td>10 327</td>\n",
       "    </tr>\n",
       "    <tr>\n",
       "      <th>...</th>\n",
       "      <td>...</td>\n",
       "      <td>...</td>\n",
       "      <td>...</td>\n",
       "      <td>...</td>\n",
       "      <td>...</td>\n",
       "      <td>...</td>\n",
       "      <td>...</td>\n",
       "      <td>...</td>\n",
       "      <td>...</td>\n",
       "      <td>...</td>\n",
       "      <td>...</td>\n",
       "      <td>...</td>\n",
       "      <td>...</td>\n",
       "      <td>...</td>\n",
       "      <td>...</td>\n",
       "      <td>...</td>\n",
       "      <td>...</td>\n",
       "      <td>...</td>\n",
       "      <td>...</td>\n",
       "      <td>...</td>\n",
       "      <td>...</td>\n",
       "    </tr>\n",
       "    <tr>\n",
       "      <th>94</th>\n",
       "      <td>2020</td>\n",
       "      <td>Antilles</td>\n",
       "      <td>Guadeloupe</td>\n",
       "      <td>971</td>\n",
       "      <td>Guadeloupe</td>\n",
       "      <td>B</td>\n",
       "      <td>252</td>\n",
       "      <td>0</td>\n",
       "      <td>4</td>\n",
       "      <td>30</td>\n",
       "      <td>...</td>\n",
       "      <td>0</td>\n",
       "      <td>18</td>\n",
       "      <td>0</td>\n",
       "      <td>0</td>\n",
       "      <td>0</td>\n",
       "      <td>0</td>\n",
       "      <td>52</td>\n",
       "      <td>218</td>\n",
       "      <td>422</td>\n",
       "      <td>36 471</td>\n",
       "    </tr>\n",
       "    <tr>\n",
       "      <th>95</th>\n",
       "      <td>2020</td>\n",
       "      <td>Antilles</td>\n",
       "      <td>Martinique</td>\n",
       "      <td>972</td>\n",
       "      <td>Martinique</td>\n",
       "      <td>C</td>\n",
       "      <td>162</td>\n",
       "      <td>0</td>\n",
       "      <td>6</td>\n",
       "      <td>11</td>\n",
       "      <td>...</td>\n",
       "      <td>97</td>\n",
       "      <td>0</td>\n",
       "      <td>10</td>\n",
       "      <td>0</td>\n",
       "      <td>0</td>\n",
       "      <td>1</td>\n",
       "      <td>2 102</td>\n",
       "      <td>2 332</td>\n",
       "      <td>2 434</td>\n",
       "      <td>30 627</td>\n",
       "    </tr>\n",
       "    <tr>\n",
       "      <th>96</th>\n",
       "      <td>2020</td>\n",
       "      <td>Guyane</td>\n",
       "      <td>Guyane</td>\n",
       "      <td>973</td>\n",
       "      <td>Guyane</td>\n",
       "      <td>C</td>\n",
       "      <td>64</td>\n",
       "      <td>0</td>\n",
       "      <td>5</td>\n",
       "      <td>7</td>\n",
       "      <td>...</td>\n",
       "      <td>0</td>\n",
       "      <td>0</td>\n",
       "      <td>0</td>\n",
       "      <td>0</td>\n",
       "      <td>0</td>\n",
       "      <td>0</td>\n",
       "      <td>641</td>\n",
       "      <td>1 948</td>\n",
       "      <td>2 075</td>\n",
       "      <td>17 470</td>\n",
       "    </tr>\n",
       "    <tr>\n",
       "      <th>97</th>\n",
       "      <td>2020</td>\n",
       "      <td>Océan indien</td>\n",
       "      <td>La Réunion</td>\n",
       "      <td>974</td>\n",
       "      <td>Réunion</td>\n",
       "      <td>B</td>\n",
       "      <td>634</td>\n",
       "      <td>0</td>\n",
       "      <td>8</td>\n",
       "      <td>60</td>\n",
       "      <td>...</td>\n",
       "      <td>79</td>\n",
       "      <td>0</td>\n",
       "      <td>6</td>\n",
       "      <td>0</td>\n",
       "      <td>0</td>\n",
       "      <td>5</td>\n",
       "      <td>0</td>\n",
       "      <td>425</td>\n",
       "      <td>641</td>\n",
       "      <td>46 173</td>\n",
       "    </tr>\n",
       "    <tr>\n",
       "      <th>98</th>\n",
       "      <td>2020</td>\n",
       "      <td>Océan indien</td>\n",
       "      <td>Mayotte</td>\n",
       "      <td>976</td>\n",
       "      <td>Mayotte</td>\n",
       "      <td>C</td>\n",
       "      <td>120</td>\n",
       "      <td>0</td>\n",
       "      <td>0</td>\n",
       "      <td>0</td>\n",
       "      <td>...</td>\n",
       "      <td>0</td>\n",
       "      <td>19</td>\n",
       "      <td>0</td>\n",
       "      <td>0</td>\n",
       "      <td>0</td>\n",
       "      <td>0</td>\n",
       "      <td>0</td>\n",
       "      <td>19</td>\n",
       "      <td>73</td>\n",
       "      <td>14 420</td>\n",
       "    </tr>\n",
       "  </tbody>\n",
       "</table>\n",
       "<p>97 rows × 71 columns</p>\n",
       "</div>"
      ],
      "text/plain": [
       "    Année          Zone                      Région Numéro  \\\n",
       "2    2020       Sud-est        Auvergne-Rhône-Alpes      1   \n",
       "3    2020          Nord             Hauts-de-France      2   \n",
       "4    2020       Sud-est        Auvergne-Rhône-Alpes      3   \n",
       "5    2020           Sud  Provence-Alpes-Côte d'Azur      4   \n",
       "6    2020           Sud  Provence-Alpes-Côte d'Azur      5   \n",
       "..    ...           ...                         ...    ...   \n",
       "94   2020      Antilles                  Guadeloupe    971   \n",
       "95   2020      Antilles                  Martinique    972   \n",
       "96   2020        Guyane                      Guyane    973   \n",
       "97   2020  Océan indien                  La Réunion    974   \n",
       "98   2020  Océan indien                     Mayotte    976   \n",
       "\n",
       "                Département Catégorie A Feux d'habitations-bureaux  \\\n",
       "2                       Ain           B                        515   \n",
       "3                     Aisne           B                        915   \n",
       "4                    Allier           C                        433   \n",
       "5   Alpes-de-Haute-Provence           C                        265   \n",
       "6              Hautes-Alpes           C                        301   \n",
       "..                      ...         ...                        ...   \n",
       "94               Guadeloupe           B                        252   \n",
       "95               Martinique           C                        162   \n",
       "96                   Guyane           C                         64   \n",
       "97                  Réunion           B                        634   \n",
       "98                  Mayotte           C                        120   \n",
       "\n",
       "    dont feux de cheminées  Feux d'ERP avec local à sommeil  \\\n",
       "2                      202                                0   \n",
       "3                      345                               16   \n",
       "4                      238                                2   \n",
       "5                      122                                9   \n",
       "6                      139                                1   \n",
       "..                     ...                              ...   \n",
       "94                       0                                4   \n",
       "95                       0                                6   \n",
       "96                       0                                5   \n",
       "97                       0                                8   \n",
       "98                       0                                0   \n",
       "\n",
       "    Feux d'ERP sans local à sommeil  ...  Dégagements de voies publiques  \\\n",
       "2                                55  ...                              46   \n",
       "3                                23  ...                              17   \n",
       "4                                20  ...                             146   \n",
       "5                                15  ...                              83   \n",
       "6                                25  ...                              40   \n",
       "..                              ...  ...                             ...   \n",
       "94                               30  ...                               0   \n",
       "95                               11  ...                              97   \n",
       "96                                7  ...                               0   \n",
       "97                               60  ...                              79   \n",
       "98                                0  ...                               0   \n",
       "\n",
       "    Nettoyages de voies publiques  Éboulements Déposes d'objets  \\\n",
       "2                             299           45                1   \n",
       "3                               1            4              163   \n",
       "4                              35            1               77   \n",
       "5                               1            1                0   \n",
       "6                               6            1                0   \n",
       "..                            ...          ...              ...   \n",
       "94                             18            0                0   \n",
       "95                              0           10                0   \n",
       "96                              0            0                0   \n",
       "97                              0            6                0   \n",
       "98                             19            0                0   \n",
       "\n",
       "   Piquets de sécurité - surveillances Engins explosifs  \\\n",
       "2                                    0                0   \n",
       "3                                    0                1   \n",
       "4                                   15                0   \n",
       "5                                    4                0   \n",
       "6                                  187                0   \n",
       "..                                 ...              ...   \n",
       "94                                   0                0   \n",
       "95                                   0                1   \n",
       "96                                   0                0   \n",
       "97                                   0                5   \n",
       "98                                   0                0   \n",
       "\n",
       "   Autres opérations diverses Divers Opérations diverses Total interventions  \n",
       "2                         649  4 279               4 887              42 444  \n",
       "3                         205  2 092               3 112              30 791  \n",
       "4                         420    963               2 575              25 191  \n",
       "5                         210    723                 851              12 324  \n",
       "6                          14    612                 880              10 327  \n",
       "..                        ...    ...                 ...                 ...  \n",
       "94                         52    218                 422              36 471  \n",
       "95                      2 102  2 332               2 434              30 627  \n",
       "96                        641  1 948               2 075              17 470  \n",
       "97                          0    425                 641              46 173  \n",
       "98                          0     19                  73              14 420  \n",
       "\n",
       "[97 rows x 71 columns]"
      ]
     },
     "execution_count": 394,
     "metadata": {},
     "output_type": "execute_result"
    }
   ],
   "source": [
    "# remove missing value\n",
    "inter_2020.dropna(subset=[\"Catégorie A\"])"
   ]
  },
  {
   "cell_type": "code",
   "execution_count": 395,
   "id": "e7dc2ac7",
   "metadata": {},
   "outputs": [
    {
     "name": "stdout",
     "output_type": "stream",
     "text": [
      "Counter({'C': 39, 'B': 37, 'A': 21, nan: 2})\n"
     ]
    },
    {
     "data": {
      "text/html": [
       "<div>\n",
       "<style scoped>\n",
       "    .dataframe tbody tr th:only-of-type {\n",
       "        vertical-align: middle;\n",
       "    }\n",
       "\n",
       "    .dataframe tbody tr th {\n",
       "        vertical-align: top;\n",
       "    }\n",
       "\n",
       "    .dataframe thead th {\n",
       "        text-align: right;\n",
       "    }\n",
       "</style>\n",
       "<table border=\"1\" class=\"dataframe\">\n",
       "  <thead>\n",
       "    <tr style=\"text-align: right;\">\n",
       "      <th></th>\n",
       "      <th>Année</th>\n",
       "      <th>Zone</th>\n",
       "      <th>Région</th>\n",
       "      <th>Numéro</th>\n",
       "      <th>Département</th>\n",
       "      <th>Catégorie A</th>\n",
       "      <th>Feux d'habitations-bureaux</th>\n",
       "      <th>dont feux de cheminées</th>\n",
       "      <th>Feux d'ERP avec local à sommeil</th>\n",
       "      <th>Feux d'ERP sans local à sommeil</th>\n",
       "      <th>...</th>\n",
       "      <th>Dégagements de voies publiques</th>\n",
       "      <th>Nettoyages de voies publiques</th>\n",
       "      <th>Éboulements</th>\n",
       "      <th>Déposes d'objets</th>\n",
       "      <th>Piquets de sécurité - surveillances</th>\n",
       "      <th>Engins explosifs</th>\n",
       "      <th>Autres opérations diverses</th>\n",
       "      <th>Divers</th>\n",
       "      <th>Opérations diverses</th>\n",
       "      <th>Total interventions</th>\n",
       "    </tr>\n",
       "  </thead>\n",
       "  <tbody>\n",
       "    <tr>\n",
       "      <th>0</th>\n",
       "      <td>2020</td>\n",
       "      <td>Sud</td>\n",
       "      <td>Provence-Alpes-Côte d'Azur</td>\n",
       "      <td>BMPM</td>\n",
       "      <td>Bouches-du-Rhône</td>\n",
       "      <td>M</td>\n",
       "      <td>717</td>\n",
       "      <td>10</td>\n",
       "      <td>47</td>\n",
       "      <td>149</td>\n",
       "      <td>...</td>\n",
       "      <td>480</td>\n",
       "      <td>128</td>\n",
       "      <td>18</td>\n",
       "      <td>0</td>\n",
       "      <td>1 597</td>\n",
       "      <td>63</td>\n",
       "      <td>4 974</td>\n",
       "      <td>11 362</td>\n",
       "      <td>14 780</td>\n",
       "      <td>109 193</td>\n",
       "    </tr>\n",
       "    <tr>\n",
       "      <th>1</th>\n",
       "      <td>2020</td>\n",
       "      <td>Île-de-France</td>\n",
       "      <td>Île-de-France</td>\n",
       "      <td>BSPP</td>\n",
       "      <td>Paris</td>\n",
       "      <td>M</td>\n",
       "      <td>3 657</td>\n",
       "      <td>43</td>\n",
       "      <td>99</td>\n",
       "      <td>549</td>\n",
       "      <td>...</td>\n",
       "      <td>31</td>\n",
       "      <td>201</td>\n",
       "      <td>29</td>\n",
       "      <td>1 408</td>\n",
       "      <td>2</td>\n",
       "      <td>16</td>\n",
       "      <td>11 838</td>\n",
       "      <td>16 072</td>\n",
       "      <td>18 999</td>\n",
       "      <td>423 442</td>\n",
       "    </tr>\n",
       "    <tr>\n",
       "      <th>2</th>\n",
       "      <td>2020</td>\n",
       "      <td>Sud-est</td>\n",
       "      <td>Auvergne-Rhône-Alpes</td>\n",
       "      <td>1</td>\n",
       "      <td>Ain</td>\n",
       "      <td>B</td>\n",
       "      <td>515</td>\n",
       "      <td>202</td>\n",
       "      <td>0</td>\n",
       "      <td>55</td>\n",
       "      <td>...</td>\n",
       "      <td>46</td>\n",
       "      <td>299</td>\n",
       "      <td>45</td>\n",
       "      <td>1</td>\n",
       "      <td>0</td>\n",
       "      <td>0</td>\n",
       "      <td>649</td>\n",
       "      <td>4 279</td>\n",
       "      <td>4 887</td>\n",
       "      <td>42 444</td>\n",
       "    </tr>\n",
       "    <tr>\n",
       "      <th>3</th>\n",
       "      <td>2020</td>\n",
       "      <td>Nord</td>\n",
       "      <td>Hauts-de-France</td>\n",
       "      <td>2</td>\n",
       "      <td>Aisne</td>\n",
       "      <td>B</td>\n",
       "      <td>915</td>\n",
       "      <td>345</td>\n",
       "      <td>16</td>\n",
       "      <td>23</td>\n",
       "      <td>...</td>\n",
       "      <td>17</td>\n",
       "      <td>1</td>\n",
       "      <td>4</td>\n",
       "      <td>163</td>\n",
       "      <td>0</td>\n",
       "      <td>1</td>\n",
       "      <td>205</td>\n",
       "      <td>2 092</td>\n",
       "      <td>3 112</td>\n",
       "      <td>30 791</td>\n",
       "    </tr>\n",
       "    <tr>\n",
       "      <th>4</th>\n",
       "      <td>2020</td>\n",
       "      <td>Sud-est</td>\n",
       "      <td>Auvergne-Rhône-Alpes</td>\n",
       "      <td>3</td>\n",
       "      <td>Allier</td>\n",
       "      <td>C</td>\n",
       "      <td>433</td>\n",
       "      <td>238</td>\n",
       "      <td>2</td>\n",
       "      <td>20</td>\n",
       "      <td>...</td>\n",
       "      <td>146</td>\n",
       "      <td>35</td>\n",
       "      <td>1</td>\n",
       "      <td>77</td>\n",
       "      <td>15</td>\n",
       "      <td>0</td>\n",
       "      <td>420</td>\n",
       "      <td>963</td>\n",
       "      <td>2 575</td>\n",
       "      <td>25 191</td>\n",
       "    </tr>\n",
       "  </tbody>\n",
       "</table>\n",
       "<p>5 rows × 71 columns</p>\n",
       "</div>"
      ],
      "text/plain": [
       "   Année           Zone                      Région Numéro       Département  \\\n",
       "0   2020            Sud  Provence-Alpes-Côte d'Azur   BMPM  Bouches-du-Rhône   \n",
       "1   2020  Île-de-France               Île-de-France   BSPP             Paris   \n",
       "2   2020        Sud-est        Auvergne-Rhône-Alpes      1               Ain   \n",
       "3   2020           Nord             Hauts-de-France      2             Aisne   \n",
       "4   2020        Sud-est        Auvergne-Rhône-Alpes      3            Allier   \n",
       "\n",
       "  Catégorie A Feux d'habitations-bureaux  dont feux de cheminées  \\\n",
       "0           M                        717                      10   \n",
       "1           M                      3 657                      43   \n",
       "2           B                        515                     202   \n",
       "3           B                        915                     345   \n",
       "4           C                        433                     238   \n",
       "\n",
       "   Feux d'ERP avec local à sommeil  Feux d'ERP sans local à sommeil  ...  \\\n",
       "0                               47                              149  ...   \n",
       "1                               99                              549  ...   \n",
       "2                                0                               55  ...   \n",
       "3                               16                               23  ...   \n",
       "4                                2                               20  ...   \n",
       "\n",
       "   Dégagements de voies publiques  Nettoyages de voies publiques  Éboulements  \\\n",
       "0                             480                            128           18   \n",
       "1                              31                            201           29   \n",
       "2                              46                            299           45   \n",
       "3                              17                              1            4   \n",
       "4                             146                             35            1   \n",
       "\n",
       "  Déposes d'objets Piquets de sécurité - surveillances Engins explosifs  \\\n",
       "0                0                               1 597               63   \n",
       "1            1 408                                   2               16   \n",
       "2                1                                   0                0   \n",
       "3              163                                   0                1   \n",
       "4               77                                  15                0   \n",
       "\n",
       "  Autres opérations diverses  Divers Opérations diverses Total interventions  \n",
       "0                      4 974  11 362              14 780             109 193  \n",
       "1                     11 838  16 072              18 999             423 442  \n",
       "2                        649   4 279               4 887              42 444  \n",
       "3                        205   2 092               3 112              30 791  \n",
       "4                        420     963               2 575              25 191  \n",
       "\n",
       "[5 rows x 71 columns]"
      ]
     },
     "execution_count": 395,
     "metadata": {},
     "output_type": "execute_result"
    }
   ],
   "source": [
    "# Replace missing values\n",
    "print(Counter(inter_2020[\"Catégorie A\"]))\n",
    "inter_2020[\"Catégorie A\"] = inter_2020[\"Catégorie A\"].fillna(\"M\")\n",
    "\n",
    "# Remove duplicates\n",
    "inter_2020 = inter_2020.drop_duplicates()\n",
    "inter_2020.head(5)"
   ]
  },
  {
   "cell_type": "code",
   "execution_count": 396,
   "id": "00452d8b",
   "metadata": {},
   "outputs": [
    {
     "data": {
      "text/html": [
       "<div>\n",
       "<style scoped>\n",
       "    .dataframe tbody tr th:only-of-type {\n",
       "        vertical-align: middle;\n",
       "    }\n",
       "\n",
       "    .dataframe tbody tr th {\n",
       "        vertical-align: top;\n",
       "    }\n",
       "\n",
       "    .dataframe thead th {\n",
       "        text-align: right;\n",
       "    }\n",
       "</style>\n",
       "<table border=\"1\" class=\"dataframe\">\n",
       "  <thead>\n",
       "    <tr style=\"text-align: right;\">\n",
       "      <th>Numéro</th>\n",
       "      <th>BMPM</th>\n",
       "      <th>BSPP</th>\n",
       "      <th>1</th>\n",
       "      <th>2</th>\n",
       "      <th>3</th>\n",
       "      <th>4</th>\n",
       "      <th>5</th>\n",
       "      <th>6</th>\n",
       "      <th>7</th>\n",
       "      <th>8</th>\n",
       "      <th>...</th>\n",
       "      <th>88</th>\n",
       "      <th>89</th>\n",
       "      <th>90</th>\n",
       "      <th>91</th>\n",
       "      <th>95</th>\n",
       "      <th>971</th>\n",
       "      <th>972</th>\n",
       "      <th>973</th>\n",
       "      <th>974</th>\n",
       "      <th>976</th>\n",
       "    </tr>\n",
       "  </thead>\n",
       "  <tbody>\n",
       "    <tr>\n",
       "      <th>Feux d'habitations-bureaux</th>\n",
       "      <td>717</td>\n",
       "      <td>3 657</td>\n",
       "      <td>515</td>\n",
       "      <td>915</td>\n",
       "      <td>433</td>\n",
       "      <td>265</td>\n",
       "      <td>301</td>\n",
       "      <td>748</td>\n",
       "      <td>169</td>\n",
       "      <td>348</td>\n",
       "      <td>...</td>\n",
       "      <td>860</td>\n",
       "      <td>467</td>\n",
       "      <td>253</td>\n",
       "      <td>1 090</td>\n",
       "      <td>1 063</td>\n",
       "      <td>252</td>\n",
       "      <td>162</td>\n",
       "      <td>64</td>\n",
       "      <td>634</td>\n",
       "      <td>120</td>\n",
       "    </tr>\n",
       "    <tr>\n",
       "      <th>Divers</th>\n",
       "      <td>11 362</td>\n",
       "      <td>16 072</td>\n",
       "      <td>4 279</td>\n",
       "      <td>2 092</td>\n",
       "      <td>963</td>\n",
       "      <td>723</td>\n",
       "      <td>612</td>\n",
       "      <td>3 908</td>\n",
       "      <td>778</td>\n",
       "      <td>1 582</td>\n",
       "      <td>...</td>\n",
       "      <td>6 113</td>\n",
       "      <td>1 337</td>\n",
       "      <td>688</td>\n",
       "      <td>4 544</td>\n",
       "      <td>2 483</td>\n",
       "      <td>218</td>\n",
       "      <td>2 332</td>\n",
       "      <td>1 948</td>\n",
       "      <td>425</td>\n",
       "      <td>19</td>\n",
       "    </tr>\n",
       "  </tbody>\n",
       "</table>\n",
       "<p>2 rows × 99 columns</p>\n",
       "</div>"
      ],
      "text/plain": [
       "Numéro                        BMPM    BSPP      1      2    3    4    5  \\\n",
       "Feux d'habitations-bureaux     717   3 657    515    915  433  265  301   \n",
       "Divers                      11 362  16 072  4 279  2 092  963  723  612   \n",
       "\n",
       "Numéro                          6    7      8  ...     88     89   90     91  \\\n",
       "Feux d'habitations-bureaux    748  169    348  ...    860    467  253  1 090   \n",
       "Divers                      3 908  778  1 582  ...  6 113  1 337  688  4 544   \n",
       "\n",
       "Numéro                         95  971    972    973  974  976  \n",
       "Feux d'habitations-bureaux  1 063  252    162     64  634  120  \n",
       "Divers                      2 483  218  2 332  1 948  425   19  \n",
       "\n",
       "[2 rows x 99 columns]"
      ]
     },
     "execution_count": 396,
     "metadata": {},
     "output_type": "execute_result"
    }
   ],
   "source": [
    "# Transpose Dat\n",
    "inter_2020[[\"Numéro\", \"Feux d'habitations-bureaux\", \"Divers\"]].set_index(\"Numéro\").transpose()"
   ]
  },
  {
   "cell_type": "code",
   "execution_count": 397,
   "id": "6ac938d6",
   "metadata": {},
   "outputs": [
    {
     "data": {
      "text/html": [
       "<div>\n",
       "<style scoped>\n",
       "    .dataframe tbody tr th:only-of-type {\n",
       "        vertical-align: middle;\n",
       "    }\n",
       "\n",
       "    .dataframe tbody tr th {\n",
       "        vertical-align: top;\n",
       "    }\n",
       "\n",
       "    .dataframe thead th {\n",
       "        text-align: right;\n",
       "    }\n",
       "</style>\n",
       "<table border=\"1\" class=\"dataframe\">\n",
       "  <thead>\n",
       "    <tr style=\"text-align: right;\">\n",
       "      <th></th>\n",
       "      <th>Année</th>\n",
       "      <th>Zone</th>\n",
       "      <th>Région</th>\n",
       "      <th>Département</th>\n",
       "      <th>Catégorie A</th>\n",
       "      <th>Feux d'habitations-bureaux</th>\n",
       "      <th>dont feux de cheminées</th>\n",
       "      <th>Feux d'ERP avec local à sommeil</th>\n",
       "      <th>Feux d'ERP sans local à sommeil</th>\n",
       "      <th>Feux de locaux industriels</th>\n",
       "      <th>...</th>\n",
       "      <th>Dégagements de voies publiques</th>\n",
       "      <th>Nettoyages de voies publiques</th>\n",
       "      <th>Éboulements</th>\n",
       "      <th>Déposes d'objets</th>\n",
       "      <th>Piquets de sécurité - surveillances</th>\n",
       "      <th>Engins explosifs</th>\n",
       "      <th>Autres opérations diverses</th>\n",
       "      <th>Divers</th>\n",
       "      <th>Opérations diverses</th>\n",
       "      <th>Total interventions</th>\n",
       "    </tr>\n",
       "    <tr>\n",
       "      <th>Numéro</th>\n",
       "      <th></th>\n",
       "      <th></th>\n",
       "      <th></th>\n",
       "      <th></th>\n",
       "      <th></th>\n",
       "      <th></th>\n",
       "      <th></th>\n",
       "      <th></th>\n",
       "      <th></th>\n",
       "      <th></th>\n",
       "      <th></th>\n",
       "      <th></th>\n",
       "      <th></th>\n",
       "      <th></th>\n",
       "      <th></th>\n",
       "      <th></th>\n",
       "      <th></th>\n",
       "      <th></th>\n",
       "      <th></th>\n",
       "      <th></th>\n",
       "      <th></th>\n",
       "    </tr>\n",
       "  </thead>\n",
       "  <tbody>\n",
       "    <tr>\n",
       "      <th>1</th>\n",
       "      <td>2020</td>\n",
       "      <td>Sud-est</td>\n",
       "      <td>Auvergne-Rhône-Alpes</td>\n",
       "      <td>Ain</td>\n",
       "      <td>B</td>\n",
       "      <td>515</td>\n",
       "      <td>202</td>\n",
       "      <td>0</td>\n",
       "      <td>55</td>\n",
       "      <td>63</td>\n",
       "      <td>...</td>\n",
       "      <td>46</td>\n",
       "      <td>299</td>\n",
       "      <td>45</td>\n",
       "      <td>1</td>\n",
       "      <td>0</td>\n",
       "      <td>0</td>\n",
       "      <td>649</td>\n",
       "      <td>4 279</td>\n",
       "      <td>4 887</td>\n",
       "      <td>42 444</td>\n",
       "    </tr>\n",
       "    <tr>\n",
       "      <th>10</th>\n",
       "      <td>2020</td>\n",
       "      <td>Est</td>\n",
       "      <td>Grand Est</td>\n",
       "      <td>Aube</td>\n",
       "      <td>C</td>\n",
       "      <td>379</td>\n",
       "      <td>205</td>\n",
       "      <td>5</td>\n",
       "      <td>1</td>\n",
       "      <td>84</td>\n",
       "      <td>...</td>\n",
       "      <td>0</td>\n",
       "      <td>1</td>\n",
       "      <td>3</td>\n",
       "      <td>94</td>\n",
       "      <td>0</td>\n",
       "      <td>1</td>\n",
       "      <td>167</td>\n",
       "      <td>750</td>\n",
       "      <td>1 290</td>\n",
       "      <td>12 658</td>\n",
       "    </tr>\n",
       "    <tr>\n",
       "      <th>11</th>\n",
       "      <td>2020</td>\n",
       "      <td>Sud</td>\n",
       "      <td>Occitanie</td>\n",
       "      <td>Aude</td>\n",
       "      <td>B</td>\n",
       "      <td>307</td>\n",
       "      <td>139</td>\n",
       "      <td>3</td>\n",
       "      <td>6</td>\n",
       "      <td>12</td>\n",
       "      <td>...</td>\n",
       "      <td>29</td>\n",
       "      <td>0</td>\n",
       "      <td>7</td>\n",
       "      <td>0</td>\n",
       "      <td>192</td>\n",
       "      <td>3</td>\n",
       "      <td>145</td>\n",
       "      <td>1 718</td>\n",
       "      <td>2 609</td>\n",
       "      <td>27 141</td>\n",
       "    </tr>\n",
       "    <tr>\n",
       "      <th>12</th>\n",
       "      <td>2020</td>\n",
       "      <td>Sud</td>\n",
       "      <td>Occitanie</td>\n",
       "      <td>Aveyron</td>\n",
       "      <td>C</td>\n",
       "      <td>280</td>\n",
       "      <td>177</td>\n",
       "      <td>16</td>\n",
       "      <td>15</td>\n",
       "      <td>17</td>\n",
       "      <td>...</td>\n",
       "      <td>9</td>\n",
       "      <td>1</td>\n",
       "      <td>10</td>\n",
       "      <td>24</td>\n",
       "      <td>2</td>\n",
       "      <td>1</td>\n",
       "      <td>218</td>\n",
       "      <td>770</td>\n",
       "      <td>1 113</td>\n",
       "      <td>14 651</td>\n",
       "    </tr>\n",
       "    <tr>\n",
       "      <th>13</th>\n",
       "      <td>2020</td>\n",
       "      <td>Sud</td>\n",
       "      <td>Provence-Alpes-Côte d'Azur</td>\n",
       "      <td>Bouches-du-Rhône</td>\n",
       "      <td>A</td>\n",
       "      <td>1 065</td>\n",
       "      <td>192</td>\n",
       "      <td>24</td>\n",
       "      <td>110</td>\n",
       "      <td>127</td>\n",
       "      <td>...</td>\n",
       "      <td>351</td>\n",
       "      <td>0</td>\n",
       "      <td>27</td>\n",
       "      <td>312</td>\n",
       "      <td>455</td>\n",
       "      <td>21</td>\n",
       "      <td>927</td>\n",
       "      <td>8 583</td>\n",
       "      <td>10 204</td>\n",
       "      <td>131 701</td>\n",
       "    </tr>\n",
       "    <tr>\n",
       "      <th>...</th>\n",
       "      <td>...</td>\n",
       "      <td>...</td>\n",
       "      <td>...</td>\n",
       "      <td>...</td>\n",
       "      <td>...</td>\n",
       "      <td>...</td>\n",
       "      <td>...</td>\n",
       "      <td>...</td>\n",
       "      <td>...</td>\n",
       "      <td>...</td>\n",
       "      <td>...</td>\n",
       "      <td>...</td>\n",
       "      <td>...</td>\n",
       "      <td>...</td>\n",
       "      <td>...</td>\n",
       "      <td>...</td>\n",
       "      <td>...</td>\n",
       "      <td>...</td>\n",
       "      <td>...</td>\n",
       "      <td>...</td>\n",
       "      <td>...</td>\n",
       "    </tr>\n",
       "    <tr>\n",
       "      <th>971</th>\n",
       "      <td>2020</td>\n",
       "      <td>Antilles</td>\n",
       "      <td>Guadeloupe</td>\n",
       "      <td>Guadeloupe</td>\n",
       "      <td>B</td>\n",
       "      <td>252</td>\n",
       "      <td>0</td>\n",
       "      <td>4</td>\n",
       "      <td>30</td>\n",
       "      <td>9</td>\n",
       "      <td>...</td>\n",
       "      <td>0</td>\n",
       "      <td>18</td>\n",
       "      <td>0</td>\n",
       "      <td>0</td>\n",
       "      <td>0</td>\n",
       "      <td>0</td>\n",
       "      <td>52</td>\n",
       "      <td>218</td>\n",
       "      <td>422</td>\n",
       "      <td>36 471</td>\n",
       "    </tr>\n",
       "    <tr>\n",
       "      <th>972</th>\n",
       "      <td>2020</td>\n",
       "      <td>Antilles</td>\n",
       "      <td>Martinique</td>\n",
       "      <td>Martinique</td>\n",
       "      <td>C</td>\n",
       "      <td>162</td>\n",
       "      <td>0</td>\n",
       "      <td>6</td>\n",
       "      <td>11</td>\n",
       "      <td>14</td>\n",
       "      <td>...</td>\n",
       "      <td>97</td>\n",
       "      <td>0</td>\n",
       "      <td>10</td>\n",
       "      <td>0</td>\n",
       "      <td>0</td>\n",
       "      <td>1</td>\n",
       "      <td>2 102</td>\n",
       "      <td>2 332</td>\n",
       "      <td>2 434</td>\n",
       "      <td>30 627</td>\n",
       "    </tr>\n",
       "    <tr>\n",
       "      <th>973</th>\n",
       "      <td>2020</td>\n",
       "      <td>Guyane</td>\n",
       "      <td>Guyane</td>\n",
       "      <td>Guyane</td>\n",
       "      <td>C</td>\n",
       "      <td>64</td>\n",
       "      <td>0</td>\n",
       "      <td>5</td>\n",
       "      <td>7</td>\n",
       "      <td>2</td>\n",
       "      <td>...</td>\n",
       "      <td>0</td>\n",
       "      <td>0</td>\n",
       "      <td>0</td>\n",
       "      <td>0</td>\n",
       "      <td>0</td>\n",
       "      <td>0</td>\n",
       "      <td>641</td>\n",
       "      <td>1 948</td>\n",
       "      <td>2 075</td>\n",
       "      <td>17 470</td>\n",
       "    </tr>\n",
       "    <tr>\n",
       "      <th>974</th>\n",
       "      <td>2020</td>\n",
       "      <td>Océan indien</td>\n",
       "      <td>La Réunion</td>\n",
       "      <td>Réunion</td>\n",
       "      <td>B</td>\n",
       "      <td>634</td>\n",
       "      <td>0</td>\n",
       "      <td>8</td>\n",
       "      <td>60</td>\n",
       "      <td>50</td>\n",
       "      <td>...</td>\n",
       "      <td>79</td>\n",
       "      <td>0</td>\n",
       "      <td>6</td>\n",
       "      <td>0</td>\n",
       "      <td>0</td>\n",
       "      <td>5</td>\n",
       "      <td>0</td>\n",
       "      <td>425</td>\n",
       "      <td>641</td>\n",
       "      <td>46 173</td>\n",
       "    </tr>\n",
       "    <tr>\n",
       "      <th>976</th>\n",
       "      <td>2020</td>\n",
       "      <td>Océan indien</td>\n",
       "      <td>Mayotte</td>\n",
       "      <td>Mayotte</td>\n",
       "      <td>C</td>\n",
       "      <td>120</td>\n",
       "      <td>0</td>\n",
       "      <td>0</td>\n",
       "      <td>0</td>\n",
       "      <td>0</td>\n",
       "      <td>...</td>\n",
       "      <td>0</td>\n",
       "      <td>19</td>\n",
       "      <td>0</td>\n",
       "      <td>0</td>\n",
       "      <td>0</td>\n",
       "      <td>0</td>\n",
       "      <td>0</td>\n",
       "      <td>19</td>\n",
       "      <td>73</td>\n",
       "      <td>14 420</td>\n",
       "    </tr>\n",
       "  </tbody>\n",
       "</table>\n",
       "<p>97 rows × 70 columns</p>\n",
       "</div>"
      ],
      "text/plain": [
       "        Année          Zone                      Région       Département  \\\n",
       "Numéro                                                                      \n",
       "1        2020       Sud-est        Auvergne-Rhône-Alpes               Ain   \n",
       "10       2020           Est                   Grand Est              Aube   \n",
       "11       2020           Sud                   Occitanie              Aude   \n",
       "12       2020           Sud                   Occitanie           Aveyron   \n",
       "13       2020           Sud  Provence-Alpes-Côte d'Azur  Bouches-du-Rhône   \n",
       "...       ...           ...                         ...               ...   \n",
       "971      2020      Antilles                  Guadeloupe        Guadeloupe   \n",
       "972      2020      Antilles                  Martinique        Martinique   \n",
       "973      2020        Guyane                      Guyane            Guyane   \n",
       "974      2020  Océan indien                  La Réunion           Réunion   \n",
       "976      2020  Océan indien                     Mayotte           Mayotte   \n",
       "\n",
       "       Catégorie A Feux d'habitations-bureaux  dont feux de cheminées  \\\n",
       "Numéro                                                                  \n",
       "1                B                        515                     202   \n",
       "10               C                        379                     205   \n",
       "11               B                        307                     139   \n",
       "12               C                        280                     177   \n",
       "13               A                      1 065                     192   \n",
       "...            ...                        ...                     ...   \n",
       "971              B                        252                       0   \n",
       "972              C                        162                       0   \n",
       "973              C                         64                       0   \n",
       "974              B                        634                       0   \n",
       "976              C                        120                       0   \n",
       "\n",
       "        Feux d'ERP avec local à sommeil  Feux d'ERP sans local à sommeil  \\\n",
       "Numéro                                                                     \n",
       "1                                     0                               55   \n",
       "10                                    5                                1   \n",
       "11                                    3                                6   \n",
       "12                                   16                               15   \n",
       "13                                   24                              110   \n",
       "...                                 ...                              ...   \n",
       "971                                   4                               30   \n",
       "972                                   6                               11   \n",
       "973                                   5                                7   \n",
       "974                                   8                               60   \n",
       "976                                   0                                0   \n",
       "\n",
       "        Feux de locaux industriels  ...  Dégagements de voies publiques  \\\n",
       "Numéro                              ...                                   \n",
       "1                               63  ...                              46   \n",
       "10                              84  ...                               0   \n",
       "11                              12  ...                              29   \n",
       "12                              17  ...                               9   \n",
       "13                             127  ...                             351   \n",
       "...                            ...  ...                             ...   \n",
       "971                              9  ...                               0   \n",
       "972                             14  ...                              97   \n",
       "973                              2  ...                               0   \n",
       "974                             50  ...                              79   \n",
       "976                              0  ...                               0   \n",
       "\n",
       "        Nettoyages de voies publiques Éboulements Déposes d'objets  \\\n",
       "Numéro                                                               \n",
       "1                                 299          45                1   \n",
       "10                                  1           3               94   \n",
       "11                                  0           7                0   \n",
       "12                                  1          10               24   \n",
       "13                                  0          27              312   \n",
       "...                               ...         ...              ...   \n",
       "971                                18           0                0   \n",
       "972                                 0          10                0   \n",
       "973                                 0           0                0   \n",
       "974                                 0           6                0   \n",
       "976                                19           0                0   \n",
       "\n",
       "       Piquets de sécurité - surveillances Engins explosifs  \\\n",
       "Numéro                                                        \n",
       "1                                        0                0   \n",
       "10                                       0                1   \n",
       "11                                     192                3   \n",
       "12                                       2                1   \n",
       "13                                     455               21   \n",
       "...                                    ...              ...   \n",
       "971                                      0                0   \n",
       "972                                      0                1   \n",
       "973                                      0                0   \n",
       "974                                      0                5   \n",
       "976                                      0                0   \n",
       "\n",
       "       Autres opérations diverses Divers Opérations diverses  \\\n",
       "Numéro                                                         \n",
       "1                             649  4 279               4 887   \n",
       "10                            167    750               1 290   \n",
       "11                            145  1 718               2 609   \n",
       "12                            218    770               1 113   \n",
       "13                            927  8 583              10 204   \n",
       "...                           ...    ...                 ...   \n",
       "971                            52    218                 422   \n",
       "972                         2 102  2 332               2 434   \n",
       "973                           641  1 948               2 075   \n",
       "974                             0    425                 641   \n",
       "976                             0     19                  73   \n",
       "\n",
       "       Total interventions  \n",
       "Numéro                      \n",
       "1                   42 444  \n",
       "10                  12 658  \n",
       "11                  27 141  \n",
       "12                  14 651  \n",
       "13                 131 701  \n",
       "...                    ...  \n",
       "971                 36 471  \n",
       "972                 30 627  \n",
       "973                 17 470  \n",
       "974                 46 173  \n",
       "976                 14 420  \n",
       "\n",
       "[97 rows x 70 columns]"
      ]
     },
     "execution_count": 397,
     "metadata": {},
     "output_type": "execute_result"
    }
   ],
   "source": [
    "# Sort dataframe index\n",
    "inter_2020C = inter_2020[inter_2020['Catégorie A'] != \"M\"]\n",
    "inter_2020C.set_index(\"Numéro\").sort_index()"
   ]
  },
  {
   "cell_type": "code",
   "execution_count": 398,
   "id": "bd5f99ed",
   "metadata": {},
   "outputs": [
    {
     "data": {
      "text/html": [
       "<div>\n",
       "<style scoped>\n",
       "    .dataframe tbody tr th:only-of-type {\n",
       "        vertical-align: middle;\n",
       "    }\n",
       "\n",
       "    .dataframe tbody tr th {\n",
       "        vertical-align: top;\n",
       "    }\n",
       "\n",
       "    .dataframe thead th {\n",
       "        text-align: right;\n",
       "    }\n",
       "</style>\n",
       "<table border=\"1\" class=\"dataframe\">\n",
       "  <thead>\n",
       "    <tr style=\"text-align: right;\">\n",
       "      <th></th>\n",
       "      <th>Année</th>\n",
       "      <th>Zone</th>\n",
       "      <th>Région</th>\n",
       "      <th>Numéro</th>\n",
       "      <th>Département</th>\n",
       "      <th>Catégorie A</th>\n",
       "      <th>Feux d'habitations-bureaux</th>\n",
       "      <th>dont feux de cheminées</th>\n",
       "      <th>Feux d'ERP avec local à sommeil</th>\n",
       "      <th>Feux d'ERP sans local à sommeil</th>\n",
       "      <th>...</th>\n",
       "      <th>Dégagements de voies publiques</th>\n",
       "      <th>Nettoyages de voies publiques</th>\n",
       "      <th>Éboulements</th>\n",
       "      <th>Déposes d'objets</th>\n",
       "      <th>Piquets de sécurité - surveillances</th>\n",
       "      <th>Engins explosifs</th>\n",
       "      <th>Autres opérations diverses</th>\n",
       "      <th>Divers</th>\n",
       "      <th>Opérations diverses</th>\n",
       "      <th>Total interventions</th>\n",
       "    </tr>\n",
       "  </thead>\n",
       "  <tbody>\n",
       "    <tr>\n",
       "      <th>1</th>\n",
       "      <td>2020</td>\n",
       "      <td>Île-de-France</td>\n",
       "      <td>Île-de-France</td>\n",
       "      <td>BSPP</td>\n",
       "      <td>Paris</td>\n",
       "      <td>M</td>\n",
       "      <td>3657</td>\n",
       "      <td>43</td>\n",
       "      <td>99</td>\n",
       "      <td>549</td>\n",
       "      <td>...</td>\n",
       "      <td>31</td>\n",
       "      <td>201</td>\n",
       "      <td>29</td>\n",
       "      <td>1 408</td>\n",
       "      <td>2</td>\n",
       "      <td>16</td>\n",
       "      <td>11 838</td>\n",
       "      <td>16 072</td>\n",
       "      <td>18 999</td>\n",
       "      <td>423 442</td>\n",
       "    </tr>\n",
       "    <tr>\n",
       "      <th>61</th>\n",
       "      <td>2020</td>\n",
       "      <td>Nord</td>\n",
       "      <td>Hauts-de-France</td>\n",
       "      <td>59</td>\n",
       "      <td>Nord</td>\n",
       "      <td>A</td>\n",
       "      <td>2086</td>\n",
       "      <td>720</td>\n",
       "      <td>2</td>\n",
       "      <td>194</td>\n",
       "      <td>...</td>\n",
       "      <td>0</td>\n",
       "      <td>1</td>\n",
       "      <td>73</td>\n",
       "      <td>3 669</td>\n",
       "      <td>0</td>\n",
       "      <td>82</td>\n",
       "      <td>1 469</td>\n",
       "      <td>7 728</td>\n",
       "      <td>16 930</td>\n",
       "      <td>148 931</td>\n",
       "    </tr>\n",
       "    <tr>\n",
       "      <th>37</th>\n",
       "      <td>2020</td>\n",
       "      <td>Ouest</td>\n",
       "      <td>Bretagne</td>\n",
       "      <td>35</td>\n",
       "      <td>Ille-et-Vilaine</td>\n",
       "      <td>A</td>\n",
       "      <td>1777</td>\n",
       "      <td>545</td>\n",
       "      <td>43</td>\n",
       "      <td>55</td>\n",
       "      <td>...</td>\n",
       "      <td>1 215</td>\n",
       "      <td>0</td>\n",
       "      <td>9</td>\n",
       "      <td>0</td>\n",
       "      <td>0</td>\n",
       "      <td>2</td>\n",
       "      <td>499</td>\n",
       "      <td>2 554</td>\n",
       "      <td>4 313</td>\n",
       "      <td>41 210</td>\n",
       "    </tr>\n",
       "    <tr>\n",
       "      <th>35</th>\n",
       "      <td>2020</td>\n",
       "      <td>Sud-ouest</td>\n",
       "      <td>Nouvelle-Aquitaine</td>\n",
       "      <td>33</td>\n",
       "      <td>Gironde</td>\n",
       "      <td>A</td>\n",
       "      <td>1543</td>\n",
       "      <td>50</td>\n",
       "      <td>727</td>\n",
       "      <td>0</td>\n",
       "      <td>...</td>\n",
       "      <td>167</td>\n",
       "      <td>4</td>\n",
       "      <td>49</td>\n",
       "      <td>244</td>\n",
       "      <td>8</td>\n",
       "      <td>23</td>\n",
       "      <td>651</td>\n",
       "      <td>6 926</td>\n",
       "      <td>9 150</td>\n",
       "      <td>124 308</td>\n",
       "    </tr>\n",
       "    <tr>\n",
       "      <th>64</th>\n",
       "      <td>2020</td>\n",
       "      <td>Nord</td>\n",
       "      <td>Hauts-de-France</td>\n",
       "      <td>62</td>\n",
       "      <td>Pas-de-Calais</td>\n",
       "      <td>A</td>\n",
       "      <td>1542</td>\n",
       "      <td>722</td>\n",
       "      <td>28</td>\n",
       "      <td>86</td>\n",
       "      <td>...</td>\n",
       "      <td>1 689</td>\n",
       "      <td>2</td>\n",
       "      <td>42</td>\n",
       "      <td>0</td>\n",
       "      <td>20</td>\n",
       "      <td>273</td>\n",
       "      <td>111</td>\n",
       "      <td>3 883</td>\n",
       "      <td>8 763</td>\n",
       "      <td>123 381</td>\n",
       "    </tr>\n",
       "    <tr>\n",
       "      <th>...</th>\n",
       "      <td>...</td>\n",
       "      <td>...</td>\n",
       "      <td>...</td>\n",
       "      <td>...</td>\n",
       "      <td>...</td>\n",
       "      <td>...</td>\n",
       "      <td>...</td>\n",
       "      <td>...</td>\n",
       "      <td>...</td>\n",
       "      <td>...</td>\n",
       "      <td>...</td>\n",
       "      <td>...</td>\n",
       "      <td>...</td>\n",
       "      <td>...</td>\n",
       "      <td>...</td>\n",
       "      <td>...</td>\n",
       "      <td>...</td>\n",
       "      <td>...</td>\n",
       "      <td>...</td>\n",
       "      <td>...</td>\n",
       "      <td>...</td>\n",
       "    </tr>\n",
       "    <tr>\n",
       "      <th>95</th>\n",
       "      <td>2020</td>\n",
       "      <td>Antilles</td>\n",
       "      <td>Martinique</td>\n",
       "      <td>972</td>\n",
       "      <td>Martinique</td>\n",
       "      <td>C</td>\n",
       "      <td>162</td>\n",
       "      <td>0</td>\n",
       "      <td>6</td>\n",
       "      <td>11</td>\n",
       "      <td>...</td>\n",
       "      <td>97</td>\n",
       "      <td>0</td>\n",
       "      <td>10</td>\n",
       "      <td>0</td>\n",
       "      <td>0</td>\n",
       "      <td>1</td>\n",
       "      <td>2 102</td>\n",
       "      <td>2 332</td>\n",
       "      <td>2 434</td>\n",
       "      <td>30 627</td>\n",
       "    </tr>\n",
       "    <tr>\n",
       "      <th>31</th>\n",
       "      <td>2020</td>\n",
       "      <td>Sud</td>\n",
       "      <td>Corse</td>\n",
       "      <td>2b</td>\n",
       "      <td>Haute-Corse</td>\n",
       "      <td>C</td>\n",
       "      <td>157</td>\n",
       "      <td>0</td>\n",
       "      <td>3</td>\n",
       "      <td>4</td>\n",
       "      <td>...</td>\n",
       "      <td>37</td>\n",
       "      <td>13</td>\n",
       "      <td>3</td>\n",
       "      <td>120</td>\n",
       "      <td>119</td>\n",
       "      <td>3</td>\n",
       "      <td>723</td>\n",
       "      <td>1 457</td>\n",
       "      <td>1 587</td>\n",
       "      <td>15 494</td>\n",
       "    </tr>\n",
       "    <tr>\n",
       "      <th>98</th>\n",
       "      <td>2020</td>\n",
       "      <td>Océan indien</td>\n",
       "      <td>Mayotte</td>\n",
       "      <td>976</td>\n",
       "      <td>Mayotte</td>\n",
       "      <td>C</td>\n",
       "      <td>120</td>\n",
       "      <td>0</td>\n",
       "      <td>0</td>\n",
       "      <td>0</td>\n",
       "      <td>...</td>\n",
       "      <td>0</td>\n",
       "      <td>19</td>\n",
       "      <td>0</td>\n",
       "      <td>0</td>\n",
       "      <td>0</td>\n",
       "      <td>0</td>\n",
       "      <td>0</td>\n",
       "      <td>19</td>\n",
       "      <td>73</td>\n",
       "      <td>14 420</td>\n",
       "    </tr>\n",
       "    <tr>\n",
       "      <th>50</th>\n",
       "      <td>2020</td>\n",
       "      <td>Sud</td>\n",
       "      <td>Occitanie</td>\n",
       "      <td>48</td>\n",
       "      <td>Lozère</td>\n",
       "      <td>C</td>\n",
       "      <td>112</td>\n",
       "      <td>72</td>\n",
       "      <td>2</td>\n",
       "      <td>0</td>\n",
       "      <td>...</td>\n",
       "      <td>0</td>\n",
       "      <td>0</td>\n",
       "      <td>1</td>\n",
       "      <td>0</td>\n",
       "      <td>13</td>\n",
       "      <td>0</td>\n",
       "      <td>149</td>\n",
       "      <td>232</td>\n",
       "      <td>334</td>\n",
       "      <td>5 161</td>\n",
       "    </tr>\n",
       "    <tr>\n",
       "      <th>96</th>\n",
       "      <td>2020</td>\n",
       "      <td>Guyane</td>\n",
       "      <td>Guyane</td>\n",
       "      <td>973</td>\n",
       "      <td>Guyane</td>\n",
       "      <td>C</td>\n",
       "      <td>64</td>\n",
       "      <td>0</td>\n",
       "      <td>5</td>\n",
       "      <td>7</td>\n",
       "      <td>...</td>\n",
       "      <td>0</td>\n",
       "      <td>0</td>\n",
       "      <td>0</td>\n",
       "      <td>0</td>\n",
       "      <td>0</td>\n",
       "      <td>0</td>\n",
       "      <td>641</td>\n",
       "      <td>1 948</td>\n",
       "      <td>2 075</td>\n",
       "      <td>17 470</td>\n",
       "    </tr>\n",
       "  </tbody>\n",
       "</table>\n",
       "<p>99 rows × 71 columns</p>\n",
       "</div>"
      ],
      "text/plain": [
       "    Année           Zone              Région Numéro      Département  \\\n",
       "1    2020  Île-de-France       Île-de-France   BSPP            Paris   \n",
       "61   2020           Nord     Hauts-de-France     59             Nord   \n",
       "37   2020          Ouest            Bretagne     35  Ille-et-Vilaine   \n",
       "35   2020      Sud-ouest  Nouvelle-Aquitaine     33          Gironde   \n",
       "64   2020           Nord     Hauts-de-France     62    Pas-de-Calais   \n",
       "..    ...            ...                 ...    ...              ...   \n",
       "95   2020       Antilles          Martinique    972       Martinique   \n",
       "31   2020            Sud               Corse     2b      Haute-Corse   \n",
       "98   2020   Océan indien             Mayotte    976          Mayotte   \n",
       "50   2020            Sud           Occitanie     48           Lozère   \n",
       "96   2020         Guyane              Guyane    973           Guyane   \n",
       "\n",
       "   Catégorie A  Feux d'habitations-bureaux  dont feux de cheminées  \\\n",
       "1            M                        3657                      43   \n",
       "61           A                        2086                     720   \n",
       "37           A                        1777                     545   \n",
       "35           A                        1543                      50   \n",
       "64           A                        1542                     722   \n",
       "..         ...                         ...                     ...   \n",
       "95           C                         162                       0   \n",
       "31           C                         157                       0   \n",
       "98           C                         120                       0   \n",
       "50           C                         112                      72   \n",
       "96           C                          64                       0   \n",
       "\n",
       "    Feux d'ERP avec local à sommeil  Feux d'ERP sans local à sommeil  ...  \\\n",
       "1                                99                              549  ...   \n",
       "61                                2                              194  ...   \n",
       "37                               43                               55  ...   \n",
       "35                              727                                0  ...   \n",
       "64                               28                               86  ...   \n",
       "..                              ...                              ...  ...   \n",
       "95                                6                               11  ...   \n",
       "31                                3                                4  ...   \n",
       "98                                0                                0  ...   \n",
       "50                                2                                0  ...   \n",
       "96                                5                                7  ...   \n",
       "\n",
       "    Dégagements de voies publiques  Nettoyages de voies publiques  \\\n",
       "1                               31                            201   \n",
       "61                               0                              1   \n",
       "37                           1 215                              0   \n",
       "35                             167                              4   \n",
       "64                           1 689                              2   \n",
       "..                             ...                            ...   \n",
       "95                              97                              0   \n",
       "31                              37                             13   \n",
       "98                               0                             19   \n",
       "50                               0                              0   \n",
       "96                               0                              0   \n",
       "\n",
       "    Éboulements Déposes d'objets Piquets de sécurité - surveillances  \\\n",
       "1            29            1 408                                   2   \n",
       "61           73            3 669                                   0   \n",
       "37            9                0                                   0   \n",
       "35           49              244                                   8   \n",
       "64           42                0                                  20   \n",
       "..          ...              ...                                 ...   \n",
       "95           10                0                                   0   \n",
       "31            3              120                                 119   \n",
       "98            0                0                                   0   \n",
       "50            1                0                                  13   \n",
       "96            0                0                                   0   \n",
       "\n",
       "   Engins explosifs Autres opérations diverses  Divers Opérations diverses  \\\n",
       "1                16                     11 838  16 072              18 999   \n",
       "61               82                      1 469   7 728              16 930   \n",
       "37                2                        499   2 554               4 313   \n",
       "35               23                        651   6 926               9 150   \n",
       "64              273                        111   3 883               8 763   \n",
       "..              ...                        ...     ...                 ...   \n",
       "95                1                      2 102   2 332               2 434   \n",
       "31                3                        723   1 457               1 587   \n",
       "98                0                          0      19                  73   \n",
       "50                0                        149     232                 334   \n",
       "96                0                        641   1 948               2 075   \n",
       "\n",
       "   Total interventions  \n",
       "1              423 442  \n",
       "61             148 931  \n",
       "37              41 210  \n",
       "35             124 308  \n",
       "64             123 381  \n",
       "..                 ...  \n",
       "95              30 627  \n",
       "31              15 494  \n",
       "98              14 420  \n",
       "50               5 161  \n",
       "96              17 470  \n",
       "\n",
       "[99 rows x 71 columns]"
      ]
     },
     "execution_count": 398,
     "metadata": {},
     "output_type": "execute_result"
    }
   ],
   "source": [
    "# Sort dataframe\n",
    "inter_2020[\"Feux d'habitations-bureaux\"] = inter_2020[\"Feux d'habitations-bureaux\"].str.replace(\" \", \"\").astype(int)\n",
    "inter_2020.sort_values(by = [\"Feux d'habitations-bureaux\"], ascending=False)"
   ]
  },
  {
   "cell_type": "code",
   "execution_count": 399,
   "id": "497ee4f3",
   "metadata": {},
   "outputs": [],
   "source": [
    "# Groupe by\n",
    "inter_2020[\"Feux de végétations\"] = inter_2020[\"Feux de végétations\"].str.replace(\" \", \"\").astype(int)\n",
    "fdf_zone = inter_2020[[\"Zone\", \"Feux de végétations\"]].groupby(\"Zone\")[\"Feux de végétations\"].sum()"
   ]
  },
  {
   "cell_type": "code",
   "execution_count": 410,
   "id": "9598e2fe",
   "metadata": {},
   "outputs": [
    {
     "name": "stdout",
     "output_type": "stream",
     "text": [
      "59036\n",
      "596.3232323232323\n",
      "333.5\n",
      "777.0\n",
      "390.78021977709835\n"
     ]
    }
   ],
   "source": [
    "# Some stats\n",
    "\n",
    "# Sum\n",
    "print(inter_2020[\"Feux de végétations\"].sum())\n",
    "\n",
    "# Mean\n",
    "print(inter_2020[\"Feux de végétations\"].mean())\n",
    "\n",
    "# 1st quartile\n",
    "print(inter_2020[\"Feux de végétations\"].quantile(0.25))\n",
    "\n",
    "# 3rd quartile\n",
    "print(inter_2020[\"Feux de végétations\"].quantile(0.75))\n",
    "\n",
    "# Standard deviation\n",
    "print(inter_2020[\"Feux de végétations\"].std())"
   ]
  },
  {
   "cell_type": "code",
   "execution_count": 412,
   "id": "6e11c0ee",
   "metadata": {},
   "outputs": [
    {
     "data": {
      "text/html": [
       "<div>\n",
       "<style scoped>\n",
       "    .dataframe tbody tr th:only-of-type {\n",
       "        vertical-align: middle;\n",
       "    }\n",
       "\n",
       "    .dataframe tbody tr th {\n",
       "        vertical-align: top;\n",
       "    }\n",
       "\n",
       "    .dataframe thead th {\n",
       "        text-align: right;\n",
       "    }\n",
       "</style>\n",
       "<table border=\"1\" class=\"dataframe\">\n",
       "  <thead>\n",
       "    <tr style=\"text-align: right;\">\n",
       "      <th></th>\n",
       "      <th>Année</th>\n",
       "      <th>Zone</th>\n",
       "      <th>Région</th>\n",
       "      <th>Numéro</th>\n",
       "      <th>Département</th>\n",
       "      <th>Catégorie A</th>\n",
       "      <th>Feux d'habitations-bureaux</th>\n",
       "      <th>dont feux de cheminées</th>\n",
       "      <th>Feux d'ERP avec local à sommeil</th>\n",
       "      <th>Feux d'ERP sans local à sommeil</th>\n",
       "      <th>...</th>\n",
       "      <th>Dégagements de voies publiques</th>\n",
       "      <th>Nettoyages de voies publiques</th>\n",
       "      <th>Éboulements</th>\n",
       "      <th>Déposes d'objets</th>\n",
       "      <th>Piquets de sécurité - surveillances</th>\n",
       "      <th>Engins explosifs</th>\n",
       "      <th>Autres opérations diverses</th>\n",
       "      <th>Divers</th>\n",
       "      <th>Opérations diverses</th>\n",
       "      <th>Total interventions</th>\n",
       "    </tr>\n",
       "  </thead>\n",
       "  <tbody>\n",
       "    <tr>\n",
       "      <th>0</th>\n",
       "      <td>2019</td>\n",
       "      <td>Sud</td>\n",
       "      <td>Provence-Alpes-Côte d'Azur</td>\n",
       "      <td>BMPM</td>\n",
       "      <td>Bouches-du-Rhône</td>\n",
       "      <td>NaN</td>\n",
       "      <td>760</td>\n",
       "      <td>18.0</td>\n",
       "      <td>44.0</td>\n",
       "      <td>164.0</td>\n",
       "      <td>...</td>\n",
       "      <td>728</td>\n",
       "      <td>150.0</td>\n",
       "      <td>15.0</td>\n",
       "      <td>0</td>\n",
       "      <td>1 718</td>\n",
       "      <td>42.0</td>\n",
       "      <td>799</td>\n",
       "      <td>7 877</td>\n",
       "      <td>12 279</td>\n",
       "      <td>123 863</td>\n",
       "    </tr>\n",
       "    <tr>\n",
       "      <th>1</th>\n",
       "      <td>2019</td>\n",
       "      <td>Île-de-France</td>\n",
       "      <td>Île-de-France</td>\n",
       "      <td>BSPP</td>\n",
       "      <td>Paris</td>\n",
       "      <td>NaN</td>\n",
       "      <td>3 917</td>\n",
       "      <td>48.0</td>\n",
       "      <td>135.0</td>\n",
       "      <td>607.0</td>\n",
       "      <td>...</td>\n",
       "      <td>32</td>\n",
       "      <td>204.0</td>\n",
       "      <td>32.0</td>\n",
       "      <td>1 006</td>\n",
       "      <td>1</td>\n",
       "      <td>19.0</td>\n",
       "      <td>16 784</td>\n",
       "      <td>21 323</td>\n",
       "      <td>24 983</td>\n",
       "      <td>507 258</td>\n",
       "    </tr>\n",
       "    <tr>\n",
       "      <th>2</th>\n",
       "      <td>2019</td>\n",
       "      <td>Sud-est</td>\n",
       "      <td>Auvergne-Rhône-Alpes</td>\n",
       "      <td>1</td>\n",
       "      <td>Ain</td>\n",
       "      <td>B</td>\n",
       "      <td>560</td>\n",
       "      <td>235.0</td>\n",
       "      <td>0.0</td>\n",
       "      <td>71.0</td>\n",
       "      <td>...</td>\n",
       "      <td>140</td>\n",
       "      <td>449.0</td>\n",
       "      <td>24.0</td>\n",
       "      <td>122</td>\n",
       "      <td>0</td>\n",
       "      <td>2.0</td>\n",
       "      <td>692</td>\n",
       "      <td>2 912</td>\n",
       "      <td>3 755</td>\n",
       "      <td>43 481</td>\n",
       "    </tr>\n",
       "    <tr>\n",
       "      <th>3</th>\n",
       "      <td>2019</td>\n",
       "      <td>Nord</td>\n",
       "      <td>Hauts-de-France</td>\n",
       "      <td>2</td>\n",
       "      <td>Aisne</td>\n",
       "      <td>B</td>\n",
       "      <td>907</td>\n",
       "      <td>354.0</td>\n",
       "      <td>25.0</td>\n",
       "      <td>38.0</td>\n",
       "      <td>...</td>\n",
       "      <td>39</td>\n",
       "      <td>1.0</td>\n",
       "      <td>6.0</td>\n",
       "      <td>172</td>\n",
       "      <td>0</td>\n",
       "      <td>1.0</td>\n",
       "      <td>152</td>\n",
       "      <td>1 162</td>\n",
       "      <td>2 025</td>\n",
       "      <td>40 506</td>\n",
       "    </tr>\n",
       "    <tr>\n",
       "      <th>4</th>\n",
       "      <td>2019</td>\n",
       "      <td>Sud-est</td>\n",
       "      <td>Auvergne-Rhône-Alpes</td>\n",
       "      <td>3</td>\n",
       "      <td>Allier</td>\n",
       "      <td>C</td>\n",
       "      <td>483</td>\n",
       "      <td>242.0</td>\n",
       "      <td>7.0</td>\n",
       "      <td>24.0</td>\n",
       "      <td>...</td>\n",
       "      <td>238</td>\n",
       "      <td>37.0</td>\n",
       "      <td>0.0</td>\n",
       "      <td>97</td>\n",
       "      <td>38</td>\n",
       "      <td>0.0</td>\n",
       "      <td>505</td>\n",
       "      <td>1 110</td>\n",
       "      <td>2 591</td>\n",
       "      <td>28 619</td>\n",
       "    </tr>\n",
       "    <tr>\n",
       "      <th>...</th>\n",
       "      <td>...</td>\n",
       "      <td>...</td>\n",
       "      <td>...</td>\n",
       "      <td>...</td>\n",
       "      <td>...</td>\n",
       "      <td>...</td>\n",
       "      <td>...</td>\n",
       "      <td>...</td>\n",
       "      <td>...</td>\n",
       "      <td>...</td>\n",
       "      <td>...</td>\n",
       "      <td>...</td>\n",
       "      <td>...</td>\n",
       "      <td>...</td>\n",
       "      <td>...</td>\n",
       "      <td>...</td>\n",
       "      <td>...</td>\n",
       "      <td>...</td>\n",
       "      <td>...</td>\n",
       "      <td>...</td>\n",
       "      <td>...</td>\n",
       "    </tr>\n",
       "    <tr>\n",
       "      <th>94</th>\n",
       "      <td>2020</td>\n",
       "      <td>Antilles</td>\n",
       "      <td>Guadeloupe</td>\n",
       "      <td>971</td>\n",
       "      <td>Guadeloupe</td>\n",
       "      <td>B</td>\n",
       "      <td>252</td>\n",
       "      <td>0.0</td>\n",
       "      <td>4.0</td>\n",
       "      <td>30.0</td>\n",
       "      <td>...</td>\n",
       "      <td>0</td>\n",
       "      <td>18.0</td>\n",
       "      <td>0.0</td>\n",
       "      <td>0</td>\n",
       "      <td>0</td>\n",
       "      <td>0.0</td>\n",
       "      <td>52</td>\n",
       "      <td>218</td>\n",
       "      <td>422</td>\n",
       "      <td>36 471</td>\n",
       "    </tr>\n",
       "    <tr>\n",
       "      <th>95</th>\n",
       "      <td>2020</td>\n",
       "      <td>Antilles</td>\n",
       "      <td>Martinique</td>\n",
       "      <td>972</td>\n",
       "      <td>Martinique</td>\n",
       "      <td>C</td>\n",
       "      <td>162</td>\n",
       "      <td>0.0</td>\n",
       "      <td>6.0</td>\n",
       "      <td>11.0</td>\n",
       "      <td>...</td>\n",
       "      <td>97</td>\n",
       "      <td>0.0</td>\n",
       "      <td>10.0</td>\n",
       "      <td>0</td>\n",
       "      <td>0</td>\n",
       "      <td>1.0</td>\n",
       "      <td>2 102</td>\n",
       "      <td>2 332</td>\n",
       "      <td>2 434</td>\n",
       "      <td>30 627</td>\n",
       "    </tr>\n",
       "    <tr>\n",
       "      <th>96</th>\n",
       "      <td>2020</td>\n",
       "      <td>Guyane</td>\n",
       "      <td>Guyane</td>\n",
       "      <td>973</td>\n",
       "      <td>Guyane</td>\n",
       "      <td>C</td>\n",
       "      <td>64</td>\n",
       "      <td>0.0</td>\n",
       "      <td>5.0</td>\n",
       "      <td>7.0</td>\n",
       "      <td>...</td>\n",
       "      <td>0</td>\n",
       "      <td>0.0</td>\n",
       "      <td>0.0</td>\n",
       "      <td>0</td>\n",
       "      <td>0</td>\n",
       "      <td>0.0</td>\n",
       "      <td>641</td>\n",
       "      <td>1 948</td>\n",
       "      <td>2 075</td>\n",
       "      <td>17 470</td>\n",
       "    </tr>\n",
       "    <tr>\n",
       "      <th>97</th>\n",
       "      <td>2020</td>\n",
       "      <td>Océan indien</td>\n",
       "      <td>La Réunion</td>\n",
       "      <td>974</td>\n",
       "      <td>Réunion</td>\n",
       "      <td>B</td>\n",
       "      <td>634</td>\n",
       "      <td>0.0</td>\n",
       "      <td>8.0</td>\n",
       "      <td>60.0</td>\n",
       "      <td>...</td>\n",
       "      <td>79</td>\n",
       "      <td>0.0</td>\n",
       "      <td>6.0</td>\n",
       "      <td>0</td>\n",
       "      <td>0</td>\n",
       "      <td>5.0</td>\n",
       "      <td>0</td>\n",
       "      <td>425</td>\n",
       "      <td>641</td>\n",
       "      <td>46 173</td>\n",
       "    </tr>\n",
       "    <tr>\n",
       "      <th>98</th>\n",
       "      <td>2020</td>\n",
       "      <td>Océan indien</td>\n",
       "      <td>Mayotte</td>\n",
       "      <td>976</td>\n",
       "      <td>Mayotte</td>\n",
       "      <td>C</td>\n",
       "      <td>120</td>\n",
       "      <td>0.0</td>\n",
       "      <td>0.0</td>\n",
       "      <td>0.0</td>\n",
       "      <td>...</td>\n",
       "      <td>0</td>\n",
       "      <td>19.0</td>\n",
       "      <td>0.0</td>\n",
       "      <td>0</td>\n",
       "      <td>0</td>\n",
       "      <td>0.0</td>\n",
       "      <td>0</td>\n",
       "      <td>19</td>\n",
       "      <td>73</td>\n",
       "      <td>14 420</td>\n",
       "    </tr>\n",
       "  </tbody>\n",
       "</table>\n",
       "<p>198 rows × 71 columns</p>\n",
       "</div>"
      ],
      "text/plain": [
       "    Année           Zone                      Région Numéro       Département  \\\n",
       "0    2019            Sud  Provence-Alpes-Côte d'Azur   BMPM  Bouches-du-Rhône   \n",
       "1    2019  Île-de-France               Île-de-France   BSPP             Paris   \n",
       "2    2019        Sud-est        Auvergne-Rhône-Alpes      1               Ain   \n",
       "3    2019           Nord             Hauts-de-France      2             Aisne   \n",
       "4    2019        Sud-est        Auvergne-Rhône-Alpes      3            Allier   \n",
       "..    ...            ...                         ...    ...               ...   \n",
       "94   2020       Antilles                  Guadeloupe    971        Guadeloupe   \n",
       "95   2020       Antilles                  Martinique    972        Martinique   \n",
       "96   2020         Guyane                      Guyane    973            Guyane   \n",
       "97   2020   Océan indien                  La Réunion    974           Réunion   \n",
       "98   2020   Océan indien                     Mayotte    976           Mayotte   \n",
       "\n",
       "   Catégorie A Feux d'habitations-bureaux  dont feux de cheminées  \\\n",
       "0          NaN                        760                    18.0   \n",
       "1          NaN                      3 917                    48.0   \n",
       "2            B                        560                   235.0   \n",
       "3            B                        907                   354.0   \n",
       "4            C                        483                   242.0   \n",
       "..         ...                        ...                     ...   \n",
       "94           B                        252                     0.0   \n",
       "95           C                        162                     0.0   \n",
       "96           C                         64                     0.0   \n",
       "97           B                        634                     0.0   \n",
       "98           C                        120                     0.0   \n",
       "\n",
       "    Feux d'ERP avec local à sommeil  Feux d'ERP sans local à sommeil  ...  \\\n",
       "0                              44.0                            164.0  ...   \n",
       "1                             135.0                            607.0  ...   \n",
       "2                               0.0                             71.0  ...   \n",
       "3                              25.0                             38.0  ...   \n",
       "4                               7.0                             24.0  ...   \n",
       "..                              ...                              ...  ...   \n",
       "94                              4.0                             30.0  ...   \n",
       "95                              6.0                             11.0  ...   \n",
       "96                              5.0                              7.0  ...   \n",
       "97                              8.0                             60.0  ...   \n",
       "98                              0.0                              0.0  ...   \n",
       "\n",
       "    Dégagements de voies publiques  Nettoyages de voies publiques  \\\n",
       "0                              728                          150.0   \n",
       "1                               32                          204.0   \n",
       "2                              140                          449.0   \n",
       "3                               39                            1.0   \n",
       "4                              238                           37.0   \n",
       "..                             ...                            ...   \n",
       "94                               0                           18.0   \n",
       "95                              97                            0.0   \n",
       "96                               0                            0.0   \n",
       "97                              79                            0.0   \n",
       "98                               0                           19.0   \n",
       "\n",
       "    Éboulements Déposes d'objets Piquets de sécurité - surveillances  \\\n",
       "0          15.0                0                               1 718   \n",
       "1          32.0            1 006                                   1   \n",
       "2          24.0              122                                   0   \n",
       "3           6.0              172                                   0   \n",
       "4           0.0               97                                  38   \n",
       "..          ...              ...                                 ...   \n",
       "94          0.0                0                                   0   \n",
       "95         10.0                0                                   0   \n",
       "96          0.0                0                                   0   \n",
       "97          6.0                0                                   0   \n",
       "98          0.0                0                                   0   \n",
       "\n",
       "   Engins explosifs Autres opérations diverses  Divers Opérations diverses  \\\n",
       "0              42.0                        799   7 877              12 279   \n",
       "1              19.0                     16 784  21 323              24 983   \n",
       "2               2.0                        692   2 912               3 755   \n",
       "3               1.0                        152   1 162               2 025   \n",
       "4               0.0                        505   1 110               2 591   \n",
       "..              ...                        ...     ...                 ...   \n",
       "94              0.0                         52     218                 422   \n",
       "95              1.0                      2 102   2 332               2 434   \n",
       "96              0.0                        641   1 948               2 075   \n",
       "97              5.0                          0     425                 641   \n",
       "98              0.0                          0      19                  73   \n",
       "\n",
       "   Total interventions  \n",
       "0              123 863  \n",
       "1              507 258  \n",
       "2               43 481  \n",
       "3               40 506  \n",
       "4               28 619  \n",
       "..                 ...  \n",
       "94              36 471  \n",
       "95              30 627  \n",
       "96              17 470  \n",
       "97              46 173  \n",
       "98              14 420  \n",
       "\n",
       "[198 rows x 71 columns]"
      ]
     },
     "execution_count": 412,
     "metadata": {},
     "output_type": "execute_result"
    }
   ],
   "source": [
    "# Dataframe concatenation\n",
    "inter_2019 = pd.read_csv(\"data/interventions2019.csv\", sep=\";\", encoding='latin-1')\n",
    "pd.concat([inter_2019, inter_2020], axis=0)"
   ]
  },
  {
   "cell_type": "code",
   "execution_count": 417,
   "id": "4398ef47",
   "metadata": {},
   "outputs": [],
   "source": [
    "# Merge dataframe\n",
    "inter_2020 = inter_2020[[\"Numéro\",\"Feux de végétations\"]].rename(columns={\"Feux de végétations\" : \"fdf2020\"})\n",
    "inter_2019 = inter_2019[[\"Numéro\",\"Feux de végétations\"]].rename(columns={\"Feux de végétations\" : \"fdf2019\"})\n",
    "fdfperyear = pd.merge(inter_2020, inter_2019, on = \"Numéro\")"
   ]
  },
  {
   "cell_type": "code",
   "execution_count": 418,
   "id": "be2b9fb1",
   "metadata": {},
   "outputs": [],
   "source": [
    "# Save a dataset\n",
    "fdfperyear.to_csv(\"data/fdf.csv\")"
   ]
  },
  {
   "cell_type": "markdown",
   "id": "cf4bfa3a",
   "metadata": {},
   "source": [
    "## Numpy"
   ]
  },
  {
   "cell_type": "code",
   "execution_count": 419,
   "id": "b51f8d96",
   "metadata": {},
   "outputs": [],
   "source": [
    "import numpy as np"
   ]
  },
  {
   "cell_type": "code",
   "execution_count": 423,
   "id": "69ef9d83",
   "metadata": {},
   "outputs": [
    {
     "name": "stdout",
     "output_type": "stream",
     "text": [
      "[1. 2. 3. 4.]\n",
      "First element : 1.0\n"
     ]
    }
   ],
   "source": [
    "# One dimension array (float element)\n",
    "import numpy as np\n",
    "\n",
    "tab = np.array([1, 2, 3, 4], float)\n",
    "print(tab)\n",
    "print(\"First element :\", tab[0])"
   ]
  },
  {
   "cell_type": "code",
   "execution_count": 424,
   "id": "b1345dda",
   "metadata": {},
   "outputs": [
    {
     "name": "stdout",
     "output_type": "stream",
     "text": [
      "[[1 2 3]\n",
      " [4 5 6]\n",
      " [7 8 9]]\n",
      "Element [2,1] 8\n"
     ]
    }
   ],
   "source": [
    "# Two dimensionn array (int element)\n",
    "tab = np.array([[1, 2, 3], [4, 5, 6], [7, 8, 9]], int)  # Dimension = 2\n",
    "\n",
    "print(tab)\n",
    "print(\"Element [2,1]\", tab[2, 1])"
   ]
  },
  {
   "cell_type": "code",
   "execution_count": 425,
   "id": "0d6b6cc4",
   "metadata": {},
   "outputs": [
    {
     "name": "stdout",
     "output_type": "stream",
     "text": [
      "[[[1 2]\n",
      "  [3 4]]\n",
      "\n",
      " [[5 6]\n",
      "  [7 8]]]\n",
      "Element [1,0,1] : 6\n"
     ]
    }
   ],
   "source": [
    "# three dimension array\n",
    "tab = np.array([[[1, 2], [3, 4]], [[5, 6], [7, 8]]])  # Dimension = 3\n",
    "print(tab)\n",
    "print(\"Element [1,0,1] :\", tab[1, 0, 1])"
   ]
  },
  {
   "cell_type": "code",
   "execution_count": 426,
   "id": "5e544dec",
   "metadata": {},
   "outputs": [
    {
     "name": "stdout",
     "output_type": "stream",
     "text": [
      "[1 3 5]\n",
      "[2 5 8]\n",
      "[1 2 3 4 5]\n",
      "[1 2 3 4 5]\n",
      "9\n"
     ]
    }
   ],
   "source": [
    "# Slicing\n",
    "a = np.array([1, 2, 3, 4, 5, 6, 7, 8, 9], int)\n",
    "print(a[0:6:2])\n",
    "print(a[1::3])\n",
    "print(a[0:5])\n",
    "print(a[:5])\n",
    "print(a[-1])"
   ]
  },
  {
   "cell_type": "code",
   "execution_count": 430,
   "id": "65998c98",
   "metadata": {},
   "outputs": [
    {
     "name": "stdout",
     "output_type": "stream",
     "text": [
      "[10.  2.  3.  4.]\n",
      "[1. 2. 3. 4.]\n"
     ]
    }
   ],
   "source": [
    "# Table copy\n",
    "tab = np.array([1, 2, 3, 4], float)\n",
    "tab2 = tab\n",
    "tab2[0] = 10\n",
    "print(tab)\n",
    "\n",
    "tab = np.array([1, 2, 3, 4], float)\n",
    "tab3 = tab.copy()\n",
    "tab3[0] = 10\n",
    "print(tab)"
   ]
  },
  {
   "cell_type": "code",
   "execution_count": 437,
   "id": "b5569dc0",
   "metadata": {},
   "outputs": [
    {
     "name": "stdout",
     "output_type": "stream",
     "text": [
      "[0 1 2 3 4 5 6 7 8 9]\n",
      "[0. 1. 2. 3. 4. 5. 6. 7. 8. 9.]\n",
      "[0. 1. 2. 3. 4. 5. 6. 7. 8. 9.]\n",
      "[1.  1.2 1.4 1.6 1.8 2.  2.2 2.4 2.6 2.8]\n",
      "[ 1.  2.  3.  4.  5.  6.  7.  8.  9. 10.]\n"
     ]
    },
    {
     "name": "stderr",
     "output_type": "stream",
     "text": [
      "/var/folders/wl/1m9_861918g7cf48d1bj0rm80000gn/T/ipykernel_82799/2510316077.py:6: DeprecationWarning: `np.float` is a deprecated alias for the builtin `float`. To silence this warning, use `float` by itself. Doing this will not modify any behavior and is safe. If you specifically wanted the numpy scalar type, use `np.float64` here.\n",
      "Deprecated in NumPy 1.20; for more details and guidance: https://numpy.org/devdocs/release/1.20.0-notes.html#deprecations\n",
      "  a = np.arange(10, dtype=np.float)\n"
     ]
    }
   ],
   "source": [
    "# Arange function (exclude last element)\n",
    "a = np.arange(10)\n",
    "print(a)\n",
    "\n",
    "# Detail the type\n",
    "a = np.arange(10, dtype=np.float)\n",
    "print(a)\n",
    "\n",
    "a = np.arange(10.0)\n",
    "print(a)\n",
    "\n",
    "# Detail the first element\n",
    "a = np.arange(1, 3, 0.2)\n",
    "print(a)\n",
    "\n",
    "# To avoid last element exclusion : linspace (last arg : nbr of point)\n",
    "a = np.linspace(1, 10, 10)\n",
    "print(a)"
   ]
  },
  {
   "cell_type": "code",
   "execution_count": 439,
   "id": "f1a3372e",
   "metadata": {},
   "outputs": [
    {
     "name": "stdout",
     "output_type": "stream",
     "text": [
      "[1.00000000e+00 1.26185688e+00 1.59228279e+00 2.00923300e+00\n",
      " 2.53536449e+00 3.19926714e+00 4.03701726e+00 5.09413801e+00\n",
      " 6.42807312e+00 8.11130831e+00 1.02353102e+01 1.29154967e+01\n",
      " 1.62975083e+01 2.05651231e+01 2.59502421e+01 3.27454916e+01\n",
      " 4.13201240e+01 5.21400829e+01 6.57933225e+01 8.30217568e+01\n",
      " 1.04761575e+02 1.32194115e+02 1.66810054e+02 2.10490414e+02\n",
      " 2.65608778e+02 3.35160265e+02 4.22924287e+02 5.33669923e+02\n",
      " 6.73415066e+02 8.49753436e+02 1.07226722e+03 1.35304777e+03\n",
      " 1.70735265e+03 2.15443469e+03 2.71858824e+03 3.43046929e+03\n",
      " 4.32876128e+03 5.46227722e+03 6.89261210e+03 8.69749003e+03\n",
      " 1.09749877e+04 1.38488637e+04 1.74752840e+04 2.20513074e+04\n",
      " 2.78255940e+04 3.51119173e+04 4.43062146e+04 5.59081018e+04\n",
      " 7.05480231e+04 8.90215085e+04 1.12332403e+05 1.41747416e+05\n",
      " 1.78864953e+05 2.25701972e+05 2.84803587e+05 3.59381366e+05\n",
      " 4.53487851e+05 5.72236766e+05 7.22080902e+05 9.11162756e+05\n",
      " 1.14975700e+06 1.45082878e+06 1.83073828e+06 2.31012970e+06\n",
      " 2.91505306e+06 3.67837977e+06 4.64158883e+06 5.85702082e+06\n",
      " 7.39072203e+06 9.32603347e+06 1.17681195e+07 1.48496826e+07\n",
      " 1.87381742e+07 2.36448941e+07 2.98364724e+07 3.76493581e+07\n",
      " 4.75081016e+07 5.99484250e+07 7.56463328e+07 9.54548457e+07\n",
      " 1.20450354e+08 1.51991108e+08 1.91791026e+08 2.42012826e+08\n",
      " 3.05385551e+08 3.85352859e+08 4.86260158e+08 6.13590727e+08\n",
      " 7.74263683e+08 9.77009957e+08 1.23284674e+09 1.55567614e+09\n",
      " 1.96304065e+09 2.47707636e+09 3.12571585e+09 3.94420606e+09\n",
      " 4.97702356e+09 6.28029144e+09 7.92482898e+09 1.00000000e+10]\n"
     ]
    }
   ],
   "source": [
    "# log space\n",
    "a = np.logspace(0, 10, 100)\n",
    "print(a)"
   ]
  },
  {
   "cell_type": "code",
   "execution_count": 440,
   "id": "e07f6c90",
   "metadata": {},
   "outputs": [
    {
     "name": "stdout",
     "output_type": "stream",
     "text": [
      "[0 1 2 3 4 5 6 7]\n",
      "[[0 1 2 3]\n",
      " [4 5 6 7]]\n",
      "[[0 1]\n",
      " [2 3]\n",
      " [4 5]\n",
      " [6 7]]\n"
     ]
    }
   ],
   "source": [
    "### Reshape\n",
    "# Create an array\n",
    "a = np.arange(8)\n",
    "print(a)\n",
    "\n",
    "# Transform into a 2 lines and 4 columns array\n",
    "b = a.reshape(2, 4)\n",
    "print(b)\n",
    "\n",
    "# Transform into a 4 lines and 2 columns array\n",
    "c = a.reshape(4, 2)\n",
    "print(c)"
   ]
  },
  {
   "cell_type": "code",
   "execution_count": 443,
   "id": "83162f45",
   "metadata": {},
   "outputs": [
    {
     "name": "stdout",
     "output_type": "stream",
     "text": [
      "[[0 1]\n",
      " [2 3]\n",
      " [4 5]\n",
      " [6 7]]\n",
      "[0 1 2 3 4 5 6 7]\n",
      "[0 1 2 3 4 5 6 7]\n",
      "[[0 2 4 6]\n",
      " [1 3 5 7]]\n"
     ]
    }
   ],
   "source": [
    "### Flatten and transpose\n",
    "a = np.arange(8).reshape(4, 2)\n",
    "print(a)\n",
    "\n",
    "# Flatten an array\n",
    "b = a.ravel()\n",
    "print(b)\n",
    "c = a.flatten()\n",
    "print(c)\n",
    "\n",
    "# Transpose\n",
    "print(a.transpose())"
   ]
  },
  {
   "cell_type": "code",
   "execution_count": 446,
   "id": "fd595ab9",
   "metadata": {},
   "outputs": [
    {
     "name": "stdout",
     "output_type": "stream",
     "text": [
      "3.141592653589793\n",
      "2.718281828459045\n",
      "nan\n",
      "inf\n",
      "inf\n",
      "-inf\n",
      "0.0\n",
      "-0.0\n"
     ]
    }
   ],
   "source": [
    "### Key figures\n",
    "print(np.pi)\n",
    "print(np.e)\n",
    "print(np.NAN) \n",
    "print(np.inf)\n",
    "print(np.PINF)\n",
    "print(np.NINF)\n",
    "print(np.PZERO)\n",
    "print(np.NZERO)"
   ]
  },
  {
   "cell_type": "code",
   "execution_count": 448,
   "id": "cfdf7be9",
   "metadata": {},
   "outputs": [
    {
     "name": "stdout",
     "output_type": "stream",
     "text": [
      "[0 1 2 3 4 5 6 7 8 9]\n",
      "[1. 1. 1. 1. 1. 1. 1. 1. 1. 1.]\n",
      "[ 1.  2.  3.  4.  5.  6.  7.  8.  9. 10.]\n",
      "[2. 2. 2. 2. 2. 2. 2. 2. 2. 2.]\n",
      "[ 0  3  6  9 12 15 18 21 24 27]\n"
     ]
    }
   ],
   "source": [
    "# Operation with arrays\n",
    "a = np.arange(10)\n",
    "b = np.ones(10) \n",
    "print(a)\n",
    "print(b)\n",
    "\n",
    "print(a+b)\n",
    "print(1+b)\n",
    "print(3*a)"
   ]
  },
  {
   "cell_type": "code",
   "execution_count": 451,
   "id": "feeded90",
   "metadata": {},
   "outputs": [
    {
     "name": "stdout",
     "output_type": "stream",
     "text": [
      "[[0 1 2]\n",
      " [3 4 5]\n",
      " [6 7 8]]\n",
      "[[1. 0. 0.]\n",
      " [0. 1. 0.]\n",
      " [0. 0. 1.]]\n",
      "[[0. 0. 0.]\n",
      " [0. 4. 0.]\n",
      " [0. 0. 8.]]\n"
     ]
    }
   ],
   "source": [
    "# play with diags\n",
    "m = np.arange(9).reshape(3, 3)\n",
    "print(m)\n",
    "\n",
    "v = np.ones(3)\n",
    "diag = np.diag(v)\n",
    "print(diag)\n",
    "\n",
    "print(m*diag)"
   ]
  },
  {
   "cell_type": "code",
   "execution_count": 458,
   "id": "2eb9774b",
   "metadata": {},
   "outputs": [
    {
     "name": "stdout",
     "output_type": "stream",
     "text": [
      "913\n",
      "1734407763125682176\n",
      "[ 34  41  83 143 190 243 244 289 309 377 474 479 553 596 636 723 798 840\n",
      " 902 913]\n"
     ]
    }
   ],
   "source": [
    "# Sum and prod\n",
    "a = np.random.randint(0, 100, 20)\n",
    "print(np.sum(a))\n",
    "print(np.prod(a))\n",
    "print(np.cumsum(a))"
   ]
  },
  {
   "cell_type": "code",
   "execution_count": 457,
   "id": "9abe33a7",
   "metadata": {},
   "outputs": [
    {
     "name": "stdout",
     "output_type": "stream",
     "text": [
      "[  5 -14   7   9 -12  22  16 -25   2 -14  58 -35  53 -76  -1  76 -73  50\n",
      " -17]\n"
     ]
    }
   ],
   "source": [
    "# Difference and  other operation\n",
    "print(np.diff(a))\n",
    "#np.mean(array)\n",
    "#np.std(array)\n",
    "#np.cos(array)\n",
    "#np.sin(array)\n",
    "#np.tan(array)\n",
    "#np.arccos(array)\n",
    "#np.arcsin(array)\n",
    "#np.arctan(array)\n",
    "#np.degrees(array) ou np.rad2deg(array) conversion de radian en degré\n",
    "#np.radians(array) ou np.deg2rad(array) conversion de degrée en radian\n",
    "#np.exp(array)\n",
    "#np.log(array) logarithme naturel\n",
    "#np.log2(array) logarithme base 2\n",
    "#np.log10(array) logarithme base 10\n",
    "#np.sqrt(array)"
   ]
  },
  {
   "cell_type": "code",
   "execution_count": 460,
   "id": "9b178213",
   "metadata": {},
   "outputs": [
    {
     "data": {
      "text/plain": [
       "array([0, 0, 0, 1, 0, 1, 0, 0, 0, 1, 1, 0, 1, 0, 0, 1, 1, 0, 1, 0])"
      ]
     },
     "execution_count": 460,
     "metadata": {},
     "output_type": "execute_result"
    }
   ],
   "source": [
    "# Search with condition\n",
    "np.where(a>50, 1,0)"
   ]
  },
  {
   "cell_type": "code",
   "execution_count": 461,
   "id": "c6f2affb",
   "metadata": {},
   "outputs": [
    {
     "name": "stdout",
     "output_type": "stream",
     "text": [
      "[[[1 2]\n",
      "  [3 4]]\n",
      "\n",
      " [[5 6]\n",
      "  [7 8]]]\n",
      "[[1 2 5 6]\n",
      " [3 4 7 8]]\n",
      "[[1 2]\n",
      " [3 4]\n",
      " [5 6]\n",
      " [7 8]]\n"
     ]
    }
   ],
   "source": [
    "# Array stacking\n",
    "a = np.array([[1, 2], [3, 4]])\n",
    "b = np.array([[5, 6], [7, 8]])\n",
    "\n",
    "# stack according a new axis\n",
    "c = np.stack((a, b))\n",
    "print(c)\n",
    "\n",
    "# Stack horizontally\n",
    "c = np.hstack((a, b))\n",
    "print(c)\n",
    "\n",
    "# Stack Vertically\n",
    "c = np.vstack((a, b))\n",
    "print(c)"
   ]
  },
  {
   "cell_type": "markdown",
   "id": "7f1dc50b",
   "metadata": {},
   "source": [
    "## Matplotlib"
   ]
  },
  {
   "cell_type": "code",
   "execution_count": 497,
   "id": "b8169151",
   "metadata": {},
   "outputs": [],
   "source": [
    "inter_2020 = pd.read_csv(\"data/interventions2020.csv\", sep=\";\", encoding='latin-1')"
   ]
  },
  {
   "cell_type": "code",
   "execution_count": 498,
   "id": "7e54806c",
   "metadata": {},
   "outputs": [
    {
     "data": {
      "image/png": "[encoded data removed]",
      "text/plain": [
       "<Figure size 432x288 with 1 Axes>"
      ]
     },
     "metadata": {
      "needs_background": "light"
     },
     "output_type": "display_data"
    }
   ],
   "source": [
    "import seaborn as sns\n",
    "import matplotlib.pyplot as plt\n",
    "\n",
    "inter_2020['Malaises à domicile : urgence vitale'] = inter_2020['Malaises à domicile : urgence vitale'].str.replace(\" \", \"\").astype(float)\n",
    "inter_2020['Malaises à domicile : carence'] = inter_2020['Malaises à domicile : carence'].str.replace(\" \", \"\").astype(float)\n",
    "plt.scatter(x=inter_2020['Malaises à domicile : urgence vitale'].astype(float),\n",
    "            y=inter_2020['Malaises à domicile : carence'].astype(float))\n",
    "plt.show()"
   ]
  },
  {
   "cell_type": "code",
   "execution_count": 499,
   "id": "d7dffb5d",
   "metadata": {},
   "outputs": [
    {
     "data": {
      "image/png": "[encoded data removed]",
      "text/plain": [
       "<Figure size 432x288 with 1 Axes>"
      ]
     },
     "metadata": {
      "needs_background": "light"
     },
     "output_type": "display_data"
    }
   ],
   "source": [
    "plt.scatter(x=inter_2020['Malaises à domicile : urgence vitale'],\n",
    "            y=inter_2020['Malaises à domicile : carence'])\n",
    "plt.title(\"Urgences vs Carences\")\n",
    "plt.ylabel(\"Carences\")\n",
    "plt.xlabel(\"Urgences\")\n",
    "plt.show()\n"
   ]
  },
  {
   "cell_type": "code",
   "execution_count": 500,
   "id": "038ff59e",
   "metadata": {},
   "outputs": [
    {
     "data": {
      "image/png": "[encoded data removed]",
      "text/plain": [
       "<Figure size 9000x4500 with 1 Axes>"
      ]
     },
     "metadata": {
      "needs_background": "light"
     },
     "output_type": "display_data"
    }
   ],
   "source": [
    "from matplotlib.pyplot import figure\n",
    "\n",
    "figure(figsize=(30, 15), dpi=300)\n",
    "plt.scatter(x=inter_2020['Malaises à domicile : urgence vitale'],\n",
    "            y=inter_2020['Malaises à domicile : carence'])\n",
    "plt.title(\"Urgences vs Carences\")\n",
    "plt.ylabel(\"Carences\")\n",
    "plt.xlabel(\"Urgences\")\n",
    "plt.show()\n",
    "\n"
   ]
  },
  {
   "cell_type": "code",
   "execution_count": 504,
   "id": "15f508c6",
   "metadata": {},
   "outputs": [
    {
     "data": {
      "image/png": "[encoded data removed]",
      "text/plain": [
       "<Figure size 9000x4500 with 1 Axes>"
      ]
     },
     "metadata": {
      "needs_background": "light"
     },
     "output_type": "display_data"
    }
   ],
   "source": [
    "from matplotlib.pyplot import figure\n",
    "\n",
    "figure(figsize=(30, 15), dpi=300)\n",
    "plt.scatter(x=inter_2020['Malaises à domicile : urgence vitale'],\n",
    "            y=inter_2020['Malaises à domicile : carence'], \n",
    "           marker=\"+\", \n",
    "           c = \"red\")\n",
    "plt.title(\"Urgences vs Carences\")\n",
    "plt.ylabel(\"Carences\")\n",
    "plt.xlabel(\"Urgences\")\n",
    "plt.show()\n"
   ]
  },
  {
   "cell_type": "markdown",
   "id": "824c1afe",
   "metadata": {},
   "source": [
    "# Regex"
   ]
  },
  {
   "cell_type": "code",
   "execution_count": 9,
   "id": "c71450ca",
   "metadata": {},
   "outputs": [
    {
     "name": "stdout",
     "output_type": "stream",
     "text": [
      "<re.Match object; span=(0, 32), match='All best students come from AMSE'>\n",
      "['best']\n",
      "The first white-space character is located in position: 3\n",
      "['All', 'best', 'students', 'come', 'from', 'AMSE']\n",
      "['All', 'best students come from AMSE']\n",
      "All9best9students9come9from9AMSE\n",
      "All9best9students come from AMSE\n",
      "AMSE\n"
     ]
    },
    {
     "data": {
      "text/plain": [
       "'amse@gmail.com'"
      ]
     },
     "execution_count": 9,
     "metadata": {},
     "output_type": "execute_result"
    }
   ],
   "source": [
    "import re\n",
    "\n",
    "### Search if the text starts by All and ends with AMSE\n",
    "txt = \"All best students come from AMSE\"\n",
    "x = re.search(\"^All.*AMSE$\", txt)\n",
    "print(x)\n",
    "\n",
    "### List all \"best\" in the sentence\n",
    "txt = \"All best students come from AMSE\"\n",
    "x = re.findall(\"best\", txt)\n",
    "print(x)\n",
    "\n",
    "### Find the first whitespace\n",
    "txt = \"All best students come from AMSE\"\n",
    "x = re.search(\"\\s\", txt)\n",
    "print(\"The first white-space character is located in position:\", x.start())\n",
    "\n",
    "### Split the text by whitespace\n",
    "txt = \"All best students come from AMSE\"\n",
    "x = re.split(\"\\s\", txt)\n",
    "print(x)\n",
    "\n",
    "### Split only by the first whitespace\n",
    "txt = \"All best students come from AMSE\"\n",
    "x = re.split(\"\\s\", txt, 1)\n",
    "print(x)\n",
    "\n",
    "### Replace whitespaces by 9\n",
    "txt = \"All best students come from AMSE\"\n",
    "x = re.sub(\"\\s\", \"9\", txt)\n",
    "print(x)\n",
    "\n",
    "### Replace the 2 first whitespaces by 9\n",
    "txt = \"All best students come from AMSE\"\n",
    "x = re.sub(\"\\s\", \"9\", txt, 2)\n",
    "print(x)\n",
    "\n",
    "### Extract words containing 'AM'\n",
    "txt =  \"All best students come from AMSE\"\n",
    "x = re.search(r\"\\bAM\\w+\", txt)\n",
    "print(x.group())\n",
    "\n",
    "### Extract mail adress\n",
    "txt = \"My email is amse@gmail.com\"\n",
    "match = re.search(r'[\\w.+-]+@[\\w-]+\\.[\\w.-]+', txt)\n",
    "match.group(0)"
   ]
  },
  {
   "cell_type": "code",
   "execution_count": 2,
   "id": "485c91dc",
   "metadata": {},
   "outputs": [],
   "source": [
    "import pandas as pd\n",
    "a = pd.read_csv(\"data/btc.csv\")\n",
    "a.to_excel(\"btc.xlsx\")"
   ]
  },
  {
   "cell_type": "code",
   "execution_count": null,
   "id": "f0624412",
   "metadata": {},
   "outputs": [],
   "source": []
  }
 ],
 "metadata": {
  "kernelspec": {
   "display_name": "Python 3 (ipykernel)",
   "language": "python",
   "name": "python3"
  },
  "language_info": {
   "codemirror_mode": {
    "name": "ipython",
    "version": 3
   },
   "file_extension": ".py",
   "mimetype": "text/x-python",
   "name": "python",
   "nbconvert_exporter": "python",
   "pygments_lexer": "ipython3",
   "version": "3.9.12"
  }
 },
 "nbformat": 4,
 "nbformat_minor": 5
}
