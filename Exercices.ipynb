{
 "cells": [
  {
   "cell_type": "markdown",
   "id": "c9bd6219",
   "metadata": {},
   "source": [
    "### Exercise 1 : command line"
   ]
  },
  {
   "cell_type": "markdown",
   "id": "5cf5bbdb",
   "metadata": {},
   "source": [
    "    *Exercise 1.1 :\n",
    "    Create a .py file allowing to print \"Welcome in Marseille\" with a command line in the terminal (test it in the terminal)"
   ]
  },
  {
   "cell_type": "code",
   "execution_count": null,
   "id": "5553f2ff",
   "metadata": {},
   "outputs": [],
   "source": []
  },
  {
   "cell_type": "markdown",
   "id": "b2d3a39e",
   "metadata": {},
   "source": [
    "    *Exercise 1.2 :\n",
    "    Execute this command line in jupyter notebook from 2 different manners"
   ]
  },
  {
   "cell_type": "code",
   "execution_count": null,
   "id": "74367d10",
   "metadata": {},
   "outputs": [],
   "source": []
  },
  {
   "cell_type": "markdown",
   "id": "9cc673ed",
   "metadata": {},
   "source": [
    "### Exercise 2 : variables"
   ]
  },
  {
   "cell_type": "markdown",
   "id": "81635960",
   "metadata": {},
   "source": [
    "    *Exercise 2.1 :\n",
    "    Create 4 variables : an integer, a float, a boolean and a string and check the type of each variable"
   ]
  },
  {
   "cell_type": "code",
   "execution_count": null,
   "id": "6ceaf079",
   "metadata": {},
   "outputs": [],
   "source": []
  },
  {
   "cell_type": "markdown",
   "id": "1ffbb3a2",
   "metadata": {},
   "source": [
    "    *Exercise 2.2 : \n",
    "    Convert the string the integer into a float variable and the float into a string (check if it works)"
   ]
  },
  {
   "cell_type": "code",
   "execution_count": null,
   "id": "8a496d9c",
   "metadata": {},
   "outputs": [],
   "source": []
  },
  {
   "cell_type": "markdown",
   "id": "c7c87efb",
   "metadata": {},
   "source": [
    "    Exercise 2.3 : create mathematical formula\n",
    "    - First formula : density function for uniform distribution\n",
    "    - Second formula : (b2 - 4ac) \n",
    "    - Third formula : Pythagore theorem "
   ]
  },
  {
   "cell_type": "code",
   "execution_count": null,
   "id": "4daaae0f",
   "metadata": {},
   "outputs": [],
   "source": []
  },
  {
   "cell_type": "markdown",
   "id": "e639b10b",
   "metadata": {},
   "source": [
    "### Exercise 3 : print"
   ]
  },
  {
   "cell_type": "markdown",
   "id": "ef46d082",
   "metadata": {},
   "source": [
    "    *Exercise  3.1 : \n",
    "    create 4 variables containing your name, age, height (in m) and expected job, and then present yourself with the 3 print methods. Choose the right value type"
   ]
  },
  {
   "cell_type": "code",
   "execution_count": null,
   "id": "af92da1b",
   "metadata": {},
   "outputs": [],
   "source": []
  },
  {
   "cell_type": "markdown",
   "id": "f6bd65da",
   "metadata": {},
   "source": [
    "    *Exercise 3.2 : \n",
    "    Create a distance variable containing the distance between the earth and the luna in km. Then print a sentence containing this information in miles. Using the deprecated method"
   ]
  },
  {
   "cell_type": "code",
   "execution_count": null,
   "id": "4f732712",
   "metadata": {},
   "outputs": [],
   "source": []
  },
  {
   "cell_type": "markdown",
   "id": "d19089b0",
   "metadata": {},
   "source": [
    "    Exercise 3.3 : \n",
    "- print the following poema respecting spaces and breaks using a unique print function (https://www.poetica.fr/poeme-1824/paul-verlaine-chanson-automne/)\n",
    "- Then insert a variable allowing to change the author name and using the f print method"
   ]
  },
  {
   "cell_type": "code",
   "execution_count": null,
   "id": "64c68a3a",
   "metadata": {},
   "outputs": [],
   "source": []
  },
  {
   "cell_type": "markdown",
   "id": "f83dd82b",
   "metadata": {},
   "source": [
    "### Exercise 4 : list"
   ]
  },
  {
   "cell_type": "markdown",
   "id": "b188c27a",
   "metadata": {},
   "source": [
    "    Exercise 4.1 : \n",
    "    Create a list with the 10 first prime numbers, then reverse the list using a \"for loop\""
   ]
  },
  {
   "cell_type": "code",
   "execution_count": null,
   "id": "040c60a7",
   "metadata": {},
   "outputs": [],
   "source": []
  },
  {
   "cell_type": "markdown",
   "id": "7737a9bb",
   "metadata": {},
   "source": [
    "    *Exercise 4.2 :\n",
    "        Create a list of 10 random numbers, then multiply the 2 lists together. Then, print the sum, the max and the min of this new list"
   ]
  },
  {
   "cell_type": "code",
   "execution_count": null,
   "id": "8fe006fc",
   "metadata": {},
   "outputs": [],
   "source": []
  },
  {
   "cell_type": "markdown",
   "id": "17cd3b0a",
   "metadata": {},
   "source": [
    "    Exercise 4.3 : \n",
    "    With a for loop, create a list of 5 lists containing 10 random numbers. Then print the min and the max of each list"
   ]
  },
  {
   "cell_type": "code",
   "execution_count": null,
   "id": "8737597c",
   "metadata": {},
   "outputs": [],
   "source": []
  },
  {
   "cell_type": "markdown",
   "id": "892f832a",
   "metadata": {},
   "source": [
    "    *Exercise 4.4 :\n",
    "    - Create a list containing the 5 biggest french cities\n",
    "    - Then create a list of lists containing the french cities lists and add a spanish cities list\n",
    "    - Finally concatenat those 2 lists into a unique list"
   ]
  },
  {
   "cell_type": "code",
   "execution_count": null,
   "id": "7f63050f",
   "metadata": {},
   "outputs": [],
   "source": []
  },
  {
   "cell_type": "markdown",
   "id": "0e8253d9",
   "metadata": {},
   "source": [
    "    *Exercise 4.5 :\n",
    "    - In the french cities list, insert \"Aix en Provence\" in the 1st position and remove Marseille from the list.\n",
    "    - Then add your favorite city at the end of the list\n",
    "    - Convert into a tuple to put it unchangeable and print the length of tuple"
   ]
  },
  {
   "cell_type": "code",
   "execution_count": null,
   "id": "cfe624ee",
   "metadata": {},
   "outputs": [],
   "source": []
  },
  {
   "cell_type": "markdown",
   "id": "96a9eaf3",
   "metadata": {},
   "source": [
    "### *Exercise 5 : loops"
   ]
  },
  {
   "cell_type": "markdown",
   "id": "0a59a1a9",
   "metadata": {},
   "source": [
    "    *Exercise 5.1 : \n",
    "        - Create a sequence of temperatures in celsuis degree from 0 to 100\n",
    "        - With a for loop, convert it in Fahrenheit ans store the results in a list"
   ]
  },
  {
   "cell_type": "code",
   "execution_count": null,
   "id": "8de427c6",
   "metadata": {},
   "outputs": [],
   "source": []
  },
  {
   "cell_type": "markdown",
   "id": "a2b4ee0e",
   "metadata": {},
   "source": [
    "    Exercise 5.2 : \n",
    "    - Create a list containing months of a year\n",
    "    - With a for loop, check which month is in summer (if else statement is forbidden)"
   ]
  },
  {
   "cell_type": "code",
   "execution_count": null,
   "id": "b53fec72",
   "metadata": {},
   "outputs": [],
   "source": []
  },
  {
   "cell_type": "markdown",
   "id": "bc1e1c9a",
   "metadata": {},
   "source": [
    "    Exercise 5.3 :\n",
    "    Assuming all years have 365 days, print the timestamp for each 1st January from the 01/01/1970 to now"
   ]
  },
  {
   "cell_type": "code",
   "execution_count": null,
   "id": "e5ba6388",
   "metadata": {},
   "outputs": [],
   "source": []
  },
  {
   "cell_type": "markdown",
   "id": "ea5d7c04",
   "metadata": {},
   "source": [
    "    *Exercise 5.4 :\n",
    "    Generate random number between 0 and 10 until you got five 0's.\n",
    "    Please store the iteration number when those zeros are generated"
   ]
  },
  {
   "cell_type": "code",
   "execution_count": null,
   "id": "906e566e",
   "metadata": {},
   "outputs": [],
   "source": []
  },
  {
   "cell_type": "markdown",
   "id": "75e92bc3",
   "metadata": {},
   "source": [
    "### Exercise 6"
   ]
  },
  {
   "cell_type": "markdown",
   "id": "5297ea10",
   "metadata": {},
   "source": [
    "    Exercise 6.1 :\n",
    "    - Create a list of 100 random number between 0 and 100\n",
    "    - With a for loop, keep only the even number"
   ]
  },
  {
   "cell_type": "code",
   "execution_count": null,
   "id": "834a75f9",
   "metadata": {},
   "outputs": [],
   "source": []
  },
  {
   "cell_type": "markdown",
   "id": "1df9d2d0",
   "metadata": {},
   "source": [
    "    *Exercise 6.2 :\n",
    "    - Create a list of 365 random number between 0 and 40 (random temperature)\n",
    "    - If temperature is superior to 34 during 3 days, we consider a heat wave : do you observe a heat wave this year? "
   ]
  },
  {
   "cell_type": "code",
   "execution_count": null,
   "id": "13f560bf",
   "metadata": {},
   "outputs": [],
   "source": []
  },
  {
   "cell_type": "markdown",
   "id": "0d73eda3",
   "metadata": {},
   "source": [
    "    Exercise 6.3 :\n",
    "    Generate a timestamp. If it is an even number, compute the timestamp of tomorrow at the exactly same time. Else, do it again until it works"
   ]
  },
  {
   "cell_type": "code",
   "execution_count": null,
   "id": "fd36c879",
   "metadata": {},
   "outputs": [],
   "source": []
  },
  {
   "cell_type": "markdown",
   "id": "15ed76e4",
   "metadata": {},
   "source": [
    "    *Exercise 6.4 :\n",
    "    Create a quizz : Guess the number of inhabitant in Aix en Provence\n",
    "    Create several levels very cold, cold, hot, very hot, exact number !\n"
   ]
  },
  {
   "cell_type": "code",
   "execution_count": null,
   "id": "66ce0df4",
   "metadata": {},
   "outputs": [],
   "source": []
  },
  {
   "cell_type": "markdown",
   "id": "aae60b2a",
   "metadata": {},
   "source": [
    "### Exercise 7 : text files"
   ]
  },
  {
   "cell_type": "markdown",
   "id": "a80eede7",
   "metadata": {},
   "source": [
    "    Exercise 7.1\n",
    "    Read the file \"le lion et le rat\", add a space between each row and save this new text"
   ]
  },
  {
   "cell_type": "code",
   "execution_count": null,
   "id": "a5f98e96",
   "metadata": {},
   "outputs": [],
   "source": []
  },
  {
   "cell_type": "markdown",
   "id": "734803e6",
   "metadata": {},
   "source": [
    "    Exercise 7.2\n",
    "    - Read the file \"le lion et le rat\", split it by verse and save each verse in a text file (in a specific folder)\n",
    "    - Then reassemble the initial text\n"
   ]
  },
  {
   "cell_type": "code",
   "execution_count": null,
   "id": "e37ff9a5",
   "metadata": {},
   "outputs": [],
   "source": []
  },
  {
   "cell_type": "markdown",
   "id": "1df76be0",
   "metadata": {},
   "source": [
    "    Exercise 7.3\n",
    "    Open the log file and make it more clear : generate a break between numbers and add a understanble sentence "
   ]
  },
  {
   "cell_type": "code",
   "execution_count": null,
   "id": "d582a453",
   "metadata": {},
   "outputs": [],
   "source": []
  },
  {
   "cell_type": "markdown",
   "id": "6f2723ed",
   "metadata": {},
   "source": [
    "### *Exercise 8 - dates"
   ]
  },
  {
   "cell_type": "markdown",
   "id": "3ae6aab1",
   "metadata": {},
   "source": [
    "    *Exercise 8.1\n",
    "    For each file of the data folder, find the creation date and give the number of day between the creation and now"
   ]
  },
  {
   "cell_type": "code",
   "execution_count": null,
   "id": "ae66fd8d",
   "metadata": {},
   "outputs": [],
   "source": []
  },
  {
   "cell_type": "markdown",
   "id": "ce5c6b43",
   "metadata": {},
   "source": [
    "    Exercise 8.2\n",
    "    With the math module, rebuild the normal distribution density formula"
   ]
  },
  {
   "cell_type": "code",
   "execution_count": null,
   "id": "63b96892",
   "metadata": {},
   "outputs": [],
   "source": []
  },
  {
   "cell_type": "markdown",
   "id": "02a95d24",
   "metadata": {},
   "source": [
    "    *Exercise 8.3\n",
    "    Compute the number of day between today and your birthday"
   ]
  },
  {
   "cell_type": "code",
   "execution_count": 15,
   "id": "7517bd37",
   "metadata": {},
   "outputs": [],
   "source": []
  },
  {
   "cell_type": "markdown",
   "id": "707aeea1",
   "metadata": {},
   "source": [
    "    Exercise 8.4\n",
    "    Using the poem \"le lion et le rat\", put all lines in a list and choose one randomly.\n",
    "    Create a pseudonyme with this word and your username (windows)"
   ]
  },
  {
   "cell_type": "code",
   "execution_count": null,
   "id": "6c30af7f",
   "metadata": {},
   "outputs": [],
   "source": []
  },
  {
   "cell_type": "markdown",
   "id": "36c84bd9",
   "metadata": {},
   "source": [
    "    Exercise 8.5\n",
    "    Count all the files in the data folder by type"
   ]
  },
  {
   "cell_type": "code",
   "execution_count": null,
   "id": "abde302c",
   "metadata": {},
   "outputs": [],
   "source": []
  },
  {
   "cell_type": "markdown",
   "id": "bea2dfc9",
   "metadata": {},
   "source": [
    "### *Exercise 9 : functions"
   ]
  },
  {
   "cell_type": "markdown",
   "id": "d76462cd",
   "metadata": {},
   "source": [
    "    Exercise 9.1 \n",
    "    From one poem file (id) and the log file (pwd), generate a new id and a new password for a user, using a function.\n",
    "    Please make it as safe as possible !"
   ]
  },
  {
   "cell_type": "code",
   "execution_count": null,
   "id": "e8e2278c",
   "metadata": {},
   "outputs": [],
   "source": []
  },
  {
   "cell_type": "markdown",
   "id": "e517dcee",
   "metadata": {},
   "source": [
    "    *Exercise 9.2\n",
    "    Generate a function able to count the number of words, characters and lines from any text file "
   ]
  },
  {
   "cell_type": "code",
   "execution_count": null,
   "id": "dac5199e",
   "metadata": {},
   "outputs": [],
   "source": [
    "\n"
   ]
  },
  {
   "cell_type": "markdown",
   "id": "e9c94f4b",
   "metadata": {},
   "source": [
    "    Exercise 9.3\n",
    "    Create a function allowing to save a website source code in txt or html"
   ]
  },
  {
   "cell_type": "code",
   "execution_count": null,
   "id": "c42f3c8c",
   "metadata": {},
   "outputs": [],
   "source": []
  },
  {
   "cell_type": "markdown",
   "id": "aed9705d",
   "metadata": {},
   "source": [
    "### *Exercise 10"
   ]
  },
  {
   "cell_type": "markdown",
   "id": "99b8b6ea",
   "metadata": {},
   "source": [
    "    *Exercise 10.1 :\n",
    "    from a dictionary, create a function allowing to find a list of words, starting and ending by specific letters and containing some other letters in the order or not. The words returned in the list should start with a capital letter\n",
    "http://www.gwicks.net/dictionaries.htm"
   ]
  },
  {
   "cell_type": "code",
   "execution_count": null,
   "id": "717644e7",
   "metadata": {},
   "outputs": [],
   "source": []
  },
  {
   "cell_type": "markdown",
   "id": "bfd2d31e",
   "metadata": {},
   "source": [
    "    Exercise 10.2 :\n",
    "    - Extract a text from a wikipedia webpage\n",
    "    - Prepare the text\n",
    "    - Compute word frequency"
   ]
  },
  {
   "cell_type": "code",
   "execution_count": null,
   "id": "f206a0bc",
   "metadata": {},
   "outputs": [],
   "source": []
  },
  {
   "cell_type": "markdown",
   "id": "d726e6d7",
   "metadata": {},
   "source": [
    "### Exercise 11 : json"
   ]
  },
  {
   "cell_type": "markdown",
   "id": "b116284e",
   "metadata": {},
   "source": [
    "    Exercise 11.1 :\n",
    "    - Put all your environment variables into a dictionary\n",
    "    - Print your login from the dict\n",
    "    - Add a key with containing your personal data (\"Name\", \"City\" and \"Age\")"
   ]
  },
  {
   "cell_type": "code",
   "execution_count": null,
   "id": "a3bdc207",
   "metadata": {},
   "outputs": [],
   "source": [
    "\n"
   ]
  },
  {
   "cell_type": "markdown",
   "id": "e4bd8688",
   "metadata": {},
   "source": [
    "    *Exercise 11.2 :\n",
    "    - Extract the metadata of the AMSE photo\n",
    "    - Keep only the GPS info, the device and the date\n",
    "    - Save it in a JSON"
   ]
  },
  {
   "cell_type": "code",
   "execution_count": null,
   "id": "b54eef1a",
   "metadata": {},
   "outputs": [],
   "source": []
  },
  {
   "cell_type": "markdown",
   "id": "0e97ce9d",
   "metadata": {},
   "source": [
    "    Exercise 11.3 \n",
    "    - Copy paste this text in a bloc note :  https://www.gutenberg.org/files/1342/1342-0.txt\n",
    "    - Let's clean the test together\n",
    "    - Find the most 5 frequent word\n",
    "    - BONUS : Find the important word (TFIDF)"
   ]
  },
  {
   "cell_type": "code",
   "execution_count": null,
   "id": "4f694cd4",
   "metadata": {},
   "outputs": [],
   "source": []
  },
  {
   "cell_type": "markdown",
   "id": "c50f9070",
   "metadata": {},
   "source": [
    "    Exercise 11.4 \n",
    "    - Find another book from this site\n",
    "    - Clean it the same way you did before\n",
    "    - Find the common words used"
   ]
  },
  {
   "cell_type": "code",
   "execution_count": null,
   "id": "2413f192",
   "metadata": {},
   "outputs": [],
   "source": []
  },
  {
   "cell_type": "markdown",
   "id": "6b2dc56a",
   "metadata": {},
   "source": [
    "### Exercise 12 : create a library"
   ]
  },
  {
   "cell_type": "markdown",
   "id": "35aedeac",
   "metadata": {},
   "source": [
    "    *Exercise 12.1 \n",
    "    Create library allowing you to clean the text in one step and to find common words in 2 texts"
   ]
  },
  {
   "cell_type": "code",
   "execution_count": null,
   "id": "9a21bc81",
   "metadata": {},
   "outputs": [],
   "source": []
  },
  {
   "cell_type": "code",
   "execution_count": null,
   "id": "27d73ee5",
   "metadata": {},
   "outputs": [],
   "source": []
  },
  {
   "cell_type": "code",
   "execution_count": null,
   "id": "ea025bde",
   "metadata": {},
   "outputs": [],
   "source": []
  },
  {
   "cell_type": "markdown",
   "id": "58f68dad",
   "metadata": {},
   "source": [
    "    Exercise 12.2\n",
    "    Let's trade together ! \n",
    "    Create library allowing to compute moving average (you can build it with the btc.csv file)"
   ]
  },
  {
   "cell_type": "code",
   "execution_count": null,
   "id": "c26ef297",
   "metadata": {},
   "outputs": [],
   "source": []
  },
  {
   "cell_type": "markdown",
   "id": "fee6c897",
   "metadata": {},
   "source": [
    "    Exercise 12.3\n",
    "    Based on the picture \"AMSE photo\", create library allowing to convert a colored pictured, apply a blur method (let the user choose) and save it"
   ]
  },
  {
   "cell_type": "code",
   "execution_count": null,
   "id": "4b90c2db",
   "metadata": {},
   "outputs": [],
   "source": []
  },
  {
   "cell_type": "markdown",
   "id": "bbc7c636",
   "metadata": {},
   "source": [
    "### Exercise 13 : command lines"
   ]
  },
  {
   "cell_type": "markdown",
   "id": "434c3e4b",
   "metadata": {},
   "source": [
    "    Create a 3 command lines allowing to run the 3 libraries you did before (input : one file, output : a new file)"
   ]
  },
  {
   "cell_type": "code",
   "execution_count": null,
   "id": "2abfbd75",
   "metadata": {},
   "outputs": [],
   "source": []
  },
  {
   "cell_type": "markdown",
   "id": "4b0db15c",
   "metadata": {},
   "source": [
    "### Exercise 14 : data frames"
   ]
  },
  {
   "cell_type": "markdown",
   "id": "a357e333",
   "metadata": {},
   "source": [
    "    Exercise 14.1 :\n",
    "    - With the 4 datasets about wine quality and characteristics, rebuild a single dataset\n",
    "    - Display variables type and convert if need. Display also the dataset characteristics\n",
    "    - Define an index\n",
    "    - check if they are missing values and find a strategy to deal with this problem\n",
    "    - Remove the quality ranks which have less then 50 occurences\n",
    "    - Order the rows by quality rank\n",
    "    - Give some stats figures for each columns\n",
    "    - Display a correlation matrix in one graph\n",
    "    - Create a boxplot for each variable"
   ]
  },
  {
   "cell_type": "code",
   "execution_count": null,
   "id": "819dd01d",
   "metadata": {},
   "outputs": [],
   "source": []
  },
  {
   "cell_type": "markdown",
   "id": "51f2ae48",
   "metadata": {},
   "source": [
    "    Exercise 14.2 :\n",
    "    - Compute an ANOVA test for each variable according to the quality column\n",
    "    - Display the results into one or more understandable graphs"
   ]
  },
  {
   "cell_type": "code",
   "execution_count": null,
   "id": "e78011b1",
   "metadata": {},
   "outputs": [],
   "source": []
  },
  {
   "cell_type": "markdown",
   "id": "0ab2e3a4",
   "metadata": {},
   "source": [
    "    Exercise 14.3 :\n",
    "    Let's suppose the float variables are normally distributed.\n",
    "    - Create a function to standardize the columns\n",
    "    - Do a PCA analysis from scratch (Numpy) and choose the right number of components\n",
    "    - Print eigen values in a graph\n",
    "    - Print explained variance in a graph"
   ]
  },
  {
   "cell_type": "code",
   "execution_count": 48,
   "id": "0cb63fe4",
   "metadata": {},
   "outputs": [],
   "source": []
  },
  {
   "cell_type": "markdown",
   "id": "3289ddb1",
   "metadata": {},
   "source": [
    "    Exercise 14.4 :\n",
    "    The quality variable seems to be relevant. Let's compute a new clustering\n",
    "    - Compute a DB Scan clustering to have new clusters\n",
    "    - Create a graph to show the share of each cluster\n",
    "    - Create a spyder graph for 6 columns you will choose to show the characteristics of each cluster"
   ]
  },
  {
   "cell_type": "code",
   "execution_count": null,
   "id": "3f4dc190",
   "metadata": {},
   "outputs": [],
   "source": []
  },
  {
   "cell_type": "markdown",
   "id": "69d59bcd",
   "metadata": {},
   "source": [
    "### Exercise 15 : Regex"
   ]
  },
  {
   "cell_type": "code",
   "execution_count": 53,
   "id": "735bd1ca",
   "metadata": {},
   "outputs": [],
   "source": [
    "text_airbus = \"At Airbus, we build A321, A400M and A380\"\n",
    "\n",
    "text_phone = \"Hey I just met you, this is crazy, here is my number, so call me maybe : 06 10 30 74 21\"\n",
    "\n",
    "text_master = \"At AMSE, you could join several Masters : M2 MBSE, M2 APE, M2 Finance\""
   ]
  },
  {
   "cell_type": "code",
   "execution_count": null,
   "id": "53296d16",
   "metadata": {},
   "outputs": [],
   "source": []
  }
 ],
 "metadata": {
  "kernelspec": {
   "display_name": "Python 3 (ipykernel)",
   "language": "python",
   "name": "python3"
  },
  "language_info": {
   "codemirror_mode": {
    "name": "ipython",
    "version": 3
   },
   "file_extension": ".py",
   "mimetype": "text/x-python",
   "name": "python",
   "nbconvert_exporter": "python",
   "pygments_lexer": "ipython3",
   "version": "3.9.12"
  }
 },
 "nbformat": 4,
 "nbformat_minor": 5
}
